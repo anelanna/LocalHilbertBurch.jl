{
 "cells": [
  {
   "cell_type": "code",
   "execution_count": 10,
   "metadata": {},
   "outputs": [
    {
     "name": "stdout",
     "output_type": "stream",
     "text": [
      "polymake version 4.9\n",
      "Copyright (c) 1997-2023\n",
      "Ewgenij Gawrilow, Michael Joswig, and the polymake team\n",
      "Technische Universität Berlin, Germany\n",
      "https://polymake.org\n",
      "\n",
      "This is free software licensed under GPL; see the source for copying conditions.\n",
      "There is NO warranty; not even for MERCHANTABILITY or FITNESS FOR A PARTICULAR PURPOSE.\n",
      "\n",
      "Singular.jl, based on\n",
      "                     SINGULAR                               /\n",
      " A Computer Algebra System for Polynomial Computations     /  Singular.jl: 0.18.2\n",
      "                                                         0<   Singular   : 4.3.2p1\n",
      " by: W. Decker, G.-M. Greuel, G. Pfister, H. Schoenemann   \\\n",
      "FB Mathematik der Universitaet, D-67653 Kaiserslautern      \\\n",
      "     \n",
      " -----    -----    -----      -      -----   \n",
      "|     |  |     |  |     |    | |    |     |  \n",
      "|     |  |        |         |   |   |     |  \n",
      "|     |   -----   |        |     |  |-----   \n",
      "|     |        |  |        |-----|  |   |    \n",
      "|     |  |     |  |     |  |     |  |    |   \n",
      " -----    -----    -----   -     -  -     -  \n",
      "\n",
      "...combining (and extending) ANTIC, GAP, Polymake and Singular\n",
      "Version\u001b[32m 0.12.0 \u001b[39m... \n",
      " ... which comes with absolutely no warranty whatsoever\n",
      "Type: '?Oscar' for more information\n",
      "(c) 2019-2023 by The OSCAR Development Team\n"
     ]
    }
   ],
   "source": [
    "using LocalHilbertBurch\n",
    "using Oscar"
   ]
  },
  {
   "cell_type": "code",
   "execution_count": 2,
   "metadata": {},
   "outputs": [
    {
     "data": {
      "text/plain": [
       "matrix2str (generic function with 1 method)"
      ]
     },
     "execution_count": 2,
     "metadata": {},
     "output_type": "execute_result"
    }
   ],
   "source": [
    "function matrix2str(A)\n",
    "    strA = \"  \" * join([join([string(a) for a in A[i,:]],\" & \") for i in 1:nrows(A)], \"\\\\\\\\\\n  \")\n",
    "    strA = \"\\\\begin{array}{\"*repeat(\"c\",ncols(A))*\"}\\n\" * strA * \"\\n\\\\end{array}\"\n",
    "    strA = \"\\\\left(\\n\" * strA * \"\\n\\\\right)\"\n",
    "    strA = \"\\\\(\\n\" * strA * \"\\n\\\\)\"\n",
    "    return strA\n",
    "end"
   ]
  },
  {
   "cell_type": "code",
   "execution_count": 3,
   "metadata": {},
   "outputs": [
    {
     "data": {
      "text/plain": [
       "showCell (generic function with 1 method)"
      ]
     },
     "execution_count": 3,
     "metadata": {},
     "output_type": "execute_result"
    }
   ],
   "source": [
    "function showCell(m, a, b)\n",
    "    n = sum(m)\n",
    "    R,_ = PolynomialRing(QQ, [[\"x\",\"y\"];[\"c_\"*string(i) for i in 1:(2*n)]])\n",
    "    Q,_ = GradedPolynomialRing(QQ, [\"x\", \"y\"]) \n",
    "    C = GradedCell(m,a,b,R,Q)\n",
    "    print(\"The cell has dimension \")\n",
    "    println(C.dim)\n",
    "    println(C.E)\n",
    "    println(\"H=\")\n",
    "    display(C.H)\n",
    "    println(\"W=\")\n",
    "    display(C.W)\n",
    "    println(\"rW=\")\n",
    "    display(C.rW)\n",
    "    println(\"M=\")\n",
    "    display(C.M)\n",
    "end"
   ]
  },
  {
   "cell_type": "code",
   "execution_count": 4,
   "metadata": {},
   "outputs": [
    {
     "data": {
      "text/plain": [
       "showCell_short (generic function with 1 method)"
      ]
     },
     "execution_count": 4,
     "metadata": {},
     "output_type": "execute_result"
    }
   ],
   "source": [
    "function showCell_short(m, a, b)\n",
    "    n = sum(m)\n",
    "    R,_ = PolynomialRing(QQ, [[\"x\",\"y\"];[\"c_\"*string(i) for i in 1:(2*n)]])\n",
    "    Q,_ = GradedPolynomialRing(QQ, [\"x\", \"y\"]) \n",
    "    C = GradedCell(m,a,b,R,Q)\n",
    "    print(\"The cell has dimension \")\n",
    "    println(C.dim)\n",
    "    println(\"M=\")\n",
    "    display(C.M)\n",
    "    println(\"rW=\")\n",
    "    display(C.rW)\n",
    "end"
   ]
  },
  {
   "cell_type": "code",
   "execution_count": 5,
   "metadata": {},
   "outputs": [
    {
     "data": {
      "text/plain": [
       "printCell_short (generic function with 1 method)"
      ]
     },
     "execution_count": 5,
     "metadata": {},
     "output_type": "execute_result"
    }
   ],
   "source": [
    "function printCell_short(m, a, b)\n",
    "    n = sum(m)\n",
    "    R,_ = PolynomialRing(QQ, [[\"x\",\"y\"];[\"c_{\"*string(i)*\"}\" for i in 1:(2*n)]])\n",
    "    Q,_ = GradedPolynomialRing(QQ, [\"x\", \"y\"]) \n",
    "    C = GradedCell(m,a,b,R,Q)\n",
    "    print(\"The cell has dimension \")\n",
    "    println(C.dim)\n",
    "    println(\"M=\")\n",
    "    println(matrix2str(C.M))\n",
    "    println(\"rW=\")\n",
    "    println(matrix2str(C.rW))\n",
    "end"
   ]
  },
  {
   "cell_type": "code",
   "execution_count": null,
   "metadata": {},
   "outputs": [],
   "source": [
    "m = [1,5,8,10]\n",
    "showCell(m,1,1)\n",
    "showCell_short(m,1,100)\n",
    "showCell_short(m,2,3)\n",
    "showCell_short(m,5,8)\n",
    "showCell_short(m,3,2)\n",
    "showCell_short(m,8,5)\n",
    "showCell_short(m,100,1)"
   ]
  },
  {
   "cell_type": "code",
   "execution_count": null,
   "metadata": {},
   "outputs": [],
   "source": [
    "m = [1,5,8,10]\n",
    "printCell_short(m,1,1)\n",
    "printCell_short(m,1,100)\n",
    "printCell_short(m,2,3)\n",
    "printCell_short(m,5,8)\n",
    "printCell_short(m,3,2)\n",
    "printCell_short(m,8,5)\n",
    "printCell_short(m,100,1)"
   ]
  },
  {
   "cell_type": "code",
   "execution_count": null,
   "metadata": {},
   "outputs": [],
   "source": [
    "m = [2,3,5,7]\n",
    "showCell(m,1,1)\n",
    "showCell_short(m,1,100)\n",
    "showCell_short(m,2,3)\n",
    "showCell_short(m,5,8)\n",
    "showCell_short(m,3,2)\n",
    "showCell_short(m,8,5)\n",
    "showCell_short(m,100,1)"
   ]
  },
  {
   "cell_type": "code",
   "execution_count": 6,
   "metadata": {},
   "outputs": [
    {
     "data": {
      "text/plain": [
       "table (generic function with 1 method)"
      ]
     },
     "execution_count": 6,
     "metadata": {},
     "output_type": "execute_result"
    }
   ],
   "source": [
    "function matrix2str(A)\n",
    "    strA = \"  \" * join([join([string(a) for a in A[i,:]],\" & \") for i in 1:nrows(A)], \"\\\\\\\\\\n  \")\n",
    "    strA = \"\\\\begin{array}{\"*repeat(\"c\",ncols(A))*\"}\\n\" * strA * \"\\n\\\\end{array}\"\n",
    "    strA = \"\\\\left(\\n\" * strA * \"\\n\\\\right)\"\n",
    "    strA = \"\\\\(\\n\" * strA * \"\\n\\\\)\"\n",
    "    return strA\n",
    "end\n",
    "\n",
    "function tablerow(c)\n",
    "    strm = string(c.m)\n",
    "    strrW = matrix2str(c.rW)\n",
    "    strM = matrix2str(c.M)\n",
    "    strRow = \"\\\\(\" * string(c.dim) * \"\\\\) & \\\\( \" * strm * \"\\\\) & \" * strM * \" & \" * strrW * \" \\\\\\\\\\n  \"\n",
    "    return(strRow)\n",
    "end\n",
    "\n",
    "function table(n,a,b)\n",
    "    celllist = graded_sorted_celllist(n,a,b)\n",
    "    strlabel = \"table\" *string(n)* string(a) * string(b)\n",
    "    strcaption = \"\\\\(n = \" * string(n) * \"\\\\), \\\\(a = \" * string(a) * \"\\\\), \\\\(b = \" * string(b) * \"\\\\)\"\n",
    "    strTable = \"\\\\begin{table} \\\\tiny{\\\\begin{tabular}{cccc} \\\\toprule dimension & m & \\\\(M = H+N\\\\) & degree bounds by \\\\(W\\\\)   \\\\\\\\\\n  \\\\toprule \"\n",
    "    for dim_selected in (n+1):(length(celllist)-1)\n",
    "        selected = celllist[dim_selected]\n",
    "        for c in selected\n",
    "            strTable = strTable * tablerow(c)\n",
    "        end\n",
    "        strTable = strTable * \"\\\\hline \"\n",
    "    end\n",
    "    strTable = strTable * \"\\\\end{tabular}} \\\\caption{\\\\label{\" * strlabel *\"}\" * strcaption * \"} \\\\end{table}\"\n",
    "    return(strTable)\n",
    "end"
   ]
  },
  {
   "cell_type": "code",
   "execution_count": null,
   "metadata": {},
   "outputs": [],
   "source": [
    "print(table(6,6,1))\n",
    "print(table(6,8,5))\n",
    "print(table(6,1,1))\n",
    "print(table(6,2,3))\n",
    "print(table(6,1,7))"
   ]
  },
  {
   "cell_type": "code",
   "execution_count": 11,
   "metadata": {},
   "outputs": [
    {
     "name": "stdout",
     "output_type": "stream",
     "text": [
      "\\begin{table} \\tiny{\\begin{tabular}{cccc} \\toprule dimension & m & \\(M = H+N\\) & degree bounds by \\(W\\)   \\\\\n",
      "  \\toprule \\(7\\) & \\( [1, 1, 1, 1, 1, 1]\\) & \\(\n",
      "\\left(\n",
      "\\begin{array}{cccccc}\n",
      "  y + c_{1} & 0 & 0 & 0 & 0 & 0\\\\\n",
      "  -x + c_{2} & 1 & 0 & 0 & 0 & 0\\\\\n",
      "  c_{3} & -x & 1 & 0 & 0 & 0\\\\\n",
      "  c_{4} & 0 & -x & 1 & 0 & 0\\\\\n",
      "  c_{5} & 0 & 0 & -x & 1 & 0\\\\\n",
      "  c_{6} & 0 & 0 & 0 & -x & 1\\\\\n",
      "  c_{7} & 0 & 0 & 0 & 0 & -x\n",
      "\\end{array}\n",
      "\\right)\n",
      "\\) & \\(\n",
      "\\left(\n",
      "\\begin{array}{cccccc}\n",
      "  0 & -1 & -3 & -4 & -6 & -7\\\\\n",
      "  1 & -1 & -2 & -4 & -5 & -7\\\\\n",
      "  3 & 1 & -1 & -2 & -4 & -5\\\\\n",
      "  4 & 3 & 1 & -1 & -2 & -4\\\\\n",
      "  6 & 4 & 3 & 1 & -1 & -2\\\\\n",
      "  7 & 6 & 4 & 3 & 1 & -1\\\\\n",
      "  9 & 7 & 6 & 4 & 3 & 1\n",
      "\\end{array}\n",
      "\\right)\n",
      "\\) \\\\\n",
      "  \\hline \\(8\\) & \\( [1, 1, 1, 1, 2]\\) & \\(\n",
      "\\left(\n",
      "\\begin{array}{ccccc}\n",
      "  y + c_{1} & 0 & 0 & 0 & 0\\\\\n",
      "  -x + c_{2} & 1 & 0 & 0 & 0\\\\\n",
      "  c_{3} & -x & 1 & 0 & 0\\\\\n",
      "  c_{4} & 0 & -x & 1 & 0\\\\\n",
      "  c_{5} & 0 & 0 & -x & y + c_{6}\\\\\n",
      "  c_{7} & 0 & 0 & 0 & -x + c_{8}\n",
      "\\end{array}\n",
      "\\right)\n",
      "\\) & \\(\n",
      "\\left(\n",
      "\\begin{array}{ccccc}\n",
      "  0 & -1 & -3 & -4 & -5\\\\\n",
      "  1 & -1 & -2 & -4 & -4\\\\\n",
      "  3 & 1 & -1 & -2 & -3\\\\\n",
      "  4 & 3 & 1 & -1 & -1\\\\\n",
      "  6 & 4 & 3 & 1 & 0\\\\\n",
      "  6 & 5 & 3 & 2 & 1\n",
      "\\end{array}\n",
      "\\right)\n",
      "\\) \\\\\n",
      "  \\(8\\) & \\( [1, 1, 2, 2]\\) & \\(\n",
      "\\left(\n",
      "\\begin{array}{cccc}\n",
      "  y + c_{1} & 0 & 0 & 0\\\\\n",
      "  -x + c_{2} & 1 & 0 & 0\\\\\n",
      "  c_{3} & -x & y + c_{4} & 0\\\\\n",
      "  c_{5} & 0 & -x + c_{6} & 1\\\\\n",
      "  c_{7} & 0 & c_{8} & -x\n",
      "\\end{array}\n",
      "\\right)\n",
      "\\) & \\(\n",
      "\\left(\n",
      "\\begin{array}{cccc}\n",
      "  0 & -1 & -2 & -3\\\\\n",
      "  1 & -1 & -1 & -3\\\\\n",
      "  3 & 1 & 0 & -1\\\\\n",
      "  3 & 2 & 1 & -1\\\\\n",
      "  5 & 3 & 3 & 1\n",
      "\\end{array}\n",
      "\\right)\n",
      "\\) \\\\\n",
      "  \\(8\\) & \\( [6]\\) & \\(\n",
      "\\left(\n",
      "\\begin{array}{c}\n",
      "  y^6 + y^5*c_{6} + y^4*c_{5} + y^3*c_{4} + y^2*c_{3} + y*c_{2} + c_{1}\\\\\n",
      "  -x + y*c_{8} + c_{7}\n",
      "\\end{array}\n",
      "\\right)\n",
      "\\) & \\(\n",
      "\\left(\n",
      "\\begin{array}{c}\n",
      "  5\\\\\n",
      "  1\n",
      "\\end{array}\n",
      "\\right)\n",
      "\\) \\\\\n",
      "  \\hline \\(9\\) & \\( [1, 1, 1, 3]\\) & \\(\n",
      "\\left(\n",
      "\\begin{array}{cccc}\n",
      "  y + c_{1} & 0 & 0 & 0\\\\\n",
      "  -x + c_{2} & 1 & 0 & 0\\\\\n",
      "  c_{3} & -x & 1 & 0\\\\\n",
      "  c_{4} & 0 & -x & y^2 + y*c_{6} + c_{5}\\\\\n",
      "  c_{7} & 0 & 0 & -x + y*c_{9} + c_{8}\n",
      "\\end{array}\n",
      "\\right)\n",
      "\\) & \\(\n",
      "\\left(\n",
      "\\begin{array}{cccc}\n",
      "  0 & -1 & -3 & -2\\\\\n",
      "  1 & -1 & -2 & -2\\\\\n",
      "  3 & 1 & -1 & 0\\\\\n",
      "  4 & 3 & 1 & 1\\\\\n",
      "  4 & 2 & 1 & 1\n",
      "\\end{array}\n",
      "\\right)\n",
      "\\) \\\\\n",
      "  \\(9\\) & \\( [1, 5]\\) & \\(\n",
      "\\left(\n",
      "\\begin{array}{cc}\n",
      "  y + c_{1} & c_{2}\\\\\n",
      "  -x + c_{3} & y^4 + y^3*c_{7} + y^2*c_{6} + y*c_{5} + c_{4}\\\\\n",
      "  0 & -x + y*c_{9} + c_{8}\n",
      "\\end{array}\n",
      "\\right)\n",
      "\\) & \\(\n",
      "\\left(\n",
      "\\begin{array}{cc}\n",
      "  0 & 3\\\\\n",
      "  1 & 3\\\\\n",
      "  -1 & 1\n",
      "\\end{array}\n",
      "\\right)\n",
      "\\) \\\\\n",
      "  \\(9\\) & \\( [2, 2, 2]\\) & \\(\n",
      "\\left(\n",
      "\\begin{array}{ccc}\n",
      "  y^2 + y*c_{2} + c_{1} & c_{3} & 0\\\\\n",
      "  -x + y*c_{5} + c_{4} & 1 & 0\\\\\n",
      "  y*c_{7} + c_{6} & -x & 1\\\\\n",
      "  y*c_{9} + c_{8} & 0 & -x\n",
      "\\end{array}\n",
      "\\right)\n",
      "\\) & \\(\n",
      "\\left(\n",
      "\\begin{array}{ccc}\n",
      "  1 & 0 & -2\\\\\n",
      "  1 & -1 & -2\\\\\n",
      "  3 & 1 & -1\\\\\n",
      "  4 & 3 & 1\n",
      "\\end{array}\n",
      "\\right)\n",
      "\\) \\\\\n",
      "  \\hline \\(10\\) & \\( [1, 1, 4]\\) & \\(\n",
      "\\left(\n",
      "\\begin{array}{ccc}\n",
      "  y + c_{1} & 0 & c_{2}\\\\\n",
      "  -x + c_{3} & 1 & 0\\\\\n",
      "  c_{4} & -x & y^3 + y^2*c_{7} + y*c_{6} + c_{5}\\\\\n",
      "  c_{8} & 0 & -x + y*c_{10} + c_{9}\n",
      "\\end{array}\n",
      "\\right)\n",
      "\\) & \\(\n",
      "\\left(\n",
      "\\begin{array}{ccc}\n",
      "  0 & -1 & 0\\\\\n",
      "  1 & -1 & 1\\\\\n",
      "  3 & 1 & 2\\\\\n",
      "  1 & 0 & 1\n",
      "\\end{array}\n",
      "\\right)\n",
      "\\) \\\\\n",
      "  \\(10\\) & \\( [3, 3]\\) & \\(\n",
      "\\left(\n",
      "\\begin{array}{cc}\n",
      "  y^3 + y^2*c_{3} + y*c_{2} + c_{1} & y*c_{5} + c_{4}\\\\\n",
      "  -x + y*c_{7} + c_{6} & 1\\\\\n",
      "  y^2*c_{10} + y*c_{9} + c_{8} & -x\n",
      "\\end{array}\n",
      "\\right)\n",
      "\\) & \\(\n",
      "\\left(\n",
      "\\begin{array}{cc}\n",
      "  2 & 1\\\\\n",
      "  1 & -1\\\\\n",
      "  3 & 1\n",
      "\\end{array}\n",
      "\\right)\n",
      "\\) \\\\\n",
      "  \\hline \\(11\\) & \\( [1, 2, 3]\\) & \\(\n",
      "\\left(\n",
      "\\begin{array}{ccc}\n",
      "  y + c_{1} & c_{2} & 0\\\\\n",
      "  -x + c_{3} & y + c_{4} & c_{5}\\\\\n",
      "  c_{6} & -x + c_{7} & y + c_{8}\\\\\n",
      "  c_{9} & c_{10} & -x + c_{11}\n",
      "\\end{array}\n",
      "\\right)\n",
      "\\) & \\(\n",
      "\\left(\n",
      "\\begin{array}{ccc}\n",
      "  0 & 0 & -1\\\\\n",
      "  1 & 0 & 0\\\\\n",
      "  2 & 1 & 0\\\\\n",
      "  2 & 2 & 1\n",
      "\\end{array}\n",
      "\\right)\n",
      "\\) \\\\\n",
      "  \\hline \\(12\\) & \\( [2, 4]\\) & \\(\n",
      "\\left(\n",
      "\\begin{array}{cc}\n",
      "  y^2 + y*c_{2} + c_{1} & y*c_{4} + c_{3}\\\\\n",
      "  -x + y*c_{6} + c_{5} & y^2 + y*c_{8} + c_{7}\\\\\n",
      "  y*c_{10} + c_{9} & -x + y*c_{12} + c_{11}\n",
      "\\end{array}\n",
      "\\right)\n",
      "\\) & \\(\n",
      "\\left(\n",
      "\\begin{array}{cc}\n",
      "  1 & 2\\\\\n",
      "  1 & 1\\\\\n",
      "  1 & 1\n",
      "\\end{array}\n",
      "\\right)\n",
      "\\) \\\\\n",
      "  \\hline \\end{tabular}} \\caption{\\label{table632}\\(n = 6\\), \\(a = 3\\), \\(b = 2\\)} \\end{table}"
     ]
    }
   ],
   "source": [
    "print(table(6,3,2))"
   ]
  },
  {
   "cell_type": "code",
   "execution_count": null,
   "metadata": {},
   "outputs": [],
   "source": [
    "print(table(6,1,1))\n",
    "print(table(6,1,3))\n",
    "print(table(6,1,7))\n",
    "print(table(6,2,3))\n",
    "print(table(6,8,5))\n",
    "print(table(6,3,2))\n",
    "print(table(6,5,8))\n",
    "print(table(6,6,1))"
   ]
  }
 ],
 "metadata": {
  "kernelspec": {
   "display_name": "Julia 1.8.5",
   "language": "julia",
   "name": "julia-1.8"
  },
  "language_info": {
   "file_extension": ".jl",
   "mimetype": "application/julia",
   "name": "julia",
   "version": "1.8.5"
  }
 },
 "nbformat": 4,
 "nbformat_minor": 4
}
