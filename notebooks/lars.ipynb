{
 "cells": [
  {
   "cell_type": "code",
   "execution_count": 3,
   "metadata": {},
   "outputs": [],
   "source": [
    "using LocalHilbertBurch\n",
    "using Oscar"
   ]
  },
  {
   "cell_type": "code",
   "execution_count": 4,
   "metadata": {},
   "outputs": [
    {
     "data": {
      "text/plain": [
       "(Multivariate Polynomial Ring in x1, x2 over Rational Field, fmpq_mpoly[x1, x2])"
      ]
     },
     "execution_count": 4,
     "metadata": {},
     "output_type": "execute_result"
    }
   ],
   "source": [
    "R,x = PolynomialRing(QQ, 2)"
   ]
  },
  {
   "cell_type": "code",
   "execution_count": 5,
   "metadata": {},
   "outputs": [
    {
     "data": {
      "text/plain": [
       "3-element Vector{Int64}:\n",
       " 1\n",
       " 2\n",
       " 3"
      ]
     },
     "execution_count": 5,
     "metadata": {},
     "output_type": "execute_result"
    }
   ],
   "source": [
    "d = [1,2,3]"
   ]
  },
  {
   "cell_type": "code",
   "execution_count": 6,
   "metadata": {},
   "outputs": [
    {
     "data": {
      "text/plain": [
       "[ 1    0   3]\n",
       "[ 1    0   3]\n",
       "[ 2    1   4]\n",
       "[-1   -2   1]"
      ]
     },
     "execution_count": 6,
     "metadata": {},
     "output_type": "execute_result"
    }
   ],
   "source": [
    "U_matrix([1,1,5])"
   ]
  },
  {
   "cell_type": "code",
   "execution_count": 9,
   "metadata": {},
   "outputs": [
    {
     "data": {
      "text/plain": [
       "[8]\n",
       "[1]"
      ]
     },
     "execution_count": 9,
     "metadata": {},
     "output_type": "execute_result"
    }
   ],
   "source": [
    "order_bounds([7])"
   ]
  },
  {
   "cell_type": "code",
   "execution_count": 10,
   "metadata": {},
   "outputs": [
    {
     "data": {
      "text/plain": [
       "[0   0   0]\n",
       "[0   0   0]\n",
       "[0   0   1]\n",
       "[0   0   1]"
      ]
     },
     "execution_count": 10,
     "metadata": {},
     "output_type": "execute_result"
    }
   ],
   "source": [
    "degree_bounds([1,2,4])"
   ]
  },
  {
   "cell_type": "code",
   "execution_count": 77,
   "metadata": {},
   "outputs": [],
   "source": [
    "list = Dict{Int64, Dict{Int64, Vector{Cell}}}()\n",
    "dimlist = Dict{Int64, Dict{Int64, Int64}}()\n",
    "for n in 1:20\n",
    "    list[n] = sorted_celllist(n)\n",
    "    dimlist[n] = Dict{Int64, Int64}()\n",
    "    for k in keys(list[n])\n",
    "        dimlist[n][k] = length(list[n][k])\n",
    "    end\n",
    "end"
   ]
  },
  {
   "cell_type": "code",
   "execution_count": 78,
   "metadata": {},
   "outputs": [
    {
     "data": {
      "text/plain": [
       "20-element Vector{Vector{Int64}}:\n",
       " [1]\n",
       " [1, 1]\n",
       " [1, 1, 1]\n",
       " [1, 1, 2, 1]\n",
       " [1, 1, 2, 2, 1]\n",
       " [1, 1, 2, 3, 3, 1]\n",
       " [1, 1, 2, 3, 4, 3, 1]\n",
       " [1, 1, 2, 3, 5, 5, 4, 1]\n",
       " [1, 1, 2, 3, 5, 6, 7, 4, 1]\n",
       " [1, 1, 2, 3, 5, 7, 9, 8, 5, 1]\n",
       " [1, 1, 2, 3, 5, 7, 10, 11, 10, 5, 1]\n",
       " [1, 1, 2, 3, 5, 7, 11, 13, 15, 12, 6, 1]\n",
       " [1, 1, 2, 3, 5, 7, 11, 14, 18, 18, 14, 6, 1]\n",
       " [1, 1, 2, 3, 5, 7, 11, 15, 20, 23, 23, 16, 7, 1]\n",
       " [1, 1, 2, 3, 5, 7, 11, 15, 21, 26, 30, 27, 19, 7, 1]\n",
       " [1, 1, 2, 3, 5, 7, 11, 15, 22, 28, 35, 37, 34, 21, 8, 1]\n",
       " [1, 1, 2, 3, 5, 7, 11, 15, 22, 29, 38, 44, 47, 39, 24, 8, 1]\n",
       " [1, 1, 2, 3, 5, 7, 11, 15, 22, 30, 40, 49, 58, 57, 47, 27, 9, 1]\n",
       " [1, 1, 2, 3, 5, 7, 11, 15, 22, 30, 41, 52, 65, 71, 70, 54, 30, 9, 1]\n",
       " [1, 1, 2, 3, 5, 7, 11, 15, 22, 30, 42, 54, 70, 82, 90, 84, 64, 33, 10, 1]"
      ]
     },
     "execution_count": 78,
     "metadata": {},
     "output_type": "execute_result"
    }
   ],
   "source": [
    "as_matrix = [[dimlist[i][j] for j in sort([keys(dimlist[i])...])] for i in sort([keys(dimlist)...])]"
   ]
  },
  {
   "cell_type": "code",
   "execution_count": 79,
   "metadata": {
    "scrolled": false
   },
   "outputs": [
    {
     "data": {
      "text/plain": [
       "210-element Vector{Int64}:\n",
       "  1\n",
       "  1\n",
       "  1\n",
       "  1\n",
       "  1\n",
       "  1\n",
       "  1\n",
       "  1\n",
       "  2\n",
       "  1\n",
       "  1\n",
       "  1\n",
       "  2\n",
       "  ⋮\n",
       " 22\n",
       " 30\n",
       " 42\n",
       " 54\n",
       " 70\n",
       " 82\n",
       " 90\n",
       " 84\n",
       " 64\n",
       " 33\n",
       " 10\n",
       "  1"
      ]
     },
     "execution_count": 79,
     "metadata": {},
     "output_type": "execute_result"
    }
   ],
   "source": [
    "as_vector = vcat(as_matrix...)"
   ]
  },
  {
   "cell_type": "code",
   "execution_count": 80,
   "metadata": {},
   "outputs": [
    {
     "data": {
      "text/plain": [
       "Dict{Int64, Int64} with 9870 entries:\n",
       "  4986 => 14883\n",
       "  7329 => 3087227\n",
       "  4700 => 63261\n",
       "  4576 => 176\n",
       "  7144 => 3\n",
       "  6073 => 10243651\n",
       "  2288 => 30\n",
       "  1703 => 40831\n",
       "  1956 => 2\n",
       "  8437 => 239943\n",
       "  2350 => 3\n",
       "  7685 => 715220\n",
       "  8690 => 63261\n",
       "  5975 => 28622740\n",
       "  9773 => 53174\n",
       "  3406 => 2\n",
       "  2841 => 327748\n",
       "  2876 => 1958\n",
       "  687  => 623\n",
       "  7353 => 63569321\n",
       "  185  => 71\n",
       "  1090 => 22\n",
       "  2015 => 31\n",
       "  7272 => 56\n",
       "  8544 => 3718\n",
       "  ⋮    => ⋮"
      ]
     },
     "execution_count": 80,
     "metadata": {},
     "output_type": "execute_result"
    }
   ],
   "source": [
    "oeis_data = Dict{Int64, Int64}()\n",
    "f = open(\"/home/lars/repos/LocalHilbertBurch.jl/b058398.txt\", \"r\")\n",
    "for lines in readlines(f)\n",
    " \n",
    "    s = split(lines,\" \")\n",
    "    position = parse(Int64, s[1])\n",
    "    dimension = parse(Int64, s[2])\n",
    "    oeis_data[position] = dimension\n",
    " \n",
    "end\n",
    "close(f)\n",
    "oeis_data"
   ]
  },
  {
   "cell_type": "code",
   "execution_count": 81,
   "metadata": {},
   "outputs": [
    {
     "data": {
      "text/plain": [
       "true"
      ]
     },
     "execution_count": 81,
     "metadata": {},
     "output_type": "execute_result"
    }
   ],
   "source": [
    "as_vector == [oeis_data[i] for i in 1:length(as_vector)]"
   ]
  },
  {
   "cell_type": "code",
   "execution_count": null,
   "metadata": {},
   "outputs": [],
   "source": [
    "for n in 31:41\n",
    "    list[n] = sorted_celllist(n)\n",
    "end"
   ]
  },
  {
   "cell_type": "code",
   "execution_count": 15,
   "metadata": {},
   "outputs": [
    {
     "ename": "LoadError",
     "evalue": "The following package names could not be resolved:\n * OEIS (not found in project, manifest or registry)\n\u001b[36m   Suggestions:\u001b[39m \u001b[0m\u001b[1mO\u001b[22mM\u001b[0m\u001b[1mE\u001b[22m\u001b[0m\u001b[1mi\u001b[22mn\u001b[0m\u001b[1ms\u001b[22mum \u001b[0m\u001b[1mO\u001b[22mM\u001b[0m\u001b[1mE\u001b[22m\u001b[0m\u001b[1mi\u001b[22mn\u001b[0m\u001b[1ms\u001b[22mumContractionOrders Pl\u001b[0m\u001b[1mo\u001b[22mtS\u001b[0m\u001b[1me\u001b[22m\u001b[0m\u001b[1mi\u001b[22m\u001b[0m\u001b[1ms\u001b[22m",
     "output_type": "error",
     "traceback": [
      "The following package names could not be resolved:\n * OEIS (not found in project, manifest or registry)\n\u001b[36m   Suggestions:\u001b[39m \u001b[0m\u001b[1mO\u001b[22mM\u001b[0m\u001b[1mE\u001b[22m\u001b[0m\u001b[1mi\u001b[22mn\u001b[0m\u001b[1ms\u001b[22mum \u001b[0m\u001b[1mO\u001b[22mM\u001b[0m\u001b[1mE\u001b[22m\u001b[0m\u001b[1mi\u001b[22mn\u001b[0m\u001b[1ms\u001b[22mumContractionOrders Pl\u001b[0m\u001b[1mo\u001b[22mtS\u001b[0m\u001b[1me\u001b[22m\u001b[0m\u001b[1mi\u001b[22m\u001b[0m\u001b[1ms\u001b[22m",
      "",
      "Stacktrace:",
      "  [1] pkgerror(msg::String)",
      "    @ Pkg.Types ~/installed/julia-1.8.5/share/julia/stdlib/v1.8/Pkg/src/Types.jl:67",
      "  [2] ensure_resolved(ctx::Pkg.Types.Context, manifest::Pkg.Types.Manifest, pkgs::Vector{Pkg.Types.PackageSpec}; registry::Bool)",
      "    @ Pkg.Types ~/installed/julia-1.8.5/share/julia/stdlib/v1.8/Pkg/src/Types.jl:952",
      "  [3] add(ctx::Pkg.Types.Context, pkgs::Vector{Pkg.Types.PackageSpec}; preserve::Pkg.Types.PreserveLevel, platform::Base.BinaryPlatforms.Platform, kwargs::Base.Pairs{Symbol, IJulia.IJuliaStdio{Base.PipeEndpoint}, Tuple{Symbol}, NamedTuple{(:io,), Tuple{IJulia.IJuliaStdio{Base.PipeEndpoint}}}})",
      "    @ Pkg.API ~/installed/julia-1.8.5/share/julia/stdlib/v1.8/Pkg/src/API.jl:264",
      "  [4] add(pkgs::Vector{Pkg.Types.PackageSpec}; io::IJulia.IJuliaStdio{Base.PipeEndpoint}, kwargs::Base.Pairs{Symbol, Union{}, Tuple{}, NamedTuple{(), Tuple{}}})",
      "    @ Pkg.API ~/installed/julia-1.8.5/share/julia/stdlib/v1.8/Pkg/src/API.jl:156",
      "  [5] add(pkgs::Vector{Pkg.Types.PackageSpec})",
      "    @ Pkg.API ~/installed/julia-1.8.5/share/julia/stdlib/v1.8/Pkg/src/API.jl:145",
      "  [6] #add#27",
      "    @ ~/installed/julia-1.8.5/share/julia/stdlib/v1.8/Pkg/src/API.jl:144 [inlined]",
      "  [7] add",
      "    @ ~/installed/julia-1.8.5/share/julia/stdlib/v1.8/Pkg/src/API.jl:144 [inlined]",
      "  [8] #add#26",
      "    @ ~/installed/julia-1.8.5/share/julia/stdlib/v1.8/Pkg/src/API.jl:143 [inlined]",
      "  [9] add(pkg::String)",
      "    @ Pkg.API ~/installed/julia-1.8.5/share/julia/stdlib/v1.8/Pkg/src/API.jl:143",
      " [10] top-level scope",
      "    @ In[15]:1"
     ]
    }
   ],
   "source": [
    "import Pkg; Pkg.add(\"OEIS\")"
   ]
  },
  {
   "cell_type": "code",
   "execution_count": 12,
   "metadata": {},
   "outputs": [
    {
     "ename": "LoadError",
     "evalue": "ArgumentError: Package OEIS not found in current path.\n- Run `import Pkg; Pkg.add(\"OEIS\")` to install the OEIS package.",
     "output_type": "error",
     "traceback": [
      "ArgumentError: Package OEIS not found in current path.\n- Run `import Pkg; Pkg.add(\"OEIS\")` to install the OEIS package.",
      "",
      "Stacktrace:",
      " [1] macro expansion",
      "   @ ./loading.jl:1163 [inlined]",
      " [2] macro expansion",
      "   @ ./lock.jl:223 [inlined]",
      " [3] require(into::Module, mod::Symbol)",
      "   @ Base ./loading.jl:1144"
     ]
    }
   ],
   "source": [
    "using OEIS"
   ]
  },
  {
   "cell_type": "code",
   "execution_count": 13,
   "metadata": {},
   "outputs": [
    {
     "ename": "LoadError",
     "evalue": "UndefVarError: oeis not defined",
     "output_type": "error",
     "traceback": [
      "UndefVarError: oeis not defined",
      "",
      "Stacktrace:",
      " [1] top-level scope",
      "   @ In[13]:1"
     ]
    }
   ],
   "source": [
    "s = oeis(:A058398)"
   ]
  },
  {
   "cell_type": "code",
   "execution_count": null,
   "metadata": {},
   "outputs": [],
   "source": [
    "c = list[10][5][3]"
   ]
  },
  {
   "cell_type": "code",
   "execution_count": null,
   "metadata": {},
   "outputs": [],
   "source": [
    "n = 7\n",
    "println(\"n = $(n)\")\n",
    "for dim_selected in 0:n-1\n",
    "        selected = list[n][dim_selected]\n",
    "        println(\"dim = $(dim_selected)\")\n",
    "        for c in selected\n",
    "            println(\"m=\")\n",
    "            println(c.m)\n",
    "            println(\"d=\")\n",
    "            println(c.d)\n",
    "            println(\"Hilbert function=\")\n",
    "            println(c.hilb)\n",
    "            println(\"U =\")\n",
    "            println(c.U) \n",
    "            println(\"N=\")\n",
    "            println(c.N)\n",
    "            println(\"Ideal=\")\n",
    "            println(c.I)\n",
    "        end\n",
    "    println()\n",
    "end"
   ]
  },
  {
   "cell_type": "code",
   "execution_count": null,
   "metadata": {},
   "outputs": [],
   "source": [
    "R,_ = PolynomialRing(QQ, [[\"x\",\"y\"];[\"c\"*string(i) for i in 1:30]])\n",
    "m = [5]\n",
    "v = Vector{Cell}()\n",
    "for n in 1:20 \n",
    "    c = Cell(copy(m),R)\n",
    "    push!(v,c)\n",
    "    prepend!(m,1)\n",
    "end"
   ]
  },
  {
   "cell_type": "code",
   "execution_count": null,
   "metadata": {
    "scrolled": true
   },
   "outputs": [],
   "source": [
    "for c in v\n",
    "    println(c.m)\n",
    "    println(c.dim)\n",
    "    display(c.U)\n",
    "    display(c.N)\n",
    "    println(\"_____________________________________\")\n",
    "    println()\n",
    "end"
   ]
  },
  {
   "cell_type": "code",
   "execution_count": null,
   "metadata": {},
   "outputs": [],
   "source": [
    "for partition in Generic.partitions(5)\n",
    "    println(reverse(partition))\n",
    "end"
   ]
  },
  {
   "cell_type": "code",
   "execution_count": null,
   "metadata": {},
   "outputs": [],
   "source": [
    "A = c.M"
   ]
  },
  {
   "cell_type": "code",
   "execution_count": null,
   "metadata": {},
   "outputs": [],
   "source": [
    "function matrix2str(A)\n",
    "    strA = \"  \" * join([join([string(a) for a in A[i,:]],\" & \") for i in 1:nrows(A)], \"\\\\\\\\\\n  \")\n",
    "    strA = \"\\\\begin{array}{\"*repeat(\"c\",ncols(A))*\"}\\n\" * strA * \"\\n\\\\end{array}\"\n",
    "    strA = \"\\\\left(\\n\" * strA * \"\\n\\\\right)\"\n",
    "    strA = \"\\\\(\\n\" * strA * \"\\n\\\\)\"\n",
    "    return strA\n",
    "end\n",
    "strA = matrix2str(A)\n",
    "println(strA)"
   ]
  },
  {
   "cell_type": "code",
   "execution_count": null,
   "metadata": {},
   "outputs": [],
   "source": [
    "function tablerow(c)\n",
    "    strm = string(c.m)\n",
    "    strhilb = string(c.hilb)\n",
    "    strM = matrix2str(c.M)\n",
    "    strRow = \"\\\\(\" *  strm * \"\\\\) & \\\\( \" * strhilb * \"\\\\) & \" * strM * \" & \" * string(c.dim) * \" \\\\\\\\\\n  \"\n",
    "    return(strRow)\n",
    "end\n",
    "\n",
    "function table(celllist)\n",
    "    strTable = \"\\\\tiny{ \\\\begin{tabular}{cccc} \\\\toprule m & Hilbert function & M & dimension  \\\\\\\\\\n  \\\\toprule \"\n",
    "    for dim_selected in 0:length(celllist)-1\n",
    "        selected = celllist[dim_selected]\n",
    "        for c in selected\n",
    "            strTable = strTable * tablerow(c)\n",
    "        end\n",
    "    end\n",
    "    strTable = strTable * \"\\\\end{tabular}}\"\n",
    "    return strTable\n",
    "end\n",
    "\n",
    "\n",
    "for i in 1:9\n",
    "    println(\"\\n n = \" * string(i) * \" \\n\" )\n",
    "    println(table(list[i]))\n",
    "end"
   ]
  },
  {
   "cell_type": "code",
   "execution_count": null,
   "metadata": {},
   "outputs": [],
   "source": []
  }
 ],
 "metadata": {
  "kernelspec": {
   "display_name": "Julia 1.8.5",
   "language": "julia",
   "name": "julia-1.8"
  },
  "language_info": {
   "file_extension": ".jl",
   "mimetype": "application/julia",
   "name": "julia",
   "version": "1.8.5"
  }
 },
 "nbformat": 4,
 "nbformat_minor": 4
}
