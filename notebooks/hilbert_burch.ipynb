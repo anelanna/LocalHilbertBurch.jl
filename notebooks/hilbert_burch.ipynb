{
 "cells": [
  {
   "cell_type": "code",
   "execution_count": 1,
   "metadata": {},
   "outputs": [
    {
     "name": "stdout",
     "output_type": "stream",
     "text": [
      " -----    -----    -----      -      -----   \n",
      "|     |  |     |  |     |    | |    |     |  \n",
      "|     |  |        |         |   |   |     |  \n",
      "|     |   -----   |        |     |  |-----   \n",
      "|     |        |  |        |-----|  |   |    \n",
      "|     |  |     |  |     |  |     |  |    |   \n",
      " -----    -----    -----   -     -  -     -  \n",
      "\n",
      "...combining (and extending) ANTIC, GAP, Polymake and Singular\n",
      "Version\u001b[32m 0.11.3-DEV \u001b[39m... \n",
      " ... which comes with absolutely no warranty whatsoever\n",
      "Type: '?Oscar' for more information\n",
      "(c) 2019-2023 by The OSCAR Development Team\n"
     ]
    }
   ],
   "source": [
    "using Oscar"
   ]
  },
  {
   "cell_type": "code",
   "execution_count": 2,
   "metadata": {},
   "outputs": [],
   "source": [
    "using LocalHilbertBurch"
   ]
  },
  {
   "cell_type": "code",
   "execution_count": 3,
   "metadata": {},
   "outputs": [
    {
     "data": {
      "text/plain": [
       "ideal(x^4*c3 + x^3*y*c2 + x^2*y*c1 + y^2, -x^4*c2 - x^3*c1 - x*y, x^4*c1 + x^2*y, -x^3*y, x^4*y, -x^5)"
      ]
     },
     "execution_count": 3,
     "metadata": {},
     "output_type": "execute_result"
    }
   ],
   "source": [
    "R,_ = PolynomialRing(QQ, [[\"x\",\"y\"];[\"c\"*string(i) for i in 1:6]])\n",
    "Q,_ = GradedPolynomialRing(QQ, [\"x\", \"y\"])\n",
    "c = Cell([1,1,1,1,2],R,Q)\n",
    "c.M\n",
    "c.I"
   ]
  },
  {
   "cell_type": "code",
   "execution_count": 11,
   "metadata": {},
   "outputs": [
    {
     "data": {
      "text/plain": [
       "(Multivariate Polynomial Ring in x1, x2 over Rational Field, fmpq_mpoly[x1, x2])"
      ]
     },
     "execution_count": 11,
     "metadata": {},
     "output_type": "execute_result"
    }
   ],
   "source": [
    "R,(x,y) = PolynomialRing(QQ, 2)"
   ]
  },
  {
   "cell_type": "code",
   "execution_count": null,
   "metadata": {},
   "outputs": [],
   "source": [
    "d = [1,2,3]"
   ]
  },
  {
   "cell_type": "code",
   "execution_count": 11,
   "metadata": {},
   "outputs": [
    {
     "data": {
      "text/plain": [
       "[1   0   -1   -2   -1]\n",
       "[1   0   -1   -2   -1]\n",
       "[2   1    0   -1    0]\n",
       "[3   2    1    0    1]\n",
       "[4   3    2    1    2]\n",
       "[3   2    1    0    1]"
      ]
     },
     "execution_count": 11,
     "metadata": {},
     "output_type": "execute_result"
    }
   ],
   "source": [
    "U_matrix([1,1,1,1,3])"
   ]
  },
  {
   "cell_type": "code",
   "execution_count": 5,
   "metadata": {},
   "outputs": [
    {
     "data": {
      "text/plain": [
       "[2   1   1   0]\n",
       "[1   1   1   0]\n",
       "[2   1   2   1]\n",
       "[2   1   1   1]\n",
       "[3   2   2   1]"
      ]
     },
     "execution_count": 5,
     "metadata": {},
     "output_type": "execute_result"
    }
   ],
   "source": [
    "order_bounds([1,1,2,2])"
   ]
  },
  {
   "cell_type": "code",
   "execution_count": null,
   "metadata": {},
   "outputs": [],
   "source": [
    "degree_bounds([1,2,4])"
   ]
  },
  {
   "cell_type": "code",
   "execution_count": null,
   "metadata": {},
   "outputs": [],
   "source": [
    "list = Dict{Int64, Dict{Int64, Vector{Cell}}}()\n",
    "for n in 1:30\n",
    "    list[n] = sorted_celllist(n)\n",
    "end"
   ]
  },
  {
   "cell_type": "code",
   "execution_count": null,
   "metadata": {},
   "outputs": [],
   "source": [
    "for n in 31:33\n",
    "    list[n] = sorted_celllist(n)\n",
    "end"
   ]
  },
  {
   "cell_type": "code",
   "execution_count": null,
   "metadata": {},
   "outputs": [],
   "source": []
  },
  {
   "cell_type": "code",
   "execution_count": 1,
   "metadata": {},
   "outputs": [],
   "source": [
    "using OEIS"
   ]
  },
  {
   "cell_type": "code",
   "execution_count": 2,
   "metadata": {},
   "outputs": [
    {
     "data": {
      "text/plain": [
       "98-element Vector{Integer}:\n",
       "  1\n",
       "  1\n",
       "  1\n",
       "  1\n",
       "  1\n",
       "  1\n",
       "  1\n",
       "  1\n",
       "  2\n",
       "  1\n",
       "  1\n",
       "  1\n",
       "  2\n",
       "  ⋮\n",
       " 18\n",
       " 18\n",
       " 14\n",
       "  6\n",
       "  1\n",
       "  1\n",
       "  1\n",
       "  2\n",
       "  3\n",
       "  5\n",
       "  7\n",
       " 11"
      ]
     },
     "execution_count": 2,
     "metadata": {},
     "output_type": "execute_result"
    }
   ],
   "source": [
    "s = oeis(:A058398)\n",
    "s.values"
   ]
  },
  {
   "cell_type": "code",
   "execution_count": 6,
   "metadata": {},
   "outputs": [
    {
     "data": {
      "text/plain": [
       "OEIS.IntegerSequence{Integer}: A008284\n",
       "  Triangle of partition numbers: T(n,k) = number of partitions of n in which the greatest part is k, 1 <= k <= n. Also number of partitions of n into k positive parts, 1 <= k <= n.\n",
       "  1,1,1,1,1,1,1,2,1,1,1,2,2,1,1,1,3,3,2,1,..."
      ]
     },
     "execution_count": 6,
     "metadata": {},
     "output_type": "execute_result"
    }
   ],
   "source": [
    "oeis(:A008284)"
   ]
  },
  {
   "cell_type": "code",
   "execution_count": null,
   "metadata": {},
   "outputs": [],
   "source": [
    "c = list[10][5][3]"
   ]
  },
  {
   "cell_type": "code",
   "execution_count": null,
   "metadata": {},
   "outputs": [],
   "source": [
    "n = 7\n",
    "println(\"n = $(n)\")\n",
    "for dim_selected in 0:n-1\n",
    "        selected = list[n][dim_selected]\n",
    "        println(\"dim = $(dim_selected)\")\n",
    "        for c in selected\n",
    "            println(\"m=\")\n",
    "            println(c.m)\n",
    "            println(\"d=\")\n",
    "            println(c.d)\n",
    "            println(\"Hilbert function=\")\n",
    "            println(c.hilb)\n",
    "            println(\"U =\")\n",
    "            println(c.U) \n",
    "            println(\"N=\")\n",
    "            println(c.N)\n",
    "            println(\"Ideal=\")\n",
    "            println(c.I)\n",
    "        end\n",
    "    println()\n",
    "end"
   ]
  },
  {
   "cell_type": "code",
   "execution_count": null,
   "metadata": {},
   "outputs": [],
   "source": [
    "R,_ = PolynomialRing(QQ, [[\"x\",\"y\"];[\"c\"*string(i) for i in 1:30]])\n",
    "m = [5]\n",
    "v = Vector{Cell}()\n",
    "for n in 1:20 \n",
    "    c = Cell(copy(m),R)\n",
    "    push!(v,c)\n",
    "    prepend!(m,1)\n",
    "end"
   ]
  },
  {
   "cell_type": "code",
   "execution_count": null,
   "metadata": {
    "scrolled": true
   },
   "outputs": [],
   "source": [
    "for c in v\n",
    "    println(c.m)\n",
    "    println(c.dim)\n",
    "    display(c.U)\n",
    "    display(c.N)\n",
    "    println(\"_____________________________________\")\n",
    "    println()\n",
    "end"
   ]
  },
  {
   "cell_type": "code",
   "execution_count": null,
   "metadata": {},
   "outputs": [],
   "source": [
    "for partition in Generic.partitions(5)\n",
    "    println(reverse(partition))\n",
    "end"
   ]
  },
  {
   "cell_type": "code",
   "execution_count": null,
   "metadata": {},
   "outputs": [],
   "source": [
    "A = c.M"
   ]
  },
  {
   "cell_type": "code",
   "execution_count": null,
   "metadata": {},
   "outputs": [],
   "source": [
    "function matrix2str(A)\n",
    "    strA = \"  \" * join([join([string(a) for a in A[i,:]],\" & \") for i in 1:nrows(A)], \"\\\\\\\\\\n  \")\n",
    "    strA = \"\\\\begin{array}{\"*repeat(\"c\",ncols(A))*\"}\\n\" * strA * \"\\n\\\\end{array}\"\n",
    "    strA = \"\\\\left(\\n\" * strA * \"\\n\\\\right)\"\n",
    "    strA = \"\\\\(\\n\" * strA * \"\\n\\\\)\"\n",
    "    return strA\n",
    "end\n",
    "strA = matrix2str(A)\n",
    "println(strA)"
   ]
  },
  {
   "cell_type": "code",
   "execution_count": null,
   "metadata": {},
   "outputs": [],
   "source": [
    "function tablerow(c)\n",
    "    strm = string(c.m)\n",
    "    strhilb = string(c.hilb)\n",
    "    strM = matrix2str(c.M)\n",
    "    strRow = \"\\\\(\" *  strm * \"\\\\) & \\\\( \" * strhilb * \"\\\\) & \" * strM * \" & \" * string(c.dim) * \" \\\\\\\\\\n  \"\n",
    "    return(strRow)\n",
    "end\n",
    "\n",
    "function table(celllist)\n",
    "    strTable = \"\\\\tiny{ \\\\begin{tabular}{cccc} \\\\toprule m & Hilbert function & M & dimension  \\\\\\\\\\n  \\\\toprule \"\n",
    "    for dim_selected in 0:length(celllist)-1\n",
    "        selected = celllist[dim_selected]\n",
    "        for c in selected\n",
    "            strTable = strTable * tablerow(c)\n",
    "        end\n",
    "    end\n",
    "    strTable = strTable * \"\\\\end{tabular}}\"\n",
    "    return strTable\n",
    "end\n",
    "\n",
    "\n",
    "for i in 1:9\n",
    "    println(\"\\n n = \" * string(i) * \" \\n\" )\n",
    "    println(table(list[i]))\n",
    "end"
   ]
  },
  {
   "cell_type": "code",
   "execution_count": null,
   "metadata": {},
   "outputs": [],
   "source": [
    "function iboxespositionj(i,j)\n",
    "    \"\\\\draw (\" * string(i-1)*\",\"0) -- \"(\" * string(i-1)*\",\"* string(j) * \") -- (\"\n",
    "end\n",
    "\n",
    "function drawboxes(m)\n",
    "    strBoxes = \"\\\\begin{tikzpicture} \" \n",
    "    t = size(m)\n",
    "    for i in 1:t\n",
    "       strBoxes = strBoxes * iboxespositionj(m[i],t-i+1);\n",
    "    end\n",
    "    strBoxes = strBoxes *\"\\\\end{tikzpicture}\"\n",
    "    return strBoxes\n",
    "end"
   ]
  }
 ],
 "metadata": {
  "kernelspec": {
   "display_name": "Julia 1.8.5",
   "language": "julia",
   "name": "julia-1.8"
  },
  "language_info": {
   "file_extension": ".jl",
   "mimetype": "application/julia",
   "name": "julia",
   "version": "1.8.5"
  }
 },
 "nbformat": 4,
 "nbformat_minor": 4
}
