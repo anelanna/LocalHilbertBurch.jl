{
 "cells": [
  {
   "cell_type": "code",
   "execution_count": 4,
   "metadata": {},
   "outputs": [
    {
     "name": "stdout",
     "output_type": "stream",
     "text": [
      " -----    -----    -----      -      -----   \n",
      "|     |  |     |  |     |    | |    |     |  \n",
      "|     |  |        |         |   |   |     |  \n",
      "|     |   -----   |        |     |  |-----   \n",
      "|     |        |  |        |-----|  |   |    \n",
      "|     |  |     |  |     |  |     |  |    |   \n",
      " -----    -----    -----   -     -  -     -  \n",
      "\n",
      "...combining (and extending) ANTIC, GAP, Polymake and Singular\n",
      "Version\u001b[32m 0.11.3-DEV \u001b[39m... \n",
      " ... which comes with absolutely no warranty whatsoever\n",
      "Type: '?Oscar' for more information\n",
      "(c) 2019-2023 by The OSCAR Development Team\n"
     ]
    }
   ],
   "source": [
    "using Oscar"
   ]
  },
  {
   "cell_type": "code",
   "execution_count": 5,
   "metadata": {},
   "outputs": [
    {
     "name": "stderr",
     "output_type": "stream",
     "text": [
      "\u001b[36m\u001b[1m[ \u001b[22m\u001b[39m\u001b[36m\u001b[1mInfo: \u001b[22m\u001b[39mPrecompiling LocalHilbertBurch [9e134104-6c8f-43ea-a53e-fc3fda40cbb2]\n"
     ]
    }
   ],
   "source": [
    "using LocalHilbertBurch"
   ]
  },
  {
   "cell_type": "code",
   "execution_count": 6,
   "metadata": {},
   "outputs": [
    {
     "data": {
      "text/plain": [
       "(Multivariate Polynomial Ring in x1, x2 over Rational Field, fmpq_mpoly[x1, x2])"
      ]
     },
     "execution_count": 6,
     "metadata": {},
     "output_type": "execute_result"
    }
   ],
   "source": [
    "R,x = PolynomialRing(QQ, 2)"
   ]
  },
  {
   "cell_type": "code",
   "execution_count": 7,
   "metadata": {},
   "outputs": [
    {
     "data": {
      "text/plain": [
       "3-element Vector{Int64}:\n",
       " 1\n",
       " 2\n",
       " 3"
      ]
     },
     "execution_count": 7,
     "metadata": {},
     "output_type": "execute_result"
    }
   ],
   "source": [
    "d = [1,2,3]"
   ]
  },
  {
   "cell_type": "code",
   "execution_count": 8,
   "metadata": {},
   "outputs": [
    {
     "data": {
      "text/plain": [
       "[ 1    0   3]\n",
       "[ 1    0   3]\n",
       "[ 2    1   4]\n",
       "[-1   -2   1]"
      ]
     },
     "execution_count": 8,
     "metadata": {},
     "output_type": "execute_result"
    }
   ],
   "source": [
    "U_matrix([1,1,5])"
   ]
  },
  {
   "cell_type": "code",
   "execution_count": 9,
   "metadata": {},
   "outputs": [
    {
     "data": {
      "text/plain": [
       "[8]\n",
       "[1]"
      ]
     },
     "execution_count": 9,
     "metadata": {},
     "output_type": "execute_result"
    }
   ],
   "source": [
    "order_bounds([7])"
   ]
  },
  {
   "cell_type": "code",
   "execution_count": 10,
   "metadata": {},
   "outputs": [
    {
     "data": {
      "text/plain": [
       "[0   0   0]\n",
       "[0   0   0]\n",
       "[0   0   1]\n",
       "[0   0   1]"
      ]
     },
     "execution_count": 10,
     "metadata": {},
     "output_type": "execute_result"
    }
   ],
   "source": [
    "degree_bounds([1,2,4])"
   ]
  },
  {
   "cell_type": "code",
   "execution_count": 11,
   "metadata": {},
   "outputs": [],
   "source": [
    "list = Dict{Int64, Dict{Int64, Vector{Cell}}}()\n",
    "for n in 1:30\n",
    "    list[n] = sorted_celllist(n)\n",
    "end"
   ]
  },
  {
   "cell_type": "code",
   "execution_count": null,
   "metadata": {},
   "outputs": [],
   "source": [
    "for n in 31:41\n",
    "    list[n] = sorted_celllist(n)\n",
    "end"
   ]
  },
  {
   "cell_type": "code",
   "execution_count": 15,
   "metadata": {},
   "outputs": [
    {
     "ename": "LoadError",
     "evalue": "The following package names could not be resolved:\n * OEIS (not found in project, manifest or registry)\n\u001b[36m   Suggestions:\u001b[39m \u001b[0m\u001b[1mO\u001b[22mM\u001b[0m\u001b[1mE\u001b[22m\u001b[0m\u001b[1mi\u001b[22mn\u001b[0m\u001b[1ms\u001b[22mum \u001b[0m\u001b[1mO\u001b[22mM\u001b[0m\u001b[1mE\u001b[22m\u001b[0m\u001b[1mi\u001b[22mn\u001b[0m\u001b[1ms\u001b[22mumContractionOrders Pl\u001b[0m\u001b[1mo\u001b[22mtS\u001b[0m\u001b[1me\u001b[22m\u001b[0m\u001b[1mi\u001b[22m\u001b[0m\u001b[1ms\u001b[22m",
     "output_type": "error",
     "traceback": [
      "The following package names could not be resolved:\n * OEIS (not found in project, manifest or registry)\n\u001b[36m   Suggestions:\u001b[39m \u001b[0m\u001b[1mO\u001b[22mM\u001b[0m\u001b[1mE\u001b[22m\u001b[0m\u001b[1mi\u001b[22mn\u001b[0m\u001b[1ms\u001b[22mum \u001b[0m\u001b[1mO\u001b[22mM\u001b[0m\u001b[1mE\u001b[22m\u001b[0m\u001b[1mi\u001b[22mn\u001b[0m\u001b[1ms\u001b[22mumContractionOrders Pl\u001b[0m\u001b[1mo\u001b[22mtS\u001b[0m\u001b[1me\u001b[22m\u001b[0m\u001b[1mi\u001b[22m\u001b[0m\u001b[1ms\u001b[22m",
      "",
      "Stacktrace:",
      "  [1] pkgerror(msg::String)",
      "    @ Pkg.Types ~/installed/julia-1.8.5/share/julia/stdlib/v1.8/Pkg/src/Types.jl:67",
      "  [2] ensure_resolved(ctx::Pkg.Types.Context, manifest::Pkg.Types.Manifest, pkgs::Vector{Pkg.Types.PackageSpec}; registry::Bool)",
      "    @ Pkg.Types ~/installed/julia-1.8.5/share/julia/stdlib/v1.8/Pkg/src/Types.jl:952",
      "  [3] add(ctx::Pkg.Types.Context, pkgs::Vector{Pkg.Types.PackageSpec}; preserve::Pkg.Types.PreserveLevel, platform::Base.BinaryPlatforms.Platform, kwargs::Base.Pairs{Symbol, IJulia.IJuliaStdio{Base.PipeEndpoint}, Tuple{Symbol}, NamedTuple{(:io,), Tuple{IJulia.IJuliaStdio{Base.PipeEndpoint}}}})",
      "    @ Pkg.API ~/installed/julia-1.8.5/share/julia/stdlib/v1.8/Pkg/src/API.jl:264",
      "  [4] add(pkgs::Vector{Pkg.Types.PackageSpec}; io::IJulia.IJuliaStdio{Base.PipeEndpoint}, kwargs::Base.Pairs{Symbol, Union{}, Tuple{}, NamedTuple{(), Tuple{}}})",
      "    @ Pkg.API ~/installed/julia-1.8.5/share/julia/stdlib/v1.8/Pkg/src/API.jl:156",
      "  [5] add(pkgs::Vector{Pkg.Types.PackageSpec})",
      "    @ Pkg.API ~/installed/julia-1.8.5/share/julia/stdlib/v1.8/Pkg/src/API.jl:145",
      "  [6] #add#27",
      "    @ ~/installed/julia-1.8.5/share/julia/stdlib/v1.8/Pkg/src/API.jl:144 [inlined]",
      "  [7] add",
      "    @ ~/installed/julia-1.8.5/share/julia/stdlib/v1.8/Pkg/src/API.jl:144 [inlined]",
      "  [8] #add#26",
      "    @ ~/installed/julia-1.8.5/share/julia/stdlib/v1.8/Pkg/src/API.jl:143 [inlined]",
      "  [9] add(pkg::String)",
      "    @ Pkg.API ~/installed/julia-1.8.5/share/julia/stdlib/v1.8/Pkg/src/API.jl:143",
      " [10] top-level scope",
      "    @ In[15]:1"
     ]
    }
   ],
   "source": [
    "import Pkg; Pkg.add(\"OEIS\")"
   ]
  },
  {
   "cell_type": "code",
   "execution_count": 12,
   "metadata": {},
   "outputs": [
    {
     "ename": "LoadError",
     "evalue": "ArgumentError: Package OEIS not found in current path.\n- Run `import Pkg; Pkg.add(\"OEIS\")` to install the OEIS package.",
     "output_type": "error",
     "traceback": [
      "ArgumentError: Package OEIS not found in current path.\n- Run `import Pkg; Pkg.add(\"OEIS\")` to install the OEIS package.",
      "",
      "Stacktrace:",
      " [1] macro expansion",
      "   @ ./loading.jl:1163 [inlined]",
      " [2] macro expansion",
      "   @ ./lock.jl:223 [inlined]",
      " [3] require(into::Module, mod::Symbol)",
      "   @ Base ./loading.jl:1144"
     ]
    }
   ],
   "source": [
    "using OEIS"
   ]
  },
  {
   "cell_type": "code",
   "execution_count": 13,
   "metadata": {},
   "outputs": [
    {
     "ename": "LoadError",
     "evalue": "UndefVarError: oeis not defined",
     "output_type": "error",
     "traceback": [
      "UndefVarError: oeis not defined",
      "",
      "Stacktrace:",
      " [1] top-level scope",
      "   @ In[13]:1"
     ]
    }
   ],
   "source": [
    "s = oeis(:A058398)"
   ]
  },
  {
   "cell_type": "code",
   "execution_count": null,
   "metadata": {},
   "outputs": [],
   "source": [
    "c = list[10][5][3]"
   ]
  },
  {
   "cell_type": "code",
   "execution_count": null,
   "metadata": {},
   "outputs": [],
   "source": [
    "n = 7\n",
    "println(\"n = $(n)\")\n",
    "for dim_selected in 0:n-1\n",
    "        selected = list[n][dim_selected]\n",
    "        println(\"dim = $(dim_selected)\")\n",
    "        for c in selected\n",
    "            println(\"m=\")\n",
    "            println(c.m)\n",
    "            println(\"d=\")\n",
    "            println(c.d)\n",
    "            println(\"Hilbert function=\")\n",
    "            println(c.hilb)\n",
    "            println(\"U =\")\n",
    "            println(c.U) \n",
    "            println(\"N=\")\n",
    "            println(c.N)\n",
    "            println(\"Ideal=\")\n",
    "            println(c.I)\n",
    "        end\n",
    "    println()\n",
    "end"
   ]
  },
  {
   "cell_type": "code",
   "execution_count": null,
   "metadata": {},
   "outputs": [],
   "source": [
    "R,_ = PolynomialRing(QQ, [[\"x\",\"y\"];[\"c\"*string(i) for i in 1:30]])\n",
    "m = [5]\n",
    "v = Vector{Cell}()\n",
    "for n in 1:20 \n",
    "    c = Cell(copy(m),R)\n",
    "    push!(v,c)\n",
    "    prepend!(m,1)\n",
    "end"
   ]
  },
  {
   "cell_type": "code",
   "execution_count": null,
   "metadata": {
    "scrolled": true
   },
   "outputs": [],
   "source": [
    "for c in v\n",
    "    println(c.m)\n",
    "    println(c.dim)\n",
    "    display(c.U)\n",
    "    display(c.N)\n",
    "    println(\"_____________________________________\")\n",
    "    println()\n",
    "end"
   ]
  },
  {
   "cell_type": "code",
   "execution_count": null,
   "metadata": {},
   "outputs": [],
   "source": [
    "for partition in Generic.partitions(5)\n",
    "    println(reverse(partition))\n",
    "end"
   ]
  },
  {
   "cell_type": "code",
   "execution_count": null,
   "metadata": {},
   "outputs": [],
   "source": [
    "A = c.M"
   ]
  },
  {
   "cell_type": "code",
   "execution_count": null,
   "metadata": {},
   "outputs": [],
   "source": [
    "function matrix2str(A)\n",
    "    strA = \"  \" * join([join([string(a) for a in A[i,:]],\" & \") for i in 1:nrows(A)], \"\\\\\\\\\\n  \")\n",
    "    strA = \"\\\\begin{array}{\"*repeat(\"c\",ncols(A))*\"}\\n\" * strA * \"\\n\\\\end{array}\"\n",
    "    strA = \"\\\\left(\\n\" * strA * \"\\n\\\\right)\"\n",
    "    strA = \"\\\\(\\n\" * strA * \"\\n\\\\)\"\n",
    "    return strA\n",
    "end\n",
    "strA = matrix2str(A)\n",
    "println(strA)"
   ]
  },
  {
   "cell_type": "code",
   "execution_count": null,
   "metadata": {},
   "outputs": [],
   "source": [
    "function tablerow(c)\n",
    "    strm = string(c.m)\n",
    "    strhilb = string(c.hilb)\n",
    "    strM = matrix2str(c.M)\n",
    "    strRow = \"\\\\(\" *  strm * \"\\\\) & \\\\( \" * strhilb * \"\\\\) & \" * strM * \" & \" * string(c.dim) * \" \\\\\\\\\\n  \"\n",
    "    return(strRow)\n",
    "end\n",
    "\n",
    "function table(celllist)\n",
    "    strTable = \"\\\\tiny{ \\\\begin{tabular}{cccc} \\\\toprule m & Hilbert function & M & dimension  \\\\\\\\\\n  \\\\toprule \"\n",
    "    for dim_selected in 0:length(celllist)-1\n",
    "        selected = celllist[dim_selected]\n",
    "        for c in selected\n",
    "            strTable = strTable * tablerow(c)\n",
    "        end\n",
    "    end\n",
    "    strTable = strTable * \"\\\\end{tabular}}\"\n",
    "    return strTable\n",
    "end\n",
    "\n",
    "\n",
    "for i in 1:9\n",
    "    println(\"\\n n = \" * string(i) * \" \\n\" )\n",
    "    println(table(list[i]))\n",
    "end"
   ]
  },
  {
   "cell_type": "code",
   "execution_count": null,
   "metadata": {},
   "outputs": [],
   "source": []
  }
 ],
 "metadata": {
  "kernelspec": {
   "display_name": "Julia 1.8.5",
   "language": "julia",
   "name": "julia-1.8"
  },
  "language_info": {
   "file_extension": ".jl",
   "mimetype": "application/julia",
   "name": "julia",
   "version": "1.8.5"
  }
 },
 "nbformat": 4,
 "nbformat_minor": 4
}
