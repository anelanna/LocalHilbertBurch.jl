{
 "cells": [
  {
   "cell_type": "code",
   "execution_count": 1,
   "metadata": {},
   "outputs": [
    {
     "name": "stdout",
     "output_type": "stream",
     "text": [
      "polymake version 4.9\n",
      "Copyright (c) 1997-2023\n",
      "Ewgenij Gawrilow, Michael Joswig, and the polymake team\n",
      "Technische Universität Berlin, Germany\n",
      "https://polymake.org\n",
      "\n",
      "This is free software licensed under GPL; see the source for copying conditions.\n",
      "There is NO warranty; not even for MERCHANTABILITY or FITNESS FOR A PARTICULAR PURPOSE.\n",
      "\n",
      "Singular.jl, based on\n",
      "                     SINGULAR                               /\n",
      " A Computer Algebra System for Polynomial Computations     /  Singular.jl: 0.18.2\n",
      "                                                         0<   Singular   : 4.3.2p1\n",
      " by: W. Decker, G.-M. Greuel, G. Pfister, H. Schoenemann   \\\n",
      "FB Mathematik der Universitaet, D-67653 Kaiserslautern      \\\n",
      "     \n",
      " -----    -----    -----      -      -----   \n",
      "|     |  |     |  |     |    | |    |     |  \n",
      "|     |  |        |         |   |   |     |  \n",
      "|     |   -----   |        |     |  |-----   \n",
      "|     |        |  |        |-----|  |   |    \n",
      "|     |  |     |  |     |  |     |  |    |   \n",
      " -----    -----    -----   -     -  -     -  \n",
      "\n",
      "...combining (and extending) ANTIC, GAP, Polymake and Singular\n",
      "Version\u001b[32m 0.12.0 \u001b[39m... \n",
      " ... which comes with absolutely no warranty whatsoever\n",
      "Type: '?Oscar' for more information\n",
      "(c) 2019-2023 by The OSCAR Development Team\n"
     ]
    }
   ],
   "source": [
    "using LocalHilbertBurch\n",
    "using Oscar"
   ]
  },
  {
   "cell_type": "code",
   "execution_count": 2,
   "metadata": {},
   "outputs": [
    {
     "name": "stdout",
     "output_type": "stream",
     "text": [
      "ideal(y^10, -x*y^8, x^2*y^5, -x^3*y, x^4)\n",
      "fmpq[1, 2, 3, 4, 3, 3, 3, 2, 2, 1]\n"
     ]
    },
    {
     "data": {
      "text/plain": [
       "[ y     0     0     0]\n",
       "[-x   y^4     0     0]\n",
       "[ 0    -x   y^3     0]\n",
       "[ 0     0    -x   y^2]\n",
       "[ 0     0     0    -x]"
      ]
     },
     "metadata": {},
     "output_type": "display_data"
    },
    {
     "data": {
      "text/plain": [
       "[ 1    4   6   7]\n",
       "[ 1    4   6   7]\n",
       "[-2    1   3   4]\n",
       "[-4   -1   1   2]\n",
       "[-5   -2   0   1]"
      ]
     },
     "metadata": {},
     "output_type": "display_data"
    },
    {
     "data": {
      "text/plain": [
       "[   y                                     0                          0             0]\n",
       "[  -x                                   y^4                          0             0]\n",
       "[ c_1        -x + y^3*c_4 + y^2*c_3 + y*c_2                        y^3             0]\n",
       "[ c_5       y^3*c_9 + y^2*c_8 + y*c_7 + c_6     -x + y^2*c_11 + y*c_10           y^2]\n",
       "[c_12   y^3*c_16 + y^2*c_15 + y*c_14 + c_13   y^2*c_19 + y*c_18 + c_17   -x + y*c_20]"
      ]
     },
     "metadata": {},
     "output_type": "display_data"
    }
   ],
   "source": [
    "m = [1,5,8,10]\n",
    "R,_ = PolynomialRing(QQ, [[\"x\",\"y\"];[\"c_\"*string(i) for i in 1:23]])\n",
    "Q,_ = GradedPolynomialRing(QQ, [\"x\", \"y\"]) \n",
    "C = Cell(m, R,Q)\n",
    "println(C.E)\n",
    "println(C.hilb)\n",
    "display(C.H)\n",
    "display(C.U)\n",
    "display(C.M)"
   ]
  },
  {
   "cell_type": "code",
   "execution_count": 3,
   "metadata": {},
   "outputs": [
    {
     "name": "stdout",
     "output_type": "stream",
     "text": [
      "ideal(y^7, -x*y^5, x^2*y^3, -x^3*y^2, x^4)\n",
      "fmpq[1, 2, 3, 4, 4, 2, 1]\n"
     ]
    },
    {
     "data": {
      "text/plain": [
       "[y^2    0     0     0]\n",
       "[ -x    y     0     0]\n",
       "[  0   -x   y^2     0]\n",
       "[  0    0    -x   y^2]\n",
       "[  0    0     0    -x]"
      ]
     },
     "metadata": {},
     "output_type": "display_data"
    },
    {
     "data": {
      "text/plain": [
       "[ 2    2   3   4]\n",
       "[ 1    1   2   3]\n",
       "[ 1    1   2   3]\n",
       "[ 0    0   1   2]\n",
       "[-1   -1   0   1]"
      ]
     },
     "metadata": {},
     "output_type": "display_data"
    },
    {
     "data": {
      "text/plain": [
       "[        y^2     0               0             0]\n",
       "[ -x + y*c_1     y               0             0]\n",
       "[      y*c_2    -x             y^2             0]\n",
       "[y*c_4 + c_3   c_5      -x + y*c_6           y^2]\n",
       "[y*c_8 + c_7   c_9   y*c_11 + c_10   -x + y*c_12]"
      ]
     },
     "metadata": {},
     "output_type": "display_data"
    }
   ],
   "source": [
    "m = [2,3,5,7]\n",
    "R,_ = PolynomialRing(QQ, [[\"x\",\"y\"];[\"c_\"*string(i) for i in 1:17]])\n",
    "Q,_ = GradedPolynomialRing(QQ, [\"x\", \"y\"]) \n",
    "C = Cell(m, R,Q)\n",
    "println(C.E)\n",
    "println(C.hilb)\n",
    "display(C.H)\n",
    "display(C.U)\n",
    "display(C.M)"
   ]
  },
  {
   "cell_type": "code",
   "execution_count": 4,
   "metadata": {},
   "outputs": [
    {
     "data": {
      "text/plain": [
       "Dict{Int64, Vector{Cell}} with 6 entries:\n",
       "  0 => [Cell([1, 2, 3], [1, 1, 1], fmpq[1, 2, 3], [y 0 0; -x y 0; 0 -x y; 0 0 -…\n",
       "  4 => [Cell([1, 1, 1, 1, 1, 1], [1, 0, 0, 0, 0, 0], fmpq[1, 1, 1, 1, 1, 1], [y…\n",
       "  5 => [Cell([6], [6], fmpq[1, 1, 1, 1, 1, 1], [y^6; -x], ideal(y^6, -x), [6; 1…\n",
       "  2 => [Cell([1, 1, 1, 3], [1, 0, 0, 2], fmpq[1, 2, 2, 1], [y 0 0 0; -x 1 0 0; …\n",
       "  3 => [Cell([1, 1, 1, 1, 2], [1, 0, 0, 0, 1], fmpq[1, 2, 1, 1, 1], [y 0 0 0 0;…\n",
       "  1 => [Cell([1, 1, 2, 2], [1, 0, 1, 0], fmpq[1, 2, 2, 1], [y 0 0 0; -x 1 0 0; …"
      ]
     },
     "execution_count": 4,
     "metadata": {},
     "output_type": "execute_result"
    }
   ],
   "source": [
    "sorted_celllist(6)"
   ]
  },
  {
   "cell_type": "code",
   "execution_count": 5,
   "metadata": {},
   "outputs": [
    {
     "name": "stdout",
     "output_type": "stream",
     "text": [
      "dim = 0\n",
      "m=\n",
      "[1, 2, 3]\n",
      "d=\n",
      "[1, 1, 1]\n",
      "Hilbert function=\n",
      "fmpq[1, 2, 3]\n",
      "U =\n",
      "[1 1 1; 1 1 1; 1 1 1; 1 1 1]\n",
      "H+N=\n"
     ]
    },
    {
     "data": {
      "text/plain": [
       "[ y    0    0]\n",
       "[-x    y    0]\n",
       "[ 0   -x    y]\n",
       "[ 0    0   -x]"
      ]
     },
     "metadata": {},
     "output_type": "display_data"
    },
    {
     "name": "stdout",
     "output_type": "stream",
     "text": [
      "Ideal=\n",
      "ideal(y^3, -x*y^2, x^2*y, -x^3)\n",
      "\n",
      "dim = 1\n",
      "m=\n",
      "[1, 1, 2, 2]\n",
      "d=\n",
      "[1, 0, 1, 0]\n",
      "Hilbert function=\n",
      "fmpq[1, 2, 2, 1]\n",
      "U =\n",
      "[1 0 0 -1; 1 0 0 -1; 2 1 1 0; 2 1 1 0; 3 2 2 1]\n",
      "H+N=\n"
     ]
    },
    {
     "data": {
      "text/plain": [
       "[ y    0    0   c_1]\n",
       "[-x    1    0     0]\n",
       "[ 0   -x    y     0]\n",
       "[ 0    0   -x     1]\n",
       "[ 0    0    0    -x]"
      ]
     },
     "metadata": {},
     "output_type": "display_data"
    },
    {
     "name": "stdout",
     "output_type": "stream",
     "text": [
      "Ideal=\n",
      "ideal(x^3*c_1 + y^2, -x*y^2, x^2*y, -x^3*y, x^4)\n",
      "\n",
      "dim = 2\n",
      "m=\n",
      "[1, 1, 1, 3]\n",
      "d=\n",
      "[1, 0, 0, 2]\n",
      "Hilbert function=\n",
      "fmpq[1, 2, 2, 1]\n",
      "U =\n",
      "[1 0 -1 0; 1 0 -1 0; 2 1 0 1; 3 2 1 2; 2 1 0 1]\n",
      "H+N=\n"
     ]
    },
    {
     "data": {
      "text/plain": [
       "[ y    0   c_1            0]\n",
       "[-x    1     0            0]\n",
       "[ 0   -x     1            0]\n",
       "[ 0    0    -x          y^2]\n",
       "[ 0    0     0   -x + y*c_2]"
      ]
     },
     "metadata": {},
     "output_type": "display_data"
    },
    {
     "name": "stdout",
     "output_type": "stream",
     "text": [
      "Ideal=\n",
      "ideal(x^2*y^2*c_1 + y^3, -x^3*c_1 + x^2*y*c_1*c_2 - x*y + y^2*c_2, x^2*y - x*y^2*c_2, -x^3*y + x^2*y^2*c_2, x^4 - x^3*y*c_2)\n",
      "m=\n",
      "[2, 2, 2]\n",
      "d=\n",
      "[2, 0, 0]\n",
      "Hilbert function=\n",
      "fmpq[1, 2, 2, 1]\n",
      "U =\n",
      "[2 1 0; 1 0 -1; 2 1 0; 3 2 1]\n",
      "H+N=\n"
     ]
    },
    {
     "data": {
      "text/plain": [
       "[       y^2    0   y*c_1]\n",
       "[-x + y*c_2    1       0]\n",
       "[         0   -x       1]\n",
       "[         0    0      -x]"
      ]
     },
     "metadata": {},
     "output_type": "display_data"
    },
    {
     "name": "stdout",
     "output_type": "stream",
     "text": [
      "Ideal=\n",
      "ideal(x^2*y*c_1 - x*y^2*c_1*c_2 + y^2, -x*y^2, x^2*y^2, -x^3 + x^2*y*c_2)\n",
      "\n",
      "dim = 3\n",
      "m=\n",
      "[1, 1, 1, 1, 2]\n",
      "d=\n",
      "[1, 0, 0, 0, 1]\n",
      "Hilbert function=\n",
      "fmpq[1, 2, 1, 1, 1]\n",
      "U =\n",
      "[1 0 -1 -2 -2; 1 0 -1 -2 -2; 2 1 0 -1 -1; 3 2 1 0 0; 4 3 2 1 1; 4 3 2 1 1]\n",
      "H+N=\n"
     ]
    },
    {
     "data": {
      "text/plain": [
       "[ y    0   c_1   c_2   c_3]\n",
       "[-x    1     0     0     0]\n",
       "[ 0   -x     1     0     0]\n",
       "[ 0    0    -x     1     0]\n",
       "[ 0    0     0    -x     y]\n",
       "[ 0    0     0     0    -x]"
      ]
     },
     "metadata": {},
     "output_type": "display_data"
    },
    {
     "name": "stdout",
     "output_type": "stream",
     "text": [
      "Ideal=\n",
      "ideal(x^4*c_3 + x^3*y*c_2 + x^2*y*c_1 + y^2, -x^4*c_2 - x^3*c_1 - x*y, x^4*c_1 + x^2*y, -x^3*y, x^4*y, -x^5)\n",
      "m=\n",
      "[1, 1, 4]\n",
      "d=\n",
      "[1, 0, 3]\n",
      "Hilbert function=\n",
      "fmpq[1, 2, 2, 1]\n",
      "U =\n",
      "[1 0 2; 1 0 2; 2 1 3; 0 -1 1]\n",
      "H+N=\n"
     ]
    },
    {
     "data": {
      "text/plain": [
       "[  y    0                      0]\n",
       "[ -x    1                      0]\n",
       "[  0   -x                    y^3]\n",
       "[c_1    0   -x + y^2*c_3 + y*c_2]"
      ]
     },
     "metadata": {},
     "output_type": "display_data"
    },
    {
     "name": "stdout",
     "output_type": "stream",
     "text": [
      "Ideal=\n",
      "ideal(y^4, -x*y + y^3*c_3 + y^2*c_2, x^2*y - x*y^3*c_3 - x*y^2*c_2, -x^3 + x^2*y^2*c_3 + x^2*y*c_2 + y^3*c_1)\n",
      "m=\n",
      "[3, 3]\n",
      "d=\n",
      "[3, 0]\n",
      "Hilbert function=\n",
      "fmpq[1, 2, 2, 1]\n",
      "U =\n",
      "[3 2; 1 0; 2 1]\n",
      "H+N=\n"
     ]
    },
    {
     "data": {
      "text/plain": [
       "[                 y^3    0]\n",
       "[-x + y^2*c_2 + y*c_1    1]\n",
       "[             y^2*c_3   -x]"
      ]
     },
     "metadata": {},
     "output_type": "display_data"
    },
    {
     "name": "stdout",
     "output_type": "stream",
     "text": [
      "Ideal=\n",
      "ideal(y^3, -x*y^3, x^2 - x*y^2*c_2 - x*y*c_1 - y^2*c_3)\n",
      "\n",
      "dim = 4\n",
      "m=\n",
      "[1, 1, 1, 1, 1, 1]\n",
      "d=\n",
      "[1, 0, 0, 0, 0, 0]\n",
      "Hilbert function=\n",
      "fmpq[1, 1, 1, 1, 1, 1]\n",
      "U =\n",
      "[1 0 -1 -2 -3 -4; 1 0 -1 -2 -3 -4; 2 1 0 -1 -2 -3; 3 2 1 0 -1 -2; 4 3 2 1 0 -1; 5 4 3 2 1 0; 6 5 4 3 2 1]\n",
      "H+N=\n"
     ]
    },
    {
     "data": {
      "text/plain": [
       "[ y    0   c_1   c_2   c_3   c_4]\n",
       "[-x    1     0     0     0     0]\n",
       "[ 0   -x     1     0     0     0]\n",
       "[ 0    0    -x     1     0     0]\n",
       "[ 0    0     0    -x     1     0]\n",
       "[ 0    0     0     0    -x     1]\n",
       "[ 0    0     0     0     0    -x]"
      ]
     },
     "metadata": {},
     "output_type": "display_data"
    },
    {
     "name": "stdout",
     "output_type": "stream",
     "text": [
      "Ideal=\n",
      "ideal(x^5*c_4 + x^4*c_3 + x^3*c_2 + x^2*c_1 + y, -x^5*c_3 - x^4*c_2 - x^3*c_1 - x*y, x^5*c_2 + x^4*c_1 + x^2*y, -x^5*c_1 - x^3*y, x^4*y, -x^5*y, x^6)\n",
      "m=\n",
      "[1, 5]\n",
      "d=\n",
      "[1, 4]\n",
      "Hilbert function=\n",
      "fmpq[1, 2, 1, 1, 1]\n",
      "U =\n",
      "[1 4; 1 4; -2 1]\n",
      "H+N=\n"
     ]
    },
    {
     "data": {
      "text/plain": [
       "[  y                                0]\n",
       "[ -x                              y^4]\n",
       "[c_1   -x + y^3*c_4 + y^2*c_3 + y*c_2]"
      ]
     },
     "metadata": {},
     "output_type": "display_data"
    },
    {
     "name": "stdout",
     "output_type": "stream",
     "text": [
      "Ideal=\n",
      "ideal(y^5, -x*y + y^4*c_4 + y^3*c_3 + y^2*c_2, x^2 - x*y^3*c_4 - x*y^2*c_3 - x*y*c_2 - y^4*c_1)\n",
      "m=\n",
      "[2, 4]\n",
      "d=\n",
      "[2, 2]\n",
      "Hilbert function=\n",
      "fmpq[1, 2, 2, 1]\n",
      "U =\n",
      "[2 3; 1 2; 0 1]\n",
      "H+N=\n"
     ]
    },
    {
     "data": {
      "text/plain": [
       "[        y^2            0]\n",
       "[ -x + y*c_1          y^2]\n",
       "[y*c_3 + c_2   -x + y*c_4]"
      ]
     },
     "metadata": {},
     "output_type": "display_data"
    },
    {
     "name": "stdout",
     "output_type": "stream",
     "text": [
      "Ideal=\n",
      "ideal(y^4, -x*y^2 + y^3*c_4, x^2 - x*y*c_1 - x*y*c_4 - y^3*c_3 + y^2*c_1*c_4 - y^2*c_2)\n",
      "\n",
      "dim = 5\n",
      "m=\n",
      "[6]\n",
      "d=\n",
      "[6]\n",
      "Hilbert function=\n",
      "fmpq[1, 1, 1, 1, 1, 1]\n",
      "U =\n",
      "[6; 1]\n",
      "H+N=\n"
     ]
    },
    {
     "data": {
      "text/plain": [
       "[                                               y^6]\n",
       "[-x + y^5*c_5 + y^4*c_4 + y^3*c_3 + y^2*c_2 + y*c_1]"
      ]
     },
     "metadata": {},
     "output_type": "display_data"
    },
    {
     "name": "stdout",
     "output_type": "stream",
     "text": [
      "Ideal=\n",
      "ideal(y^6, -x + y^5*c_5 + y^4*c_4 + y^3*c_3 + y^2*c_2 + y*c_1)\n",
      "\n"
     ]
    }
   ],
   "source": [
    "list = sorted_celllist(6)\n",
    "for dim_selected in 0:5\n",
    "        selected = list[dim_selected]\n",
    "        println(\"dim = $(dim_selected)\")\n",
    "        for c in selected\n",
    "            println(\"m=\")\n",
    "            println(c.m)\n",
    "            println(\"d=\")\n",
    "            println(c.d)\n",
    "            println(\"Hilbert function=\")\n",
    "            println(c.hilb)\n",
    "            println(\"U =\")\n",
    "            println(c.U) \n",
    "            println(\"H+N=\")\n",
    "            display(c.M)\n",
    "            println(\"Ideal=\")\n",
    "            println(c.I)\n",
    "        end\n",
    "    println()\n",
    "end"
   ]
  },
  {
   "cell_type": "code",
   "execution_count": 2,
   "metadata": {},
   "outputs": [],
   "source": [
    "list = Dict{Int64, Dict{Int64, Vector{Cell}}}()\n",
    "dimlist = Dict{Int64, Dict{Int64, Int64}}()\n",
    "for n in 1:31\n",
    "    list[n] = sorted_celllist(n)\n",
    "    dimlist[n] = Dict{Int64, Int64}()\n",
    "    for k in keys(list[n])\n",
    "        dimlist[n][k] = length(list[n][k])\n",
    "    end\n",
    "end"
   ]
  },
  {
   "cell_type": "code",
   "execution_count": null,
   "metadata": {},
   "outputs": [],
   "source": [
    "for n in 32:35\n",
    "    list[n] = sorted_celllist(n)\n",
    "    dimlist[n] = Dict{Int64, Int64}()\n",
    "    for k in keys(list[n])\n",
    "        dimlist[n][k] = length(list[n][k])\n",
    "    end\n",
    "end"
   ]
  },
  {
   "cell_type": "code",
   "execution_count": 3,
   "metadata": {},
   "outputs": [
    {
     "data": {
      "text/plain": [
       "31-element Vector{Vector{Int64}}:\n",
       " [1]\n",
       " [1, 1]\n",
       " [1, 1, 1]\n",
       " [1, 1, 2, 1]\n",
       " [1, 1, 2, 2, 1]\n",
       " [1, 1, 2, 3, 3, 1]\n",
       " [1, 1, 2, 3, 4, 3, 1]\n",
       " [1, 1, 2, 3, 5, 5, 4, 1]\n",
       " [1, 1, 2, 3, 5, 6, 7, 4, 1]\n",
       " [1, 1, 2, 3, 5, 7, 9, 8, 5, 1]\n",
       " [1, 1, 2, 3, 5, 7, 10, 11, 10, 5, 1]\n",
       " [1, 1, 2, 3, 5, 7, 11, 13, 15, 12, 6, 1]\n",
       " [1, 1, 2, 3, 5, 7, 11, 14, 18, 18, 14, 6, 1]\n",
       " ⋮\n",
       " [1, 1, 2, 3, 5, 7, 11, 15, 22, 30, 42, 54, 70, 82, 90, 84, 64, 33, 10, 1]\n",
       " [1, 1, 2, 3, 5, 7, 11, 15, 22, 30  …  55, 73, 89, 105, 110, 101, 72, 37, 10, 1]\n",
       " [1, 1, 2, 3, 5, 7, 11, 15, 22, 30  …  75, 94, 116, 131, 136, 119, 84, 40, 11, 1]\n",
       " [1, 1, 2, 3, 5, 7, 11, 15, 22, 30  …  97, 123, 146, 164, 163, 141, 94, 44, 11, 1]\n",
       " [1, 1, 2, 3, 5, 7, 11, 15, 22, 30  …  128, 157, 186, 201, 199, 164, 108, 48, 12, 1]\n",
       " [1, 1, 2, 3, 5, 7, 11, 15, 22, 30  …  164, 201, 230, 248, 235, 192, 120, 52, 12, 1]\n",
       " [1, 1, 2, 3, 5, 7, 11, 15, 22, 30  …  212, 252, 288, 300, 282, 221, 136, 56, 13, 1]\n",
       " [1, 1, 2, 3, 5, 7, 11, 15, 22, 30  …  267, 318, 352, 364, 331, 255, 150, 61, 13, 1]\n",
       " [1, 1, 2, 3, 5, 7, 11, 15, 22, 30  …  340, 393, 434, 436, 391, 291, 169, 65, 14, 1]\n",
       " [1, 1, 2, 3, 5, 7, 11, 15, 22, 30  …  423, 488, 525, 522, 454, 333, 185, 70, 14, 1]\n",
       " [1, 1, 2, 3, 5, 7, 11, 15, 22, 30  …  530, 598, 638, 618, 532, 377, 206, 75, 15, 1]\n",
       " [1, 1, 2, 3, 5, 7, 11, 15, 22, 30  …  653, 732, 764, 733, 612, 427, 225, 80, 15, 1]"
      ]
     },
     "execution_count": 3,
     "metadata": {},
     "output_type": "execute_result"
    }
   ],
   "source": [
    "as_matrix = [[dimlist[i][j] for j in sort([keys(dimlist[i])...])] for i in sort([keys(dimlist)...])]"
   ]
  },
  {
   "cell_type": "code",
   "execution_count": 4,
   "metadata": {},
   "outputs": [
    {
     "name": "stdout",
     "output_type": "stream",
     "text": [
      "[1]\n",
      "[1, 1]\n",
      "[1, 1, 1]\n",
      "[1, 1, 2, 1]\n",
      "[1, 1, 2, 2, 1]\n",
      "[1, 1, 2, 3, 3, 1]\n",
      "[1, 1, 2, 3, 4, 3, 1]\n",
      "[1, 1, 2, 3, 5, 5, 4, 1]\n",
      "[1, 1, 2, 3, 5, 6, 7, 4, 1]\n",
      "[1, 1, 2, 3, 5, 7, 9, 8, 5, 1]\n",
      "[1, 1, 2, 3, 5, 7, 10, 11, 10, 5, 1]\n",
      "[1, 1, 2, 3, 5, 7, 11, 13, 15, 12, 6, 1]\n",
      "[1, 1, 2, 3, 5, 7, 11, 14, 18, 18, 14, 6, 1]\n",
      "[1, 1, 2, 3, 5, 7, 11, 15, 20, 23, 23, 16, 7, 1]\n",
      "[1, 1, 2, 3, 5, 7, 11, 15, 21, 26, 30, 27, 19, 7, 1]\n",
      "[1, 1, 2, 3, 5, 7, 11, 15, 22, 28, 35, 37, 34, 21, 8, 1]\n",
      "[1, 1, 2, 3, 5, 7, 11, 15, 22, 29, 38, 44, 47, 39, 24, 8, 1]\n",
      "[1, 1, 2, 3, 5, 7, 11, 15, 22, 30, 40, 49, 58, 57, 47, 27, 9, 1]\n",
      "[1, 1, 2, 3, 5, 7, 11, 15, 22, 30, 41, 52, 65, 71, 70, 54, 30, 9, 1]\n",
      "[1, 1, 2, 3, 5, 7, 11, 15, 22, 30, 42, 54, 70, 82, 90, 84, 64, 33, 10, 1]\n",
      "[1, 1, 2, 3, 5, 7, 11, 15, 22, 30, 42, 55, 73, 89, 105, 110, 101, 72, 37, 10, 1]\n",
      "[1, 1, 2, 3, 5, 7, 11, 15, 22, 30, 42, 56, 75, 94, 116, 131, 136, 119, 84, 40, 11, 1]\n",
      "[1, 1, 2, 3, 5, 7, 11, 15, 22, 30, 42, 56, 76, 97, 123, 146, 164, 163, 141, 94, 44, 11, 1]\n",
      "[1, 1, 2, 3, 5, 7, 11, 15, 22, 30, 42, 56, 77, 99, 128, 157, 186, 201, 199, 164, 108, 48, 12, 1]\n",
      "[1, 1, 2, 3, 5, 7, 11, 15, 22, 30, 42, 56, 77, 100, 131, 164, 201, 230, 248, 235, 192, 120, 52, 12, 1]\n",
      "[1, 1, 2, 3, 5, 7, 11, 15, 22, 30, 42, 56, 77, 101, 133, 169, 212, 252, 288, 300, 282, 221, 136, 56, 13, 1]\n",
      "[1, 1, 2, 3, 5, 7, 11, 15, 22, 30, 42, 56, 77, 101, 134, 172, 219, 267, 318, 352, 364, 331, 255, 150, 61, 13, 1]\n",
      "[1, 1, 2, 3, 5, 7, 11, 15, 22, 30, 42, 56, 77, 101, 135, 174, 224, 278, 340, 393, 434, 436, 391, 291, 169, 65, 14, 1]\n",
      "[1, 1, 2, 3, 5, 7, 11, 15, 22, 30, 42, 56, 77, 101, 135, 175, 227, 285, 355, 423, 488, 525, 522, 454, 333, 185, 70, 14, 1]\n",
      "[1, 1, 2, 3, 5, 7, 11, 15, 22, 30, 42, 56, 77, 101, 135, 176, 229, 290, 366, 445, 530, 598, 638, 618, 532, 377, 206, 75, 15, 1]\n",
      "[1, 1, 2, 3, 5, 7, 11, 15, 22, 30, 42, 56, 77, 101, 135, 176, 230, 293, 373, 460, 560, 653, 732, 764, 733, 612, 427, 225, 80, 15, 1]\n"
     ]
    }
   ],
   "source": [
    "for i in 1:31\n",
    "println(as_matrix[i])\n",
    "end"
   ]
  },
  {
   "cell_type": "code",
   "execution_count": 8,
   "metadata": {
    "scrolled": false
   },
   "outputs": [
    {
     "data": {
      "text/plain": [
       "465-element Vector{Int64}:\n",
       "   1\n",
       "   1\n",
       "   1\n",
       "   1\n",
       "   1\n",
       "   1\n",
       "   1\n",
       "   1\n",
       "   2\n",
       "   1\n",
       "   1\n",
       "   1\n",
       "   2\n",
       "   ⋮\n",
       " 366\n",
       " 445\n",
       " 530\n",
       " 598\n",
       " 638\n",
       " 618\n",
       " 532\n",
       " 377\n",
       " 206\n",
       "  75\n",
       "  15\n",
       "   1"
      ]
     },
     "execution_count": 8,
     "metadata": {},
     "output_type": "execute_result"
    }
   ],
   "source": [
    "as_vector = vcat(as_matrix...)"
   ]
  },
  {
   "cell_type": "code",
   "execution_count": 9,
   "metadata": {},
   "outputs": [
    {
     "data": {
      "text/plain": [
       "Dict{Int64, Int64} with 9870 entries:\n",
       "  4986 => 14883\n",
       "  7329 => 3087227\n",
       "  4700 => 63261\n",
       "  4576 => 176\n",
       "  7144 => 3\n",
       "  6073 => 10243651\n",
       "  2288 => 30\n",
       "  1703 => 40831\n",
       "  1956 => 2\n",
       "  8437 => 239943\n",
       "  2350 => 3\n",
       "  7685 => 715220\n",
       "  8690 => 63261\n",
       "  5975 => 28622740\n",
       "  9773 => 53174\n",
       "  3406 => 2\n",
       "  2841 => 327748\n",
       "  2876 => 1958\n",
       "  687  => 623\n",
       "  7353 => 63569321\n",
       "  185  => 71\n",
       "  1090 => 22\n",
       "  2015 => 31\n",
       "  7272 => 56\n",
       "  8544 => 3718\n",
       "  ⋮    => ⋮"
      ]
     },
     "execution_count": 9,
     "metadata": {},
     "output_type": "execute_result"
    }
   ],
   "source": [
    "oeis_data = Dict{Int64, Int64}()\n",
    "f = open(\"../data/b058398.txt\", \"r\")\n",
    "for lines in readlines(f)\n",
    " \n",
    "    s = split(lines,\" \")\n",
    "    position = parse(Int64, s[1])\n",
    "    dimension = parse(Int64, s[2])\n",
    "    oeis_data[position] = dimension\n",
    " \n",
    "end\n",
    "close(f)\n",
    "oeis_data"
   ]
  },
  {
   "cell_type": "code",
   "execution_count": 10,
   "metadata": {},
   "outputs": [
    {
     "data": {
      "text/plain": [
       "true"
      ]
     },
     "execution_count": 10,
     "metadata": {},
     "output_type": "execute_result"
    }
   ],
   "source": [
    "as_vector == [oeis_data[i] for i in 1:length(as_vector)]"
   ]
  }
 ],
 "metadata": {
  "kernelspec": {
   "display_name": "Julia 1.8.5",
   "language": "julia",
   "name": "julia-1.8"
  },
  "language_info": {
   "file_extension": ".jl",
   "mimetype": "application/julia",
   "name": "julia",
   "version": "1.8.5"
  }
 },
 "nbformat": 4,
 "nbformat_minor": 4
}
