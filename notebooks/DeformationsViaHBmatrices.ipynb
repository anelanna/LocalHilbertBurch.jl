{
 "cells": [
  {
   "cell_type": "code",
   "execution_count": 1,
   "metadata": {},
   "outputs": [
    {
     "name": "stderr",
     "output_type": "stream",
     "text": [
      "\u001b[36m\u001b[1m[ \u001b[22m\u001b[39m\u001b[36m\u001b[1mInfo: \u001b[22m\u001b[39mPrecompiling LocalHilbertBurch [9e134104-6c8f-43ea-a53e-fc3fda40cbb2]\n"
     ]
    },
    {
     "name": "stdout",
     "output_type": "stream",
     "text": [
      "polymake version 4.9\n",
      "Copyright (c) 1997-2023\n",
      "Ewgenij Gawrilow, Michael Joswig, and the polymake team\n",
      "Technische Universität Berlin, Germany\n",
      "https://polymake.org\n",
      "\n",
      "This is free software licensed under GPL; see the source for copying conditions.\n",
      "There is NO warranty; not even for MERCHANTABILITY or FITNESS FOR A PARTICULAR PURPOSE.\n",
      "\n",
      "Singular.jl, based on\n",
      "                     SINGULAR                               /\n",
      " A Computer Algebra System for Polynomial Computations     /  Singular.jl: 0.18.2\n",
      "                                                         0<   Singular   : 4.3.2p1\n",
      " by: W. Decker, G.-M. Greuel, G. Pfister, H. Schoenemann   \\\n",
      "FB Mathematik der Universitaet, D-67653 Kaiserslautern      \\\n",
      "     \n",
      " -----    -----    -----      -      -----   \n",
      "|     |  |     |  |     |    | |    |     |  \n",
      "|     |  |        |         |   |   |     |  \n",
      "|     |   -----   |        |     |  |-----   \n",
      "|     |        |  |        |-----|  |   |    \n",
      "|     |  |     |  |     |  |     |  |    |   \n",
      " -----    -----    -----   -     -  -     -  \n",
      "\n",
      "...combining (and extending) ANTIC, GAP, Polymake and Singular\n",
      "Version\u001b[32m 0.12.0 \u001b[39m... \n",
      " ... which comes with absolutely no warranty whatsoever\n",
      "Type: '?Oscar' for more information\n",
      "(c) 2019-2023 by The OSCAR Development Team\n"
     ]
    }
   ],
   "source": [
    "using Revise\n",
    "using LocalHilbertBurch\n",
    "using Oscar"
   ]
  },
  {
   "cell_type": "code",
   "execution_count": 2,
   "metadata": {},
   "outputs": [
    {
     "name": "stdout",
     "output_type": "stream",
     "text": [
      "ideal(y^10, -x*y^8, x^2*y^5, -x^3*y, x^4)\n",
      "QQFieldElem[1, 2, 3, 4, 3, 3, 3, 2, 2, 1]\n"
     ]
    },
    {
     "data": {
      "text/plain": [
       "[ y     0     0     0]\n",
       "[-x   y^4     0     0]\n",
       "[ 0    -x   y^3     0]\n",
       "[ 0     0    -x   y^2]\n",
       "[ 0     0     0    -x]"
      ]
     },
     "metadata": {},
     "output_type": "display_data"
    },
    {
     "data": {
      "text/plain": [
       "[ 1    4   6   7]\n",
       "[ 1    4   6   7]\n",
       "[-2    1   3   4]\n",
       "[-4   -1   1   2]\n",
       "[-5   -2   0   1]"
      ]
     },
     "metadata": {},
     "output_type": "display_data"
    },
    {
     "data": {
      "text/plain": [
       "[   y                                     0                          0             0]\n",
       "[  -x                                   y^4                          0             0]\n",
       "[ c_1        -x + y^3*c_4 + y^2*c_3 + y*c_2                        y^3             0]\n",
       "[ c_5       y^3*c_9 + y^2*c_8 + y*c_7 + c_6     -x + y^2*c_11 + y*c_10           y^2]\n",
       "[c_12   y^3*c_16 + y^2*c_15 + y*c_14 + c_13   y^2*c_19 + y*c_18 + c_17   -x + y*c_20]"
      ]
     },
     "metadata": {},
     "output_type": "display_data"
    },
    {
     "data": {
      "text/plain": [
       "4-element Vector{Int64}:\n",
       " 1\n",
       " 4\n",
       " 3\n",
       " 2"
      ]
     },
     "metadata": {},
     "output_type": "display_data"
    },
    {
     "data": {
      "text/plain": [
       "[ y            0            0            0]\n",
       "[-x          y^4            0            0]\n",
       "[ 0   -x + y*c_1          y^3            0]\n",
       "[ 0            0   -x + y*c_2          y^2]\n",
       "[ 0            0          c_3   -x + y*c_4]"
      ]
     },
     "metadata": {},
     "output_type": "display_data"
    }
   ],
   "source": [
    "m = [1,5,8,10]\n",
    "R,_ = PolynomialRing(QQ, [[\"x\",\"y\"];[\"c_\"*string(i) for i in 1:23]])\n",
    "Q,_ = GradedPolynomialRing(QQ, [\"x\", \"y\"]) \n",
    "C = Cell(m, R,Q)\n",
    "println(C.E)\n",
    "println(C.hilb)\n",
    "display(C.H)\n",
    "display(C.U)\n",
    "display(C.M)\n",
    "display(C.d)\n",
    "display(C.M_hom)"
   ]
  },
  {
   "cell_type": "code",
   "execution_count": 6,
   "metadata": {},
   "outputs": [
    {
     "name": "stdout",
     "output_type": "stream",
     "text": [
      "ideal(y^7, -x*y^5, x^2*y^3, -x^3*y^2, x^4)\n",
      "QQFieldElem[1, 2, 3, 4, 4, 2, 1]\n"
     ]
    },
    {
     "data": {
      "text/plain": [
       "[y^2    0     0     0]\n",
       "[ -x    y     0     0]\n",
       "[  0   -x   y^2     0]\n",
       "[  0    0    -x   y^2]\n",
       "[  0    0     0    -x]"
      ]
     },
     "metadata": {},
     "output_type": "display_data"
    },
    {
     "data": {
      "text/plain": [
       "[ 2    2   3   4]\n",
       "[ 1    1   2   3]\n",
       "[ 1    1   2   3]\n",
       "[ 0    0   1   2]\n",
       "[-1   -1   0   1]"
      ]
     },
     "metadata": {},
     "output_type": "display_data"
    },
    {
     "data": {
      "text/plain": [
       "[        y^2     0               0             0]\n",
       "[ -x + y*c_1     y               0             0]\n",
       "[      y*c_2    -x             y^2             0]\n",
       "[y*c_4 + c_3   c_5      -x + y*c_6           y^2]\n",
       "[y*c_8 + c_7   c_9   y*c_11 + c_10   -x + y*c_12]"
      ]
     },
     "metadata": {},
     "output_type": "display_data"
    },
    {
     "data": {
      "text/plain": [
       "[       y^2     0            0            0]\n",
       "[-x + y*c_1     y            0            0]\n",
       "[     y*c_2    -x          y^2            0]\n",
       "[       c_3   c_4   -x + y*c_5          y^2]\n",
       "[         0     0          c_6   -x + y*c_7]"
      ]
     },
     "metadata": {},
     "output_type": "display_data"
    },
    {
     "name": "stdout",
     "output_type": "stream",
     "text": [
      "12\n",
      "7\n"
     ]
    }
   ],
   "source": [
    "m = [2,3,5,7]\n",
    "R,_ = PolynomialRing(QQ, [[\"x\",\"y\"];[\"c_\"*string(i) for i in 1:17]])\n",
    "Q,_ = GradedPolynomialRing(QQ, [\"x\", \"y\"]) \n",
    "C = Cell(m, R,Q)\n",
    "println(C.E)\n",
    "println(C.hilb)\n",
    "display(C.H)\n",
    "display(C.U)\n",
    "display(C.M)\n",
    "display(C.M_hom)\n",
    "println(C.dim)\n",
    "println(C.dim_hom)"
   ]
  },
  {
   "cell_type": "code",
   "execution_count": 7,
   "metadata": {},
   "outputs": [
    {
     "name": "stdout",
     "output_type": "stream",
     "text": [
      "dim = 0\n",
      "m=\n",
      "[1, 2, 3]\n",
      "d=\n",
      "[1, 1, 1]\n",
      "Hilbert function=\n",
      "QQFieldElem[1, 2, 3]\n",
      "U =\n",
      "[1 1 1; 1 1 1; 1 1 1; 1 1 1]\n",
      "H+N=\n"
     ]
    },
    {
     "data": {
      "text/plain": [
       "[ y    0    0]\n",
       "[-x    y    0]\n",
       "[ 0   -x    y]\n",
       "[ 0    0   -x]"
      ]
     },
     "metadata": {},
     "output_type": "display_data"
    },
    {
     "name": "stdout",
     "output_type": "stream",
     "text": [
      "Ideal=\n",
      "ideal(y^3, -x*y^2, x^2*y, -x^3)\n",
      "\n",
      "dim = 1\n",
      "m=\n",
      "[1, 1, 2, 2]\n",
      "d=\n",
      "[1, 0, 1, 0]\n",
      "Hilbert function=\n",
      "QQFieldElem[1, 2, 2, 1]\n",
      "U =\n",
      "[1 0 0 -1; 1 0 0 -1; 2 1 1 0; 2 1 1 0; 3 2 2 1]\n",
      "H+N=\n"
     ]
    },
    {
     "data": {
      "text/plain": [
       "[ y    0    0   c_1]\n",
       "[-x    1    0     0]\n",
       "[ 0   -x    y     0]\n",
       "[ 0    0   -x     1]\n",
       "[ 0    0    0    -x]"
      ]
     },
     "metadata": {},
     "output_type": "display_data"
    },
    {
     "name": "stdout",
     "output_type": "stream",
     "text": [
      "Ideal=\n",
      "ideal(x^3*c_1 + y^2, -x*y^2, x^2*y, -x^3*y, x^4)\n",
      "\n",
      "dim = 2\n",
      "m=\n",
      "[1, 1, 1, 3]\n",
      "d=\n",
      "[1, 0, 0, 2]\n",
      "Hilbert function=\n",
      "QQFieldElem[1, 2, 2, 1]\n",
      "U =\n",
      "[1 0 -1 0; 1 0 -1 0; 2 1 0 1; 3 2 1 2; 2 1 0 1]\n",
      "H+N=\n"
     ]
    },
    {
     "data": {
      "text/plain": [
       "[ y    0   c_1            0]\n",
       "[-x    1     0            0]\n",
       "[ 0   -x     1            0]\n",
       "[ 0    0    -x          y^2]\n",
       "[ 0    0     0   -x + y*c_2]"
      ]
     },
     "metadata": {},
     "output_type": "display_data"
    },
    {
     "name": "stdout",
     "output_type": "stream",
     "text": [
      "Ideal=\n",
      "ideal(x^2*y^2*c_1 + y^3, -x^3*c_1 + x^2*y*c_1*c_2 - x*y + y^2*c_2, x^2*y - x*y^2*c_2, -x^3*y + x^2*y^2*c_2, x^4 - x^3*y*c_2)\n",
      "m=\n",
      "[2, 2, 2]\n",
      "d=\n",
      "[2, 0, 0]\n",
      "Hilbert function=\n",
      "QQFieldElem[1, 2, 2, 1]\n",
      "U =\n",
      "[2 1 0; 1 0 -1; 2 1 0; 3 2 1]\n",
      "H+N=\n"
     ]
    },
    {
     "data": {
      "text/plain": [
       "[       y^2    0   y*c_1]\n",
       "[-x + y*c_2    1       0]\n",
       "[         0   -x       1]\n",
       "[         0    0      -x]"
      ]
     },
     "metadata": {},
     "output_type": "display_data"
    },
    {
     "name": "stdout",
     "output_type": "stream",
     "text": [
      "Ideal=\n",
      "ideal(x^2*y*c_1 - x*y^2*c_1*c_2 + y^2, -x*y^2, x^2*y^2, -x^3 + x^2*y*c_2)\n",
      "\n",
      "dim = 3\n",
      "m=\n",
      "[1, 1, 1, 1, 2]\n",
      "d=\n",
      "[1, 0, 0, 0, 1]\n",
      "Hilbert function=\n",
      "QQFieldElem[1, 2, 1, 1, 1]\n",
      "U =\n",
      "[1 0 -1 -2 -2; 1 0 -1 -2 -2; 2 1 0 -1 -1; 3 2 1 0 0; 4 3 2 1 1; 4 3 2 1 1]\n",
      "H+N=\n"
     ]
    },
    {
     "data": {
      "text/plain": [
       "[ y    0   c_1   c_2   c_3]\n",
       "[-x    1     0     0     0]\n",
       "[ 0   -x     1     0     0]\n",
       "[ 0    0    -x     1     0]\n",
       "[ 0    0     0    -x     y]\n",
       "[ 0    0     0     0    -x]"
      ]
     },
     "metadata": {},
     "output_type": "display_data"
    },
    {
     "name": "stdout",
     "output_type": "stream",
     "text": [
      "Ideal=\n",
      "ideal(x^4*c_3 + x^3*y*c_2 + x^2*y*c_1 + y^2, -x^4*c_2 - x^3*c_1 - x*y, x^4*c_1 + x^2*y, -x^3*y, x^4*y, -x^5)\n",
      "m=\n",
      "[1, 1, 4]\n",
      "d=\n",
      "[1, 0, 3]\n",
      "Hilbert function=\n",
      "QQFieldElem[1, 2, 2, 1]\n",
      "U =\n",
      "[1 0 2; 1 0 2; 2 1 3; 0 -1 1]\n",
      "H+N=\n"
     ]
    },
    {
     "data": {
      "text/plain": [
       "[  y    0                      0]\n",
       "[ -x    1                      0]\n",
       "[  0   -x                    y^3]\n",
       "[c_1    0   -x + y^2*c_3 + y*c_2]"
      ]
     },
     "metadata": {},
     "output_type": "display_data"
    },
    {
     "name": "stdout",
     "output_type": "stream",
     "text": [
      "Ideal=\n",
      "ideal(y^4, -x*y + y^3*c_3 + y^2*c_2, x^2*y - x*y^3*c_3 - x*y^2*c_2, -x^3 + x^2*y^2*c_3 + x^2*y*c_2 + y^3*c_1)\n",
      "m=\n",
      "[3, 3]\n",
      "d=\n",
      "[3, 0]\n",
      "Hilbert function=\n",
      "QQFieldElem[1, 2, 2, 1]\n",
      "U =\n",
      "[3 2; 1 0; 2 1]\n",
      "H+N=\n"
     ]
    },
    {
     "data": {
      "text/plain": [
       "[                 y^3    0]\n",
       "[-x + y^2*c_2 + y*c_1    1]\n",
       "[             y^2*c_3   -x]"
      ]
     },
     "metadata": {},
     "output_type": "display_data"
    },
    {
     "name": "stdout",
     "output_type": "stream",
     "text": [
      "Ideal=\n",
      "ideal(y^3, -x*y^3, x^2 - x*y^2*c_2 - x*y*c_1 - y^2*c_3)\n",
      "\n",
      "dim = 4\n",
      "m=\n",
      "[1, 1, 1, 1, 1, 1]\n",
      "d=\n",
      "[1, 0, 0, 0, 0, 0]\n",
      "Hilbert function=\n",
      "QQFieldElem[1, 1, 1, 1, 1, 1]\n",
      "U =\n",
      "[1 0 -1 -2 -3 -4; 1 0 -1 -2 -3 -4; 2 1 0 -1 -2 -3; 3 2 1 0 -1 -2; 4 3 2 1 0 -1; 5 4 3 2 1 0; 6 5 4 3 2 1]\n",
      "H+N=\n"
     ]
    },
    {
     "data": {
      "text/plain": [
       "[ y    0   c_1   c_2   c_3   c_4]\n",
       "[-x    1     0     0     0     0]\n",
       "[ 0   -x     1     0     0     0]\n",
       "[ 0    0    -x     1     0     0]\n",
       "[ 0    0     0    -x     1     0]\n",
       "[ 0    0     0     0    -x     1]\n",
       "[ 0    0     0     0     0    -x]"
      ]
     },
     "metadata": {},
     "output_type": "display_data"
    },
    {
     "name": "stdout",
     "output_type": "stream",
     "text": [
      "Ideal=\n",
      "ideal(x^5*c_4 + x^4*c_3 + x^3*c_2 + x^2*c_1 + y, -x^5*c_3 - x^4*c_2 - x^3*c_1 - x*y, x^5*c_2 + x^4*c_1 + x^2*y, -x^5*c_1 - x^3*y, x^4*y, -x^5*y, x^6)\n",
      "m=\n",
      "[1, 5]\n",
      "d=\n",
      "[1, 4]\n",
      "Hilbert function=\n",
      "QQFieldElem[1, 2, 1, 1, 1]\n",
      "U =\n",
      "[1 4; 1 4; -2 1]\n",
      "H+N=\n"
     ]
    },
    {
     "data": {
      "text/plain": [
       "[  y                                0]\n",
       "[ -x                              y^4]\n",
       "[c_1   -x + y^3*c_4 + y^2*c_3 + y*c_2]"
      ]
     },
     "metadata": {},
     "output_type": "display_data"
    },
    {
     "name": "stdout",
     "output_type": "stream",
     "text": [
      "Ideal=\n",
      "ideal(y^5, -x*y + y^4*c_4 + y^3*c_3 + y^2*c_2, x^2 - x*y^3*c_4 - x*y^2*c_3 - x*y*c_2 - y^4*c_1)\n",
      "m=\n",
      "[2, 4]\n",
      "d=\n",
      "[2, 2]\n",
      "Hilbert function=\n",
      "QQFieldElem[1, 2, 2, 1]\n",
      "U =\n",
      "[2 3; 1 2; 0 1]\n",
      "H+N=\n"
     ]
    },
    {
     "data": {
      "text/plain": [
       "[        y^2            0]\n",
       "[ -x + y*c_1          y^2]\n",
       "[y*c_3 + c_2   -x + y*c_4]"
      ]
     },
     "metadata": {},
     "output_type": "display_data"
    },
    {
     "name": "stdout",
     "output_type": "stream",
     "text": [
      "Ideal=\n",
      "ideal(y^4, -x*y^2 + y^3*c_4, x^2 - x*y*c_1 - x*y*c_4 - y^3*c_3 + y^2*c_1*c_4 - y^2*c_2)\n",
      "\n",
      "dim = 5\n",
      "m=\n",
      "[6]\n",
      "d=\n",
      "[6]\n",
      "Hilbert function=\n",
      "QQFieldElem[1, 1, 1, 1, 1, 1]\n",
      "U =\n",
      "[6; 1]\n",
      "H+N=\n"
     ]
    },
    {
     "data": {
      "text/plain": [
       "[                                               y^6]\n",
       "[-x + y^5*c_5 + y^4*c_4 + y^3*c_3 + y^2*c_2 + y*c_1]"
      ]
     },
     "metadata": {},
     "output_type": "display_data"
    },
    {
     "name": "stdout",
     "output_type": "stream",
     "text": [
      "Ideal=\n",
      "ideal(y^6, -x + y^5*c_5 + y^4*c_4 + y^3*c_3 + y^2*c_2 + y*c_1)\n",
      "\n"
     ]
    }
   ],
   "source": [
    "list6 = sorted_celllist(6)\n",
    "for dim_selected in 0:5\n",
    "        selected = list[dim_selected]\n",
    "        println(\"dim = $(dim_selected)\")\n",
    "        for c in selected\n",
    "            println(\"m=\")\n",
    "            println(c.m)\n",
    "            println(\"d=\")\n",
    "            println(c.d)\n",
    "            println(\"Hilbert function=\")\n",
    "            println(c.hilb)\n",
    "            println(\"U =\")\n",
    "            println(c.U) \n",
    "            println(\"H+N=\")\n",
    "            display(c.M)\n",
    "            println(\"Ideal=\")\n",
    "            println(c.I)\n",
    "        end\n",
    "    println()\n",
    "end"
   ]
  },
  {
   "cell_type": "code",
   "execution_count": 9,
   "metadata": {},
   "outputs": [
    {
     "name": "stdout",
     "output_type": "stream",
     "text": [
      "Hilbert function = QQFieldElem[1, 2, 1, 1, 1, 1]\n",
      "m=\n",
      "[1, 1, 1, 1, 1, 2]\n",
      "d=\n",
      "[1, 0, 0, 0, 0, 1]\n",
      "U =\n",
      "[1 0 -1 -2 -3 -3; 1 0 -1 -2 -3 -3; 2 1 0 -1 -2 -2; 3 2 1 0 -1 -1; 4 3 2 1 0 0; 5 4 3 2 1 1; 5 4 3 2 1 1]\n",
      "dim=\n",
      "4\n",
      "dim_hom=\n",
      "0\n",
      "H+N=\n"
     ]
    },
    {
     "data": {
      "text/plain": [
       "[ y    0   c_1   c_2   c_3   c_4]\n",
       "[-x    1     0     0     0     0]\n",
       "[ 0   -x     1     0     0     0]\n",
       "[ 0    0    -x     1     0     0]\n",
       "[ 0    0     0    -x     1     0]\n",
       "[ 0    0     0     0    -x     y]\n",
       "[ 0    0     0     0     0    -x]"
      ]
     },
     "metadata": {},
     "output_type": "display_data"
    },
    {
     "name": "stdout",
     "output_type": "stream",
     "text": [
      "Ideal=\n",
      "ideal(x^5*c_4 + x^4*y*c_3 + x^3*y*c_2 + x^2*y*c_1 + y^2, -x^5*c_3 - x^4*c_2 - x^3*c_1 - x*y, x^5*c_2 + x^4*c_1 + x^2*y, -x^5*c_1 - x^3*y, x^4*y, -x^5*y, x^6)\n",
      "m=\n",
      "[1, 6]\n",
      "d=\n",
      "[1, 5]\n",
      "U =\n",
      "[1 5; 1 5; -3 1]\n",
      "dim=\n",
      "5\n",
      "dim_hom=\n",
      "1\n",
      "H+N=\n"
     ]
    },
    {
     "data": {
      "text/plain": [
       "[  y                                          0]\n",
       "[ -x                                        y^5]\n",
       "[c_1   -x + y^4*c_5 + y^3*c_4 + y^2*c_3 + y*c_2]"
      ]
     },
     "metadata": {},
     "output_type": "display_data"
    },
    {
     "name": "stdout",
     "output_type": "stream",
     "text": [
      "Ideal=\n",
      "ideal(y^6, -x*y + y^5*c_5 + y^4*c_4 + y^3*c_3 + y^2*c_2, x^2 - x*y^4*c_5 - x*y^3*c_4 - x*y^2*c_3 - x*y*c_2 - y^5*c_1)\n",
      "\n",
      "Hilbert function = QQFieldElem[1, 2, 2, 1, 1]\n",
      "m=\n",
      "[1, 1, 1, 1, 3]\n",
      "d=\n",
      "[1, 0, 0, 0, 2]\n",
      "U =\n",
      "[1 0 -1 -2 -1; 1 0 -1 -2 -1; 2 1 0 -1 0; 3 2 1 0 1; 4 3 2 1 2; 3 2 1 0 1]\n",
      "dim=\n",
      "4\n",
      "dim_hom=\n",
      "1\n",
      "H+N=\n"
     ]
    },
    {
     "data": {
      "text/plain": [
       "[ y    0   c_1   c_2          c_3]\n",
       "[-x    1     0     0            0]\n",
       "[ 0   -x     1     0            0]\n",
       "[ 0    0    -x     1            0]\n",
       "[ 0    0     0    -x          y^2]\n",
       "[ 0    0     0     0   -x + y*c_4]"
      ]
     },
     "metadata": {},
     "output_type": "display_data"
    },
    {
     "name": "stdout",
     "output_type": "stream",
     "text": [
      "Ideal=\n",
      "ideal(x^4*c_3 + x^3*y^2*c_2 + x^2*y^2*c_1 + y^3, -x^4*c_2 + x^3*y*c_2*c_4 - x^3*c_1 + x^2*y*c_1*c_4 - x*y + y^2*c_4, x^4*c_1 - x^3*y*c_1*c_4 + x^2*y - x*y^2*c_4, -x^3*y + x^2*y^2*c_4, x^4*y - x^3*y^2*c_4, -x^5 + x^4*y*c_4)\n",
      "m=\n",
      "[1, 1, 1, 2, 2]\n",
      "d=\n",
      "[1, 0, 0, 1, 0]\n",
      "U =\n",
      "[1 0 -1 -1 -2; 1 0 -1 -1 -2; 2 1 0 0 -1; 3 2 1 1 0; 3 2 1 1 0; 4 3 2 2 1]\n",
      "dim=\n",
      "3\n",
      "dim_hom=\n",
      "0\n",
      "H+N=\n"
     ]
    },
    {
     "data": {
      "text/plain": [
       "[ y    0   c_1   c_2   c_3]\n",
       "[-x    1     0     0     0]\n",
       "[ 0   -x     1     0     0]\n",
       "[ 0    0    -x     y     0]\n",
       "[ 0    0     0    -x     1]\n",
       "[ 0    0     0     0    -x]"
      ]
     },
     "metadata": {},
     "output_type": "display_data"
    },
    {
     "name": "stdout",
     "output_type": "stream",
     "text": [
      "Ideal=\n",
      "ideal(x^4*c_3 + x^3*c_2 + x^2*y*c_1 + y^2, -x^4*c_2 - x^3*y*c_1 - x*y^2, x^4*c_1 + x^2*y, -x^3*y, x^4*y, -x^5)\n",
      "m=\n",
      "[1, 1, 5]\n",
      "d=\n",
      "[1, 0, 4]\n",
      "U =\n",
      "[1 0 3; 1 0 3; 2 1 4; -1 -2 1]\n",
      "dim=\n",
      "4\n",
      "dim_hom=\n",
      "1\n",
      "H+N=\n"
     ]
    },
    {
     "data": {
      "text/plain": [
       "[  y    0                                0]\n",
       "[ -x    1                                0]\n",
       "[  0   -x                              y^4]\n",
       "[c_1    0   -x + y^3*c_4 + y^2*c_3 + y*c_2]"
      ]
     },
     "metadata": {},
     "output_type": "display_data"
    },
    {
     "name": "stdout",
     "output_type": "stream",
     "text": [
      "Ideal=\n",
      "ideal(y^5, -x*y + y^4*c_4 + y^3*c_3 + y^2*c_2, x^2*y - x*y^4*c_4 - x*y^3*c_3 - x*y^2*c_2, -x^3 + x^2*y^3*c_4 + x^2*y^2*c_3 + x^2*y*c_2 + y^4*c_1)\n",
      "m=\n",
      "[2, 5]\n",
      "d=\n",
      "[2, 3]\n",
      "U =\n",
      "[2 4; 1 3; -1 1]\n",
      "dim=\n",
      "5\n",
      "dim_hom=\n",
      "2\n",
      "H+N=\n"
     ]
    },
    {
     "data": {
      "text/plain": [
       "[        y^2                      0]\n",
       "[ -x + y*c_1                    y^3]\n",
       "[y*c_3 + c_2   -x + y^2*c_5 + y*c_4]"
      ]
     },
     "metadata": {},
     "output_type": "display_data"
    },
    {
     "name": "stdout",
     "output_type": "stream",
     "text": [
      "Ideal=\n",
      "ideal(y^5, -x*y^2 + y^4*c_5 + y^3*c_4, x^2 - x*y^2*c_5 - x*y*c_1 - x*y*c_4 - y^4*c_3 + y^3*c_1*c_5 - y^3*c_2 + y^2*c_1*c_4)\n",
      "\n",
      "Hilbert function = QQFieldElem[1, 2, 2, 2]\n",
      "m=\n",
      "[1, 1, 1, 4]\n",
      "d=\n",
      "[1, 0, 0, 3]\n",
      "U =\n",
      "[1 0 -1 1; 1 0 -1 1; 2 1 0 2; 3 2 1 3; 1 0 -1 1]\n",
      "dim=\n",
      "3\n",
      "dim_hom=\n",
      "1\n",
      "H+N=\n"
     ]
    },
    {
     "data": {
      "text/plain": [
       "[ y    0   c_1                      0]\n",
       "[-x    1     0                      0]\n",
       "[ 0   -x     1                      0]\n",
       "[ 0    0    -x                    y^3]\n",
       "[ 0    0     0   -x + y^2*c_3 + y*c_2]"
      ]
     },
     "metadata": {},
     "output_type": "display_data"
    },
    {
     "name": "stdout",
     "output_type": "stream",
     "text": [
      "Ideal=\n",
      "ideal(x^2*y^3*c_1 + y^4, -x^3*c_1 + x^2*y^2*c_1*c_3 + x^2*y*c_1*c_2 - x*y + y^3*c_3 + y^2*c_2, x^2*y - x*y^3*c_3 - x*y^2*c_2, -x^3*y + x^2*y^3*c_3 + x^2*y^2*c_2, x^4 - x^3*y^2*c_3 - x^3*y*c_2)\n",
      "m=\n",
      "[1, 2, 2, 2]\n",
      "d=\n",
      "[1, 1, 0, 0]\n",
      "U =\n",
      "[1 1 0 -1; 1 1 0 -1; 1 1 0 -1; 2 2 1 0; 3 3 2 1]\n",
      "dim=\n",
      "2\n",
      "dim_hom=\n",
      "0\n",
      "H+N=\n"
     ]
    },
    {
     "data": {
      "text/plain": [
       "[ y    0    0   c_1]\n",
       "[-x    y    0   c_2]\n",
       "[ 0   -x    1     0]\n",
       "[ 0    0   -x     1]\n",
       "[ 0    0    0    -x]"
      ]
     },
     "metadata": {},
     "output_type": "display_data"
    },
    {
     "name": "stdout",
     "output_type": "stream",
     "text": [
      "Ideal=\n",
      "ideal(x^3*c_1 + x^2*y*c_2 + y^2, -x*y^2, x^2*y^2, -x^3*y, x^4)\n",
      "m=\n",
      "[3, 4]\n",
      "d=\n",
      "[3, 1]\n",
      "U =\n",
      "[3 3; 1 1; 1 1]\n",
      "dim=\n",
      "4\n",
      "dim_hom=\n",
      "2\n",
      "H+N=\n"
     ]
    },
    {
     "data": {
      "text/plain": [
       "[                 y^3    0]\n",
       "[-x + y^2*c_2 + y*c_1    y]\n",
       "[     y^2*c_4 + y*c_3   -x]"
      ]
     },
     "metadata": {},
     "output_type": "display_data"
    },
    {
     "name": "stdout",
     "output_type": "stream",
     "text": [
      "Ideal=\n",
      "ideal(y^4, -x*y^3, x^2 - x*y^2*c_2 - x*y*c_1 - y^3*c_4 - y^2*c_3)\n",
      "\n",
      "Hilbert function = QQFieldElem[1, 2, 3, 1]\n",
      "m=\n",
      "[1, 1, 2, 3]\n",
      "d=\n",
      "[1, 0, 1, 1]\n",
      "U =\n",
      "[1 0 0 0; 1 0 0 0; 2 1 1 1; 2 1 1 1; 2 1 1 1]\n",
      "dim=\n",
      "0\n",
      "dim_hom=\n",
      "0\n",
      "H+N=\n"
     ]
    },
    {
     "data": {
      "text/plain": [
       "[ y    0    0    0]\n",
       "[-x    1    0    0]\n",
       "[ 0   -x    y    0]\n",
       "[ 0    0   -x    y]\n",
       "[ 0    0    0   -x]"
      ]
     },
     "metadata": {},
     "output_type": "display_data"
    },
    {
     "name": "stdout",
     "output_type": "stream",
     "text": [
      "Ideal=\n",
      "ideal(y^3, -x*y^2, x^2*y, -x^3*y, x^4)\n",
      "m=\n",
      "[1, 2, 4]\n",
      "d=\n",
      "[1, 1, 2]\n",
      "U =\n",
      "[1 1 2; 1 1 2; 1 1 2; 0 0 1]\n",
      "dim=\n",
      "3\n",
      "dim_hom=\n",
      "3\n",
      "H+N=\n"
     ]
    },
    {
     "data": {
      "text/plain": [
       "[  y     0            0]\n",
       "[ -x     y            0]\n",
       "[  0    -x          y^2]\n",
       "[c_1   c_2   -x + y*c_3]"
      ]
     },
     "metadata": {},
     "output_type": "display_data"
    },
    {
     "name": "stdout",
     "output_type": "stream",
     "text": [
      "Ideal=\n",
      "ideal(y^4, -x*y^2 + y^3*c_3, x^2*y - x*y^2*c_3 - y^3*c_2, -x^3 + x^2*y*c_3 + x*y^2*c_2 + y^3*c_1)\n",
      "m=\n",
      "[1, 3, 3]\n",
      "d=\n",
      "[1, 2, 0]\n",
      "U =\n",
      "[1 2 1; 1 2 1; 0 1 0; 1 2 1]\n",
      "dim=\n",
      "2\n",
      "dim_hom=\n",
      "2\n",
      "H+N=\n"
     ]
    },
    {
     "data": {
      "text/plain": [
       "[  y            0    0]\n",
       "[ -x          y^2    0]\n",
       "[c_1   -x + y*c_2    1]\n",
       "[  0            0   -x]"
      ]
     },
     "metadata": {},
     "output_type": "display_data"
    },
    {
     "name": "stdout",
     "output_type": "stream",
     "text": [
      "Ideal=\n",
      "ideal(y^3, -x*y^3, x^2*y - x*y^2*c_2, -x^3 + x^2*y*c_2 + x*y^2*c_1)\n",
      "m=\n",
      "[2, 2, 3]\n",
      "d=\n",
      "[2, 0, 1]\n",
      "U =\n",
      "[2 1 1; 1 0 0; 2 1 1; 2 1 1]\n",
      "dim=\n",
      "1\n",
      "dim_hom=\n",
      "1\n",
      "H+N=\n"
     ]
    },
    {
     "data": {
      "text/plain": [
       "[       y^2    0    0]\n",
       "[-x + y*c_1    1    0]\n",
       "[         0   -x    y]\n",
       "[         0    0   -x]"
      ]
     },
     "metadata": {},
     "output_type": "display_data"
    },
    {
     "name": "stdout",
     "output_type": "stream",
     "text": [
      "Ideal=\n",
      "ideal(y^3, -x*y^2, x^2*y^2, -x^3 + x^2*y*c_1)\n",
      "\n",
      "Hilbert function = QQFieldElem[1, 1, 1, 1, 1, 1, 1]\n",
      "m=\n",
      "[1, 1, 1, 1, 1, 1, 1]\n",
      "d=\n",
      "[1, 0, 0, 0, 0, 0, 0]\n",
      "U =\n",
      "[1 0 -1 -2 -3 -4 -5; 1 0 -1 -2 -3 -4 -5; 2 1 0 -1 -2 -3 -4; 3 2 1 0 -1 -2 -3; 4 3 2 1 0 -1 -2; 5 4 3 2 1 0 -1; 6 5 4 3 2 1 0; 7 6 5 4 3 2 1]\n",
      "dim=\n",
      "5\n",
      "dim_hom=\n",
      "0\n",
      "H+N=\n"
     ]
    },
    {
     "data": {
      "text/plain": [
       "[ y    0   c_1   c_2   c_3   c_4   c_5]\n",
       "[-x    1     0     0     0     0     0]\n",
       "[ 0   -x     1     0     0     0     0]\n",
       "[ 0    0    -x     1     0     0     0]\n",
       "[ 0    0     0    -x     1     0     0]\n",
       "[ 0    0     0     0    -x     1     0]\n",
       "[ 0    0     0     0     0    -x     1]\n",
       "[ 0    0     0     0     0     0    -x]"
      ]
     },
     "metadata": {},
     "output_type": "display_data"
    },
    {
     "name": "stdout",
     "output_type": "stream",
     "text": [
      "Ideal=\n",
      "ideal(x^6*c_5 + x^5*c_4 + x^4*c_3 + x^3*c_2 + x^2*c_1 + y, -x^6*c_4 - x^5*c_3 - x^4*c_2 - x^3*c_1 - x*y, x^6*c_3 + x^5*c_2 + x^4*c_1 + x^2*y, -x^6*c_2 - x^5*c_1 - x^3*y, x^6*c_1 + x^4*y, -x^5*y, x^6*y, -x^7)\n",
      "m=\n",
      "[7]\n",
      "d=\n",
      "[7]\n",
      "U =\n",
      "[7; 1]\n",
      "dim=\n",
      "6\n",
      "dim_hom=\n",
      "1\n",
      "H+N=\n"
     ]
    },
    {
     "data": {
      "text/plain": [
       "[                                                         y^7]\n",
       "[-x + y^6*c_6 + y^5*c_5 + y^4*c_4 + y^3*c_3 + y^2*c_2 + y*c_1]"
      ]
     },
     "metadata": {},
     "output_type": "display_data"
    },
    {
     "name": "stdout",
     "output_type": "stream",
     "text": [
      "Ideal=\n",
      "ideal(y^7, -x + y^6*c_6 + y^5*c_5 + y^4*c_4 + y^3*c_3 + y^2*c_2 + y*c_1)\n",
      "\n"
     ]
    }
   ],
   "source": [
    "list2 = sorted_celllist_by_HF(7)\n",
    "for hf in keys(list2)\n",
    "    println(\"Hilbert function = $(hf)\")\n",
    "    selected = list2[hf]\n",
    "    for c in selected\n",
    "        println(\"m=\")\n",
    "        println(c.m)\n",
    "        println(\"d=\")\n",
    "        println(c.d)\n",
    "        println(\"U =\")\n",
    "        println(c.U)\n",
    "        println(\"dim=\")\n",
    "        println(c.dim)\n",
    "        println(\"dim_hom=\")\n",
    "        println(c.dim_hom)\n",
    "        println(\"H+N=\")\n",
    "        display(c.M)\n",
    "        println(\"Ideal=\")\n",
    "        println(c.I)\n",
    "    end\n",
    "println()\n",
    "end\n",
    "    "
   ]
  },
  {
   "cell_type": "code",
   "execution_count": 41,
   "metadata": {},
   "outputs": [],
   "source": [
    "list = Dict{Int64, Dict{Int64, Vector{SmallCell}}}()\n",
    "dimlist = Dict{Int64, Dict{Int64, Int64}}()\n",
    "for n in 1:40\n",
    "    list[n] = sorted_celllist(SmallCell, n)\n",
    "    dimlist[n] = Dict{Int64, Int64}()\n",
    "    for k in keys(list[n])\n",
    "        dimlist[n][k] = length(list[n][k])\n",
    "    end\n",
    "end"
   ]
  },
  {
   "cell_type": "code",
   "execution_count": 42,
   "metadata": {},
   "outputs": [],
   "source": [
    "for n in 41:45\n",
    "    list[n] = sorted_celllist(SmallCell, n)\n",
    "    dimlist[n] = Dict{Int64, Int64}()\n",
    "    for k in keys(list[n])\n",
    "        dimlist[n][k] = length(list[n][k])\n",
    "    end\n",
    "end"
   ]
  },
  {
   "cell_type": "code",
   "execution_count": 43,
   "metadata": {},
   "outputs": [],
   "source": [
    "for n in 45:50\n",
    "    list[n] = sorted_celllist(SmallCell, n)\n",
    "    dimlist[n] = Dict{Int64, Int64}()\n",
    "    for k in keys(list[n])\n",
    "        dimlist[n][k] = length(list[n][k])\n",
    "    end\n",
    "end"
   ]
  },
  {
   "cell_type": "code",
   "execution_count": 44,
   "metadata": {},
   "outputs": [
    {
     "data": {
      "text/plain": [
       "50-element Vector{Vector{Int64}}:\n",
       " [1]\n",
       " [1, 1]\n",
       " [1, 1, 1]\n",
       " [1, 1, 2, 1]\n",
       " [1, 1, 2, 2, 1]\n",
       " [1, 1, 2, 3, 3, 1]\n",
       " [1, 1, 2, 3, 4, 3, 1]\n",
       " [1, 1, 2, 3, 5, 5, 4, 1]\n",
       " [1, 1, 2, 3, 5, 6, 7, 4, 1]\n",
       " [1, 1, 2, 3, 5, 7, 9, 8, 5, 1]\n",
       " [1, 1, 2, 3, 5, 7, 10, 11, 10, 5, 1]\n",
       " [1, 1, 2, 3, 5, 7, 11, 13, 15, 12, 6, 1]\n",
       " [1, 1, 2, 3, 5, 7, 11, 14, 18, 18, 14, 6, 1]\n",
       " ⋮\n",
       " [1, 1, 2, 3, 5, 7, 11, 15, 22, 30  …  3015, 3060, 2857, 2400, 1729, 1014, 441, 127, 19, 1]\n",
       " [1, 1, 2, 3, 5, 7, 11, 15, 22, 30  …  3590, 3589, 3319, 2738, 1945, 1115, 478, 133, 20, 1]\n",
       " [1, 1, 2, 3, 5, 7, 11, 15, 22, 30  …  4242, 4206, 3828, 3120, 2172, 1226, 511, 140, 20, 1]\n",
       " [1, 1, 2, 3, 5, 7, 11, 15, 22, 30  …  5013, 4904, 4417, 3539, 2432, 1342, 551, 147, 21, 1]\n",
       " [1, 1, 2, 3, 5, 7, 11, 15, 22, 30  …  5888, 5708, 5066, 4011, 2702, 1469, 588, 154, 21, 1]\n",
       " [1, 1, 2, 3, 5, 7, 11, 15, 22, 30  …  6912, 6615, 5812, 4526, 3009, 1602, 632, 161, 22, 1]\n",
       " [1, 1, 2, 3, 5, 7, 11, 15, 22, 30  …  8070, 7657, 6630, 5102, 3331, 1747, 672, 169, 22, 1]\n",
       " [1, 1, 2, 3, 5, 7, 11, 15, 22, 30  …  9418, 8824, 7564, 5731, 3692, 1898, 720, 176, 23, 1]\n",
       " [1, 1, 2, 3, 5, 7, 11, 15, 22, 30  …  10936, 10156, 8588, 6430, 4070, 2062, 764, 184, 23, 1]\n",
       " [1, 1, 2, 3, 5, 7, 11, 15, 22, 30  …  12690, 11648, 9749, 7190, 4494, 2233, 816, 192, 24, 1]\n",
       " [1, 1, 2, 3, 5, 7, 11, 15, 22, 30  …  14663, 13338, 11018, 8033, 4935, 2418, 864, 200, 24, 1]\n",
       " [1, 1, 2, 3, 5, 7, 11, 15, 22, 30  …  16928, 15224, 12450, 8946, 5427, 2611, 920, 208, 25, 1]"
      ]
     },
     "execution_count": 44,
     "metadata": {},
     "output_type": "execute_result"
    }
   ],
   "source": [
    "as_matrix = [[dimlist[i][j] for j in sort([keys(dimlist[i])...])] for i in sort([keys(dimlist)...])]"
   ]
  },
  {
   "cell_type": "code",
   "execution_count": 28,
   "metadata": {},
   "outputs": [
    {
     "name": "stdout",
     "output_type": "stream",
     "text": [
      "[1]\n",
      "[1, 1]\n",
      "[1, 1, 1]\n",
      "[1, 1, 2, 1]\n",
      "[1, 1, 2, 2, 1]\n",
      "[1, 1, 2, 3, 3, 1]\n",
      "[1, 1, 2, 3, 4, 3, 1]\n",
      "[1, 1, 2, 3, 5, 5, 4, 1]\n",
      "[1, 1, 2, 3, 5, 6, 7, 4, 1]\n",
      "[1, 1, 2, 3, 5, 7, 9, 8, 5, 1]\n",
      "[1, 1, 2, 3, 5, 7, 10, 11, 10, 5, 1]\n",
      "[1, 1, 2, 3, 5, 7, 11, 13, 15, 12, 6, 1]\n",
      "[1, 1, 2, 3, 5, 7, 11, 14, 18, 18, 14, 6, 1]\n",
      "[1, 1, 2, 3, 5, 7, 11, 15, 20, 23, 23, 16, 7, 1]\n",
      "[1, 1, 2, 3, 5, 7, 11, 15, 21, 26, 30, 27, 19, 7, 1]\n",
      "[1, 1, 2, 3, 5, 7, 11, 15, 22, 28, 35, 37, 34, 21, 8, 1]\n",
      "[1, 1, 2, 3, 5, 7, 11, 15, 22, 29, 38, 44, 47, 39, 24, 8, 1]\n",
      "[1, 1, 2, 3, 5, 7, 11, 15, 22, 30, 40, 49, 58, 57, 47, 27, 9, 1]\n",
      "[1, 1, 2, 3, 5, 7, 11, 15, 22, 30, 41, 52, 65, 71, 70, 54, 30, 9, 1]\n",
      "[1, 1, 2, 3, 5, 7, 11, 15, 22, 30, 42, 54, 70, 82, 90, 84, 64, 33, 10, 1]\n",
      "[1, 1, 2, 3, 5, 7, 11, 15, 22, 30, 42, 55, 73, 89, 105, 110, 101, 72, 37, 10, 1]\n",
      "[1, 1, 2, 3, 5, 7, 11, 15, 22, 30, 42, 56, 75, 94, 116, 131, 136, 119, 84, 40, 11, 1]\n",
      "[1, 1, 2, 3, 5, 7, 11, 15, 22, 30, 42, 56, 76, 97, 123, 146, 164, 163, 141, 94, 44, 11, 1]\n",
      "[1, 1, 2, 3, 5, 7, 11, 15, 22, 30, 42, 56, 77, 99, 128, 157, 186, 201, 199, 164, 108, 48, 12, 1]\n",
      "[1, 1, 2, 3, 5, 7, 11, 15, 22, 30, 42, 56, 77, 100, 131, 164, 201, 230, 248, 235, 192, 120, 52, 12, 1]\n",
      "[1, 1, 2, 3, 5, 7, 11, 15, 22, 30, 42, 56, 77, 101, 133, 169, 212, 252, 288, 300, 282, 221, 136, 56, 13, 1]\n",
      "[1, 1, 2, 3, 5, 7, 11, 15, 22, 30, 42, 56, 77, 101, 134, 172, 219, 267, 318, 352, 364, 331, 255, 150, 61, 13, 1]\n",
      "[1, 1, 2, 3, 5, 7, 11, 15, 22, 30, 42, 56, 77, 101, 135, 174, 224, 278, 340, 393, 434, 436, 391, 291, 169, 65, 14, 1]\n",
      "[1, 1, 2, 3, 5, 7, 11, 15, 22, 30, 42, 56, 77, 101, 135, 175, 227, 285, 355, 423, 488, 525, 522, 454, 333, 185, 70, 14, 1]\n",
      "[1, 1, 2, 3, 5, 7, 11, 15, 22, 30, 42, 56, 77, 101, 135, 176, 229, 290, 366, 445, 530, 598, 638, 618, 532, 377, 206, 75, 15, 1]\n",
      "[1, 1, 2, 3, 5, 7, 11, 15, 22, 30, 42, 56, 77, 101, 135, 176, 230, 293, 373, 460, 560, 653, 732, 764, 733, 612, 427, 225, 80, 15, 1]\n",
      "[1, 1, 2, 3, 5, 7, 11, 15, 22, 30, 42, 56, 77, 101, 135, 176, 231, 295, 378, 471, 582, 695, 807, 887, 919, 860, 709, 480, 249, 85, 16, 1]\n",
      "[1, 1, 2, 3, 5, 7, 11, 15, 22, 30, 42, 56, 77, 101, 135, 176, 231, 296, 381, 478, 597, 725, 863, 984, 1076, 1090, 1009, 811, 540, 270, 91, 16, 1]\n",
      "[1, 1, 2, 3, 5, 7, 11, 15, 22, 30, 42, 56, 77, 101, 135, 176, 231, 297, 383, 483, 608, 747, 905, 1060, 1204, 1291, 1297, 1175, 931, 603, 297, 96, 17, 1]\n",
      "[1, 1, 2, 3, 5, 7, 11, 15, 22, 30, 42, 56, 77, 101, 135, 176, 231, 297, 384, 486, 615, 762, 935, 1116, 1303, 1455, 1549, 1527, 1367, 1057, 674, 321, 102, 17, 1]\n",
      "[1, 1, 2, 3, 5, 7, 11, 15, 22, 30, 42, 56, 77, 101, 135, 176, 231, 297, 385, 488, 620, 773, 957, 1158, 1380, 1586, 1761, 1845, 1801, 1579, 1206, 748, 351, 108, 18, 1]\n",
      "[1, 1, 2, 3, 5, 7, 11, 15, 22, 30, 42, 56, 77, 101, 135, 176, 231, 297, 385, 489, 623, 780, 972, 1188, 1436, 1686, 1930, 2112, 2194, 2104, 1824, 1360, 831, 378, 114, 18, 1]\n",
      "[1, 1, 2, 3, 5, 7, 11, 15, 22, 30, 42, 56, 77, 101, 135, 176, 231, 297, 385, 490, 625, 785, 983, 1210, 1478, 1763, 2063, 2331, 2534, 2592, 2462, 2093, 1540, 918, 411, 120, 19, 1]\n",
      "[1, 1, 2, 3, 5, 7, 11, 15, 22, 30, 42, 56, 77, 101, 135, 176, 231, 297, 385, 490, 626, 788, 990, 1225, 1508, 1819, 2164, 2503, 2812, 3015, 3060, 2857, 2400, 1729, 1014, 441, 127, 19, 1]\n",
      "[1, 1, 2, 3, 5, 7, 11, 15, 22, 30, 42, 56, 77, 101, 135, 176, 231, 297, 385, 490, 627, 790, 995, 1236, 1530, 1861, 2241, 2637, 3036, 3370, 3590, 3589, 3319, 2738, 1945, 1115, 478, 133, 20, 1]\n"
     ]
    }
   ],
   "source": [
    "for i in 1:40\n",
    "println(as_matrix[i])\n",
    "end"
   ]
  },
  {
   "cell_type": "code",
   "execution_count": 45,
   "metadata": {
    "scrolled": false
   },
   "outputs": [
    {
     "data": {
      "text/plain": [
       "1275-element Vector{Int64}:\n",
       "     1\n",
       "     1\n",
       "     1\n",
       "     1\n",
       "     1\n",
       "     1\n",
       "     1\n",
       "     1\n",
       "     2\n",
       "     1\n",
       "     1\n",
       "     1\n",
       "     2\n",
       "     ⋮\n",
       " 17084\n",
       " 17475\n",
       " 16928\n",
       " 15224\n",
       " 12450\n",
       "  8946\n",
       "  5427\n",
       "  2611\n",
       "   920\n",
       "   208\n",
       "    25\n",
       "     1"
      ]
     },
     "execution_count": 45,
     "metadata": {},
     "output_type": "execute_result"
    }
   ],
   "source": [
    "as_vector = vcat(as_matrix...)"
   ]
  },
  {
   "cell_type": "code",
   "execution_count": 47,
   "metadata": {},
   "outputs": [
    {
     "data": {
      "text/plain": [
       "Dict{Int64, Int64} with 9870 entries:\n",
       "  4986 => 14883\n",
       "  7329 => 3087227\n",
       "  4700 => 63261\n",
       "  4576 => 176\n",
       "  7144 => 3\n",
       "  6073 => 10243651\n",
       "  2288 => 30\n",
       "  1703 => 40831\n",
       "  1956 => 2\n",
       "  8437 => 239943\n",
       "  2350 => 3\n",
       "  7685 => 715220\n",
       "  8690 => 63261\n",
       "  5975 => 28622740\n",
       "  9773 => 53174\n",
       "  3406 => 2\n",
       "  2841 => 327748\n",
       "  2876 => 1958\n",
       "  687  => 623\n",
       "  7353 => 63569321\n",
       "  185  => 71\n",
       "  1090 => 22\n",
       "  2015 => 31\n",
       "  7272 => 56\n",
       "  8544 => 3718\n",
       "  ⋮    => ⋮"
      ]
     },
     "execution_count": 47,
     "metadata": {},
     "output_type": "execute_result"
    }
   ],
   "source": [
    "oeis_data = Dict{Int64, Int64}()\n",
    "f = open(\"../data/b058398.txt\", \"r\")\n",
    "for lines in readlines(f)\n",
    " \n",
    "    s = split(lines,\" \")\n",
    "    position = parse(Int64, s[1])\n",
    "    dimension = parse(Int64, s[2])\n",
    "    oeis_data[position] = dimension\n",
    " \n",
    "end\n",
    "close(f)\n",
    "oeis_data"
   ]
  },
  {
   "cell_type": "code",
   "execution_count": 48,
   "metadata": {},
   "outputs": [
    {
     "data": {
      "text/plain": [
       "true"
      ]
     },
     "execution_count": 48,
     "metadata": {},
     "output_type": "execute_result"
    }
   ],
   "source": [
    "as_vector == [oeis_data[i] for i in 1:length(as_vector)]"
   ]
  },
  {
   "cell_type": "code",
   "execution_count": 35,
   "metadata": {},
   "outputs": [
    {
     "name": "stdout",
     "output_type": "stream",
     "text": [
      "Differences of dimensions ok for n = 1\n",
      "Differences of dimensions ok for n = 2\n",
      "Differences of dimensions ok for n = 3\n",
      "Differences of dimensions ok for n = 4\n",
      "Differences of dimensions ok for n = 5\n",
      "Differences of dimensions ok for n = 6\n",
      "Differences of dimensions ok for n = 7\n",
      "Differences of dimensions ok for n = 8\n",
      "Differences of dimensions ok for n = 9\n",
      "Differences of dimensions ok for n = 10\n",
      "Differences of dimensions ok for n = 11\n",
      "Differences of dimensions ok for n = 12\n",
      "Differences of dimensions ok for n = 13\n",
      "Differences of dimensions ok for n = 14\n",
      "Differences of dimensions ok for n = 15\n",
      "Differences of dimensions ok for n = 16\n",
      "Differences of dimensions ok for n = 17\n",
      "Differences of dimensions ok for n = 18\n",
      "Differences of dimensions ok for n = 19\n",
      "Differences of dimensions ok for n = 20\n",
      "Differences of dimensions ok for n = 21\n",
      "Differences of dimensions ok for n = 22\n",
      "Differences of dimensions ok for n = 23\n",
      "Differences of dimensions ok for n = 24\n",
      "Differences of dimensions ok for n = 25\n",
      "Differences of dimensions ok for n = 26\n",
      "Differences of dimensions ok for n = 27\n",
      "Differences of dimensions ok for n = 28\n",
      "Differences of dimensions ok for n = 29\n",
      "Differences of dimensions ok for n = 30\n",
      "Differences of dimensions ok for n = 31\n",
      "Differences of dimensions ok for n = 32\n",
      "Differences of dimensions ok for n = 33\n",
      "Differences of dimensions ok for n = 34\n",
      "Differences of dimensions ok for n = 35\n",
      "Differences of dimensions ok for n = 36\n",
      "Differences of dimensions ok for n = 37\n",
      "Differences of dimensions ok for n = 38\n",
      "Differences of dimensions ok for n = 39\n",
      "Differences of dimensions ok for n = 40\n"
     ]
    }
   ],
   "source": [
    "for n in 1:40\n",
    "    if check_dim_diffs(n)\n",
    "        println(\"Differences of dimensions ok for n = \" *string(n))\n",
    "    end\n",
    "end"
   ]
  },
  {
   "cell_type": "code",
   "execution_count": 37,
   "metadata": {},
   "outputs": [
    {
     "name": "stdout",
     "output_type": "stream",
     "text": [
      "Differences of dimensions ok for n = 41\n",
      "Differences of dimensions ok for n = 42\n",
      "Differences of dimensions ok for n = 43\n",
      "Differences of dimensions ok for n = 44\n",
      "Differences of dimensions ok for n = 45\n"
     ]
    }
   ],
   "source": [
    "for n in 41:45\n",
    "    if check_dim_diffs(n)\n",
    "        println(\"Differences of dimensions ok for n = \" *string(n))\n",
    "    end\n",
    "end"
   ]
  },
  {
   "cell_type": "code",
   "execution_count": 38,
   "metadata": {},
   "outputs": [
    {
     "name": "stdout",
     "output_type": "stream",
     "text": [
      "Differences of dimensions ok for n = 46\n",
      "Differences of dimensions ok for n = 47\n",
      "Differences of dimensions ok for n = 48\n"
     ]
    }
   ],
   "source": [
    "for n in 46:48\n",
    "    if check_dim_diffs(n)\n",
    "        println(\"Differences of dimensions ok for n = \" *string(n))\n",
    "    end\n",
    "end"
   ]
  },
  {
   "cell_type": "code",
   "execution_count": 39,
   "metadata": {},
   "outputs": [
    {
     "name": "stdout",
     "output_type": "stream",
     "text": [
      "Differences of dimensions ok for n = 49\n",
      "Differences of dimensions ok for n = 50\n"
     ]
    }
   ],
   "source": [
    "for n in 49:50\n",
    "    if check_dim_diffs(n)\n",
    "        println(\"Differences of dimensions ok for n = \" *string(n))\n",
    "    end\n",
    "end"
   ]
  }
 ],
 "metadata": {
  "kernelspec": {
   "display_name": "Julia 1.8.5",
   "language": "julia",
   "name": "julia-1.8"
  },
  "language_info": {
   "file_extension": ".jl",
   "mimetype": "application/julia",
   "name": "julia",
   "version": "1.8.5"
  }
 },
 "nbformat": 4,
 "nbformat_minor": 4
}
