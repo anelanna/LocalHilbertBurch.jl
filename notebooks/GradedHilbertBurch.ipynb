{
 "cells": [
  {
   "cell_type": "code",
   "execution_count": 1,
   "metadata": {},
   "outputs": [
    {
     "name": "stderr",
     "output_type": "stream",
     "text": [
      "\u001b[36m\u001b[1m[ \u001b[22m\u001b[39m\u001b[36m\u001b[1mInfo: \u001b[22m\u001b[39mPrecompiling LocalHilbertBurch [9e134104-6c8f-43ea-a53e-fc3fda40cbb2]\n"
     ]
    },
    {
     "name": "stdout",
     "output_type": "stream",
     "text": [
      "polymake version 4.9\n",
      "Copyright (c) 1997-2023\n",
      "Ewgenij Gawrilow, Michael Joswig, and the polymake team\n",
      "Technische Universität Berlin, Germany\n",
      "https://polymake.org\n",
      "\n",
      "This is free software licensed under GPL; see the source for copying conditions.\n",
      "There is NO warranty; not even for MERCHANTABILITY or FITNESS FOR A PARTICULAR PURPOSE.\n",
      "\n",
      "Singular.jl, based on\n",
      "                     SINGULAR                               /\n",
      " A Computer Algebra System for Polynomial Computations     /  Singular.jl: 0.18.2\n",
      "                                                         0<   Singular   : 4.3.2p1\n",
      " by: W. Decker, G.-M. Greuel, G. Pfister, H. Schoenemann   \\\n",
      "FB Mathematik der Universitaet, D-67653 Kaiserslautern      \\\n",
      "     \n",
      " -----    -----    -----      -      -----   \n",
      "|     |  |     |  |     |    | |    |     |  \n",
      "|     |  |        |         |   |   |     |  \n",
      "|     |   -----   |        |     |  |-----   \n",
      "|     |        |  |        |-----|  |   |    \n",
      "|     |  |     |  |     |  |     |  |    |   \n",
      " -----    -----    -----   -     -  -     -  \n",
      "\n",
      "...combining (and extending) ANTIC, GAP, Polymake and Singular\n",
      "Version\u001b[32m 0.12.0 \u001b[39m... \n",
      " ... which comes with absolutely no warranty whatsoever\n",
      "Type: '?Oscar' for more information\n",
      "(c) 2019-2023 by The OSCAR Development Team\n"
     ]
    }
   ],
   "source": [
    "using LocalHilbertBurch\n",
    "using Oscar"
   ]
  },
  {
   "cell_type": "code",
   "execution_count": 27,
   "metadata": {},
   "outputs": [
    {
     "data": {
      "text/plain": [
       "matrix2str (generic function with 1 method)"
      ]
     },
     "execution_count": 27,
     "metadata": {},
     "output_type": "execute_result"
    }
   ],
   "source": [
    "function matrix2str(A)\n",
    "    strA = \"  \" * join([join([string(a) for a in A[i,:]],\" & \") for i in 1:nrows(A)], \"\\\\\\\\\\n  \")\n",
    "    strA = \"\\\\begin{array}{\"*repeat(\"c\",ncols(A))*\"}\\n\" * strA * \"\\n\\\\end{array}\"\n",
    "    strA = \"\\\\left(\\n\" * strA * \"\\n\\\\right)\"\n",
    "    strA = \"\\\\(\\n\" * strA * \"\\n\\\\)\"\n",
    "    return strA\n",
    "end"
   ]
  },
  {
   "cell_type": "code",
   "execution_count": 2,
   "metadata": {},
   "outputs": [
    {
     "name": "stdout",
     "output_type": "stream",
     "text": [
      "ideal(y^10, -x*y^8, x^2*y^5, -x^3*y, x^4)\n",
      "QQFieldElem[1, 2, 3, 4, 3, 3, 3, 2, 2, 1]\n"
     ]
    },
    {
     "data": {
      "text/plain": [
       "[ y     0     0     0]\n",
       "[-x   y^4     0     0]\n",
       "[ 0    -x   y^3     0]\n",
       "[ 0     0    -x   y^2]\n",
       "[ 0     0     0    -x]"
      ]
     },
     "metadata": {},
     "output_type": "display_data"
    },
    {
     "data": {
      "text/plain": [
       "[ 1    4   6   7]\n",
       "[ 1    4   6   7]\n",
       "[-2    1   3   4]\n",
       "[-4   -1   1   2]\n",
       "[-5   -2   0   1]"
      ]
     },
     "metadata": {},
     "output_type": "display_data"
    },
    {
     "data": {
      "text/plain": [
       "[ y + c_1                                     c_2                                   c_3                                   c_4]\n",
       "[-x + c_5   y^4 + y^3*c_9 + y^2*c_8 + y*c_7 + c_6   y^3*c_13 + y^2*c_12 + y*c_11 + c_10   y^3*c_17 + y^2*c_16 + y*c_15 + c_14]\n",
       "[       0                      -x + y*c_19 + c_18        y^3 + y^2*c_22 + y*c_21 + c_20              y^2*c_25 + y*c_24 + c_23]\n",
       "[       0                                       0                    -x + y*c_27 + c_26                   y^2 + y*c_29 + c_28]\n",
       "[       0                                       0                                  c_30                    -x + y*c_32 + c_31]"
      ]
     },
     "metadata": {},
     "output_type": "display_data"
    },
    {
     "data": {
      "text/plain": [
       "32"
      ]
     },
     "execution_count": 2,
     "metadata": {},
     "output_type": "execute_result"
    }
   ],
   "source": [
    "m = [1,5,8,10]\n",
    "R,_ = PolynomialRing(QQ, [[\"x\",\"y\"];[\"c_\"*string(i) for i in 1:48]])\n",
    "Q,_ = GradedPolynomialRing(QQ, [\"x\", \"y\"]) \n",
    "C = GradedCell(m,1,1,R,Q)\n",
    "println(C.E)\n",
    "println(C.hilb)\n",
    "display(C.H)\n",
    "display(C.W)\n",
    "display(C.M)\n",
    "C.dim"
   ]
  },
  {
   "cell_type": "code",
   "execution_count": 30,
   "metadata": {},
   "outputs": [
    {
     "name": "stdout",
     "output_type": "stream",
     "text": [
      "ideal(y^10, -x*y^8, x^2*y^5, -x^3*y, x^4)\n",
      "QQFieldElem[1, 2, 3, 4, 3, 3, 3, 2, 2, 1]\n"
     ]
    },
    {
     "data": {
      "text/plain": [
       "[ y     0     0     0]\n",
       "[-x   y^4     0     0]\n",
       "[ 0    -x   y^3     0]\n",
       "[ 0     0    -x   y^2]\n",
       "[ 0     0     0    -x]"
      ]
     },
     "metadata": {},
     "output_type": "display_data"
    },
    {
     "data": {
      "text/plain": [
       "[   1   -995   -1992   -2990]\n",
       "[1000      4    -993   -1991]\n",
       "[1996   1000       3    -995]\n",
       "[2993   1997    1000       2]\n",
       "[3991   2995    1998    1000]"
      ]
     },
     "metadata": {},
     "output_type": "display_data"
    },
    {
     "data": {
      "text/plain": [
       "[ y + c_1                                        0                                0                     0]\n",
       "[-x + c_2    y^4 + y^3*c_6 + y^2*c_5 + y*c_4 + c_3                                0                     0]\n",
       "[     c_7   -x + y^3*c_11 + y^2*c_10 + y*c_9 + c_8   y^3 + y^2*c_14 + y*c_13 + c_12                     0]\n",
       "[    c_15      y^3*c_19 + y^2*c_18 + y*c_17 + c_16    -x + y^2*c_22 + y*c_21 + c_20   y^2 + y*c_24 + c_23]\n",
       "[    c_25      y^3*c_29 + y^2*c_28 + y*c_27 + c_26         y^2*c_32 + y*c_31 + c_30    -x + y*c_34 + c_33]"
      ]
     },
     "metadata": {},
     "output_type": "display_data"
    },
    {
     "name": "stdout",
     "output_type": "stream",
     "text": [
      "\\(\n",
      "\\left(\n",
      "\\begin{array}{cccc}\n",
      "  1 & -995 & -1992 & -2990\\\\\n",
      "  1000 & 4 & -993 & -1991\\\\\n",
      "  1996 & 1000 & 3 & -995\\\\\n",
      "  2993 & 1997 & 1000 & 2\\\\\n",
      "  3991 & 2995 & 1998 & 1000\n",
      "\\end{array}\n",
      "\\right)\n",
      "\\)\n"
     ]
    }
   ],
   "source": [
    "m = [1,5,8,10]\n",
    "R,_ = PolynomialRing(QQ, [[\"x\",\"y\"];[\"c_\"*string(i) for i in 1:48]])\n",
    "Q,_ = GradedPolynomialRing(QQ, [\"x\", \"y\"]) \n",
    "C = GradedCell(m,1000,1,R,Q)\n",
    "println(C.E)\n",
    "println(C.hilb)\n",
    "display(C.H)\n",
    "display(C.W)\n",
    "display(C.M)\n",
    "C.dim\n",
    "println(matrix2str(C.W))"
   ]
  },
  {
   "cell_type": "code",
   "execution_count": 31,
   "metadata": {},
   "outputs": [
    {
     "name": "stdout",
     "output_type": "stream",
     "text": [
      "ideal(y^10, -x*y^8, x^2*y^5, -x^3*y, x^4)\n",
      "QQFieldElem[1, 2, 3, 4, 3, 3, 3, 2, 2, 1]\n"
     ]
    },
    {
     "data": {
      "text/plain": [
       "[ y     0     0     0]\n",
       "[-x   y^4     0     0]\n",
       "[ 0    -x   y^3     0]\n",
       "[ 0     0    -x   y^2]\n",
       "[ 0     0     0    -x]"
      ]
     },
     "metadata": {},
     "output_type": "display_data"
    },
    {
     "data": {
      "text/plain": [
       "[          1    4999//1000    3999//500   9997//1000]\n",
       "[    1//1000             4   6999//1000    4499//500]\n",
       "[ -1999//500       1//1000            3   4999//1000]\n",
       "[-6997//1000    -1499//500      1//1000            2]\n",
       "[ -2249//250   -4997//1000    -999//500      1//1000]"
      ]
     },
     "metadata": {},
     "output_type": "display_data"
    },
    {
     "data": {
      "text/plain": [
       "[ y + c_1                                     c_2                                   c_3                                   c_4]\n",
       "[-x + c_5   y^4 + y^3*c_9 + y^2*c_8 + y*c_7 + c_6   y^3*c_13 + y^2*c_12 + y*c_11 + c_10   y^3*c_17 + y^2*c_16 + y*c_15 + c_14]\n",
       "[       0                               -x + c_18        y^3 + y^2*c_21 + y*c_20 + c_19              y^2*c_24 + y*c_23 + c_22]\n",
       "[       0                                       0                             -x + c_25                   y^2 + y*c_27 + c_26]\n",
       "[       0                                       0                                     0                             -x + c_28]"
      ]
     },
     "metadata": {},
     "output_type": "display_data"
    },
    {
     "name": "stdout",
     "output_type": "stream",
     "text": [
      "\\(\n",
      "\\left(\n",
      "\\begin{array}{cccc}\n",
      "  1 & 4999//1000 & 3999//500 & 9997//1000\\\\\n",
      "  1//1000 & 4 & 6999//1000 & 4499//500\\\\\n",
      "  -1999//500 & 1//1000 & 3 & 4999//1000\\\\\n",
      "  -6997//1000 & -1499//500 & 1//1000 & 2\\\\\n",
      "  -2249//250 & -4997//1000 & -999//500 & 1//1000\n",
      "\\end{array}\n",
      "\\right)\n",
      "\\)\n"
     ]
    }
   ],
   "source": [
    "m = [1,5,8,10]\n",
    "R,_ = PolynomialRing(QQ, [[\"x\",\"y\"];[\"c_\"*string(i) for i in 1:48]])\n",
    "Q,_ = GradedPolynomialRing(QQ, [\"x\", \"y\"]) \n",
    "C = GradedCell(m,1,1000,R,Q)\n",
    "println(C.E)\n",
    "println(C.hilb)\n",
    "display(C.H)\n",
    "display(C.W)\n",
    "display(C.M)\n",
    "C.dim\n",
    "println(matrix2str(C.W))"
   ]
  },
  {
   "cell_type": "code",
   "execution_count": 5,
   "metadata": {},
   "outputs": [
    {
     "name": "stdout",
     "output_type": "stream",
     "text": [
      "ideal(y^10, -x*y^8, x^2*y^5, -x^3*y, x^4)\n",
      "QQFieldElem[1, 2, 3, 4, 3, 3, 3, 2, 2, 1]\n"
     ]
    },
    {
     "data": {
      "text/plain": [
       "[ y     0     0     0]\n",
       "[-x   y^4     0     0]\n",
       "[ 0    -x   y^3     0]\n",
       "[ 0     0    -x   y^2]\n",
       "[ 0     0     0    -x]"
      ]
     },
     "metadata": {},
     "output_type": "display_data"
    },
    {
     "data": {
      "text/plain": [
       "[     1   13//3   20//3       8]\n",
       "[  2//3       4   19//3   23//3]\n",
       "[ -8//3    2//3       3   13//3]\n",
       "[    -5   -5//3    2//3       2]\n",
       "[-19//3      -3   -2//3    2//3]"
      ]
     },
     "metadata": {},
     "output_type": "display_data"
    },
    {
     "data": {
      "text/plain": [
       "[ y + c_1                                     c_2                                   c_3                                   c_4]\n",
       "[-x + c_5   y^4 + y^3*c_9 + y^2*c_8 + y*c_7 + c_6   y^3*c_13 + y^2*c_12 + y*c_11 + c_10   y^3*c_17 + y^2*c_16 + y*c_15 + c_14]\n",
       "[       0                               -x + c_18        y^3 + y^2*c_21 + y*c_20 + c_19              y^2*c_24 + y*c_23 + c_22]\n",
       "[       0                                       0                             -x + c_25                   y^2 + y*c_27 + c_26]\n",
       "[       0                                       0                                     0                             -x + c_28]"
      ]
     },
     "metadata": {},
     "output_type": "display_data"
    },
    {
     "data": {
      "text/plain": [
       "28"
      ]
     },
     "execution_count": 5,
     "metadata": {},
     "output_type": "execute_result"
    }
   ],
   "source": [
    "m = [1,5,8,10]\n",
    "R,_ = PolynomialRing(QQ, [[\"x\",\"y\"];[\"c_\"*string(i) for i in 1:48]])\n",
    "Q,_ = GradedPolynomialRing(QQ, [\"x\", \"y\"]) \n",
    "C = GradedCell(m,2,3,R,Q)\n",
    "println(C.E)\n",
    "println(C.hilb)\n",
    "display(C.H)\n",
    "display(C.W)\n",
    "display(C.M)\n",
    "C.dim\n",
    "println(matrix2str(C.W))"
   ]
  },
  {
   "cell_type": "code",
   "execution_count": 6,
   "metadata": {},
   "outputs": [
    {
     "name": "stdout",
     "output_type": "stream",
     "text": [
      "ideal(y^10, -x*y^8, x^2*y^5, -x^3*y, x^4)\n",
      "QQFieldElem[1, 2, 3, 4, 3, 3, 3, 2, 2, 1]\n"
     ]
    },
    {
     "data": {
      "text/plain": [
       "[ y     0     0     0]\n",
       "[-x   y^4     0     0]\n",
       "[ 0    -x   y^3     0]\n",
       "[ 0     0    -x   y^2]\n",
       "[ 0     0     0    -x]"
      ]
     },
     "metadata": {},
     "output_type": "display_data"
    },
    {
     "data": {
      "text/plain": [
       "[    1    7//2       5   11//2]\n",
       "[ 3//2       4   11//2       6]\n",
       "[   -1    3//2       3    7//2]\n",
       "[-5//2       0    3//2       2]\n",
       "[   -3   -1//2       1    3//2]"
      ]
     },
     "metadata": {},
     "output_type": "display_data"
    },
    {
     "data": {
      "text/plain": [
       "[ y + c_1                                     c_2                                   c_3                                   c_4]\n",
       "[-x + c_5   y^4 + y^3*c_9 + y^2*c_8 + y*c_7 + c_6   y^3*c_13 + y^2*c_12 + y*c_11 + c_10   y^3*c_17 + y^2*c_16 + y*c_15 + c_14]\n",
       "[       0                      -x + y*c_19 + c_18        y^3 + y^2*c_22 + y*c_21 + c_20              y^2*c_25 + y*c_24 + c_23]\n",
       "[       0                                    c_26                    -x + y*c_28 + c_27                   y^2 + y*c_30 + c_29]\n",
       "[       0                                       0                         y*c_32 + c_31                    -x + y*c_34 + c_33]"
      ]
     },
     "metadata": {},
     "output_type": "display_data"
    },
    {
     "data": {
      "text/plain": [
       "34"
      ]
     },
     "execution_count": 6,
     "metadata": {},
     "output_type": "execute_result"
    }
   ],
   "source": [
    "m = [1,5,8,10]\n",
    "R,_ = PolynomialRing(QQ, [[\"x\",\"y\"];[\"c_\"*string(i) for i in 1:48]])\n",
    "Q,_ = GradedPolynomialRing(QQ, [\"x\", \"y\"]) \n",
    "C = GradedCell(m,3,2,R,Q)\n",
    "println(C.E)\n",
    "println(C.hilb)\n",
    "display(C.H)\n",
    "display(C.W)\n",
    "display(C.M)\n",
    "C.dim"
   ]
  },
  {
   "cell_type": "code",
   "execution_count": 32,
   "metadata": {},
   "outputs": [
    {
     "name": "stdout",
     "output_type": "stream",
     "text": [
      "ideal(y^7, -x*y^5, x^2*y^3, -x^3*y^2, x^4)\n",
      "QQFieldElem[1, 2, 3, 4, 4, 2, 1]\n"
     ]
    },
    {
     "data": {
      "text/plain": [
       "[y^2    0     0     0]\n",
       "[ -x    y     0     0]\n",
       "[  0   -x   y^2     0]\n",
       "[  0    0    -x   y^2]\n",
       "[  0    0     0    -x]"
      ]
     },
     "metadata": {},
     "output_type": "display_data"
    },
    {
     "data": {
      "text/plain": [
       "[   2   -997   -1995   -2993]\n",
       "[1000      1    -997   -1995]\n",
       "[1999   1000       2    -996]\n",
       "[2997   1998    1000       2]\n",
       "[3995   2996    1998    1000]"
      ]
     },
     "metadata": {},
     "output_type": "display_data"
    },
    {
     "data": {
      "text/plain": [
       "[y^2 + y*c_2 + c_1          0                    0                     0]\n",
       "[ -x + y*c_4 + c_3    y + c_5                    0                     0]\n",
       "[      y*c_7 + c_6   -x + c_8   y^2 + y*c_10 + c_9                     0]\n",
       "[    y*c_12 + c_11       c_13   -x + y*c_15 + c_14   y^2 + y*c_17 + c_16]\n",
       "[    y*c_19 + c_18       c_20        y*c_22 + c_21    -x + y*c_24 + c_23]"
      ]
     },
     "metadata": {},
     "output_type": "display_data"
    },
    {
     "name": "stdout",
     "output_type": "stream",
     "text": [
      "\\(\n",
      "\\left(\n",
      "\\begin{array}{cccc}\n",
      "  2 & -997 & -1995 & -2993\\\\\n",
      "  1000 & 1 & -997 & -1995\\\\\n",
      "  1999 & 1000 & 2 & -996\\\\\n",
      "  2997 & 1998 & 1000 & 2\\\\\n",
      "  3995 & 2996 & 1998 & 1000\n",
      "\\end{array}\n",
      "\\right)\n",
      "\\)\n"
     ]
    }
   ],
   "source": [
    "m = [2,3,5,7]\n",
    "R,_ = PolynomialRing(QQ, [[\"x\",\"y\"];[\"c_\"*string(i) for i in 1:34]])\n",
    "Q,_ = GradedPolynomialRing(QQ, [\"x\", \"y\"]) \n",
    "C = GradedCell(m,1000,1,R,Q)\n",
    "println(C.E)\n",
    "println(C.hilb)\n",
    "display(C.H)\n",
    "display(C.W)\n",
    "display(C.M)\n",
    "C.dim\n",
    "println(matrix2str(C.W))"
   ]
  },
  {
   "cell_type": "code",
   "execution_count": 34,
   "metadata": {},
   "outputs": [
    {
     "name": "stdout",
     "output_type": "stream",
     "text": [
      "ideal(y^7, -x*y^5, x^2*y^3, -x^3*y^2, x^4)\n",
      "QQFieldElem[1, 2, 3, 4, 4, 2, 1]\n"
     ]
    },
    {
     "data": {
      "text/plain": [
       "[y^2    0     0     0]\n",
       "[ -x    y     0     0]\n",
       "[  0   -x   y^2     0]\n",
       "[  0    0    -x   y^2]\n",
       "[  0    0     0    -x]"
      ]
     },
     "metadata": {},
     "output_type": "display_data"
    },
    {
     "data": {
      "text/plain": [
       "[          2    2999//1000    2499//500   6997//1000]\n",
       "[    1//1000             1   2999//1000    2499//500]\n",
       "[  -499//500       1//1000            2   3999//1000]\n",
       "[-2997//1000     -999//500      1//1000            2]\n",
       "[ -1249//250   -3997//1000    -999//500      1//1000]"
      ]
     },
     "metadata": {},
     "output_type": "display_data"
    },
    {
     "data": {
      "text/plain": [
       "[y^2 + y*c_2 + c_1   y*c_4 + c_3           y*c_6 + c_5           y*c_8 + c_7]\n",
       "[         -x + c_9      y + c_10                  c_11                  c_12]\n",
       "[                0     -x + c_13   y^2 + y*c_15 + c_14         y*c_17 + c_16]\n",
       "[                0             0             -x + c_18   y^2 + y*c_20 + c_19]\n",
       "[                0             0                     0             -x + c_21]"
      ]
     },
     "metadata": {},
     "output_type": "display_data"
    },
    {
     "name": "stdout",
     "output_type": "stream",
     "text": [
      "\\(\n",
      "\\left(\n",
      "\\begin{array}{cccc}\n",
      "  2 & 2999//1000 & 2499//500 & 6997//1000\\\\\n",
      "  1//1000 & 1 & 2999//1000 & 2499//500\\\\\n",
      "  -499//500 & 1//1000 & 2 & 3999//1000\\\\\n",
      "  -2997//1000 & -999//500 & 1//1000 & 2\\\\\n",
      "  -1249//250 & -3997//1000 & -999//500 & 1//1000\n",
      "\\end{array}\n",
      "\\right)\n",
      "\\)\n"
     ]
    }
   ],
   "source": [
    "m = [2,3,5,7]\n",
    "R,_ = PolynomialRing(QQ, [[\"x\",\"y\"];[\"c_\"*string(i) for i in 1:34]])\n",
    "Q,_ = GradedPolynomialRing(QQ, [\"x\", \"y\"]) \n",
    "C = GradedCell(m,1,1000,R,Q)\n",
    "println(C.E)\n",
    "println(C.hilb)\n",
    "display(C.H)\n",
    "display(C.W)\n",
    "display(C.M)\n",
    "C.dim\n",
    "println(matrix2str(C.W))"
   ]
  },
  {
   "cell_type": "code",
   "execution_count": 36,
   "metadata": {},
   "outputs": [
    {
     "name": "stdout",
     "output_type": "stream",
     "text": [
      "ideal(y^7, -x*y^5, x^2*y^3, -x^3*y^2, x^4)\n",
      "QQFieldElem[1, 2, 3, 4, 4, 2, 1]\n"
     ]
    },
    {
     "data": {
      "text/plain": [
       "[y^2    0     0     0]\n",
       "[ -x    y     0     0]\n",
       "[  0   -x   y^2     0]\n",
       "[  0    0    -x   y^2]\n",
       "[  0    0     0    -x]"
      ]
     },
     "metadata": {},
     "output_type": "display_data"
    },
    {
     "data": {
      "text/plain": [
       "[ 2    2   3   4]\n",
       "[ 1    1   2   3]\n",
       "[ 1    1   2   3]\n",
       "[ 0    0   1   2]\n",
       "[-1   -1   0   1]"
      ]
     },
     "metadata": {},
     "output_type": "display_data"
    },
    {
     "data": {
      "text/plain": [
       "[y^2 + y*c_2 + c_1   y*c_4 + c_3           y*c_6 + c_5           y*c_8 + c_7]\n",
       "[-x + y*c_10 + c_9      y + c_11                  c_12                  c_13]\n",
       "[    y*c_15 + c_14     -x + c_16   y^2 + y*c_18 + c_17         y*c_20 + c_19]\n",
       "[             c_21          c_22    -x + y*c_24 + c_23   y^2 + y*c_26 + c_25]\n",
       "[                0             0                  c_27    -x + y*c_29 + c_28]"
      ]
     },
     "metadata": {},
     "output_type": "display_data"
    },
    {
     "name": "stdout",
     "output_type": "stream",
     "text": [
      "\\(\n",
      "\\left(\n",
      "\\begin{array}{cccc}\n",
      "  2 & 2 & 3 & 4\\\\\n",
      "  1 & 1 & 2 & 3\\\\\n",
      "  1 & 1 & 2 & 3\\\\\n",
      "  0 & 0 & 1 & 2\\\\\n",
      "  -1 & -1 & 0 & 1\n",
      "\\end{array}\n",
      "\\right)\n",
      "\\)\n"
     ]
    }
   ],
   "source": [
    "m = [2,3,5,7]\n",
    "R,_ = PolynomialRing(QQ, [[\"x\",\"y\"];[\"c_\"*string(i) for i in 1:34]])\n",
    "Q,_ = GradedPolynomialRing(QQ, [\"x\", \"y\"]) \n",
    "C = GradedCell(m,1,1,R,Q)\n",
    "println(C.E)\n",
    "println(C.hilb)\n",
    "display(C.H)\n",
    "display(C.W)\n",
    "display(C.M)\n",
    "C.dim\n",
    "println(matrix2str(C.W))"
   ]
  },
  {
   "cell_type": "code",
   "execution_count": 37,
   "metadata": {},
   "outputs": [
    {
     "name": "stdout",
     "output_type": "stream",
     "text": [
      "ideal(y^7, -x*y^5, x^2*y^3, -x^3*y^2, x^4)\n",
      "QQFieldElem[1, 2, 3, 4, 4, 2, 1]\n"
     ]
    },
    {
     "data": {
      "text/plain": [
       "[y^2    0     0     0]\n",
       "[ -x    y     0     0]\n",
       "[  0   -x   y^2     0]\n",
       "[  0    0    -x   y^2]\n",
       "[  0    0     0    -x]"
      ]
     },
     "metadata": {},
     "output_type": "display_data"
    },
    {
     "data": {
      "text/plain": [
       "[    2    7//3   11//3       5]\n",
       "[ 2//3       1    7//3   11//3]\n",
       "[ 1//3    2//3       2   10//3]\n",
       "[   -1   -2//3    2//3       2]\n",
       "[-7//3      -2   -2//3    2//3]"
      ]
     },
     "metadata": {},
     "output_type": "display_data"
    },
    {
     "data": {
      "text/plain": [
       "[y^2 + y*c_2 + c_1   y*c_4 + c_3           y*c_6 + c_5           y*c_8 + c_7]\n",
       "[         -x + c_9      y + c_10                  c_11                  c_12]\n",
       "[             c_13     -x + c_14   y^2 + y*c_16 + c_15         y*c_18 + c_17]\n",
       "[                0             0             -x + c_19   y^2 + y*c_21 + c_20]\n",
       "[                0             0                     0             -x + c_22]"
      ]
     },
     "metadata": {},
     "output_type": "display_data"
    },
    {
     "name": "stdout",
     "output_type": "stream",
     "text": [
      "\\(\n",
      "\\left(\n",
      "\\begin{array}{cccc}\n",
      "  2 & 7//3 & 11//3 & 5\\\\\n",
      "  2//3 & 1 & 7//3 & 11//3\\\\\n",
      "  1//3 & 2//3 & 2 & 10//3\\\\\n",
      "  -1 & -2//3 & 2//3 & 2\\\\\n",
      "  -7//3 & -2 & -2//3 & 2//3\n",
      "\\end{array}\n",
      "\\right)\n",
      "\\)\n"
     ]
    }
   ],
   "source": [
    "m = [2,3,5,7]\n",
    "R,_ = PolynomialRing(QQ, [[\"x\",\"y\"];[\"c_\"*string(i) for i in 1:34]])\n",
    "Q,_ = GradedPolynomialRing(QQ, [\"x\", \"y\"]) \n",
    "C = GradedCell(m,2,3,R,Q)\n",
    "println(C.E)\n",
    "println(C.hilb)\n",
    "display(C.H)\n",
    "display(C.W)\n",
    "display(C.M)\n",
    "C.dim\n",
    "println(matrix2str(C.W))"
   ]
  },
  {
   "cell_type": "code",
   "execution_count": 38,
   "metadata": {},
   "outputs": [
    {
     "name": "stdout",
     "output_type": "stream",
     "text": [
      "ideal(y^7, -x*y^5, x^2*y^3, -x^3*y^2, x^4)\n",
      "QQFieldElem[1, 2, 3, 4, 4, 2, 1]\n"
     ]
    },
    {
     "data": {
      "text/plain": [
       "[y^2    0     0     0]\n",
       "[ -x    y     0     0]\n",
       "[  0   -x   y^2     0]\n",
       "[  0    0    -x   y^2]\n",
       "[  0    0     0    -x]"
      ]
     },
     "metadata": {},
     "output_type": "display_data"
    },
    {
     "data": {
      "text/plain": [
       "[   2   3//2      2   5//2]\n",
       "[3//2      1   3//2      2]\n",
       "[   2   3//2      2   5//2]\n",
       "[3//2      1   3//2      2]\n",
       "[   1   1//2      1   3//2]"
      ]
     },
     "metadata": {},
     "output_type": "display_data"
    },
    {
     "data": {
      "text/plain": [
       "[y^2 + y*c_2 + c_1   y*c_4 + c_3           y*c_6 + c_5           y*c_8 + c_7]\n",
       "[-x + y*c_10 + c_9      y + c_11                  c_12                  c_13]\n",
       "[    y*c_15 + c_14     -x + c_16   y^2 + y*c_18 + c_17         y*c_20 + c_19]\n",
       "[    y*c_22 + c_21          c_23    -x + y*c_25 + c_24   y^2 + y*c_27 + c_26]\n",
       "[    y*c_29 + c_28          c_30         y*c_32 + c_31    -x + y*c_34 + c_33]"
      ]
     },
     "metadata": {},
     "output_type": "display_data"
    },
    {
     "name": "stdout",
     "output_type": "stream",
     "text": [
      "\\(\n",
      "\\left(\n",
      "\\begin{array}{cccc}\n",
      "  2 & 3//2 & 2 & 5//2\\\\\n",
      "  3//2 & 1 & 3//2 & 2\\\\\n",
      "  2 & 3//2 & 2 & 5//2\\\\\n",
      "  3//2 & 1 & 3//2 & 2\\\\\n",
      "  1 & 1//2 & 1 & 3//2\n",
      "\\end{array}\n",
      "\\right)\n",
      "\\)\n"
     ]
    }
   ],
   "source": [
    "m = [2,3,5,7]\n",
    "R,_ = PolynomialRing(QQ, [[\"x\",\"y\"];[\"c_\"*string(i) for i in 1:34]])\n",
    "Q,_ = GradedPolynomialRing(QQ, [\"x\", \"y\"]) \n",
    "C = GradedCell(m,3,2,R,Q)\n",
    "println(C.E)\n",
    "println(C.hilb)\n",
    "display(C.H)\n",
    "display(C.W)\n",
    "display(C.M)\n",
    "C.dim\n",
    "println(matrix2str(C.W))"
   ]
  },
  {
   "cell_type": "code",
   "execution_count": 10,
   "metadata": {},
   "outputs": [
    {
     "data": {
      "text/plain": [
       "Dict{Int64, Vector{LocalHilbertBurch.CellType}} with 6 entries:\n",
       "  0 => [Cell([1, 2, 3], [1, 1, 1], QQFieldElem[1, 2, 3], [y 0 0; -x y 0; 0 -x y…\n",
       "  4 => [Cell([1, 1, 1, 1, 1, 1], [1, 0, 0, 0, 0, 0], QQFieldElem[1, 1, 1, 1, 1,…\n",
       "  5 => [Cell([6], [6], QQFieldElem[1, 1, 1, 1, 1, 1], [y^6; -x], ideal(y^6, -x)…\n",
       "  2 => [Cell([1, 1, 1, 3], [1, 0, 0, 2], QQFieldElem[1, 2, 2, 1], [y 0 0 0; -x …\n",
       "  3 => [Cell([1, 1, 1, 1, 2], [1, 0, 0, 0, 1], QQFieldElem[1, 2, 1, 1, 1], [y 0…\n",
       "  1 => [Cell([1, 1, 2, 2], [1, 0, 1, 0], QQFieldElem[1, 2, 2, 1], [y 0 0 0; -x …"
      ]
     },
     "execution_count": 10,
     "metadata": {},
     "output_type": "execute_result"
    }
   ],
   "source": [
    "sorted_celllist(6)"
   ]
  },
  {
   "cell_type": "code",
   "execution_count": 11,
   "metadata": {},
   "outputs": [
    {
     "name": "stdout",
     "output_type": "stream",
     "text": [
      "ideal(y^7, -x*y^5, x^2*y^3, -x^3*y^2, x^4)\n",
      "QQFieldElem[1, 2, 3, 4, 4, 2, 1]\n"
     ]
    },
    {
     "data": {
      "text/plain": [
       "[y^2    0     0     0]\n",
       "[ -x    y     0     0]\n",
       "[  0   -x   y^2     0]\n",
       "[  0    0    -x   y^2]\n",
       "[  0    0     0    -x]"
      ]
     },
     "metadata": {},
     "output_type": "display_data"
    },
    {
     "data": {
      "text/plain": [
       "[   2   3//2      2   5//2]\n",
       "[3//2      1   3//2      2]\n",
       "[   2   3//2      2   5//2]\n",
       "[3//2      1   3//2      2]\n",
       "[   1   1//2      1   3//2]"
      ]
     },
     "metadata": {},
     "output_type": "display_data"
    },
    {
     "data": {
      "text/plain": [
       "[y^2 + y*c_2 + c_1   y*c_4 + c_3           y*c_6 + c_5           y*c_8 + c_7]\n",
       "[-x + y*c_10 + c_9      y + c_11                  c_12                  c_13]\n",
       "[    y*c_15 + c_14     -x + c_16   y^2 + y*c_18 + c_17         y*c_20 + c_19]\n",
       "[    y*c_22 + c_21          c_23    -x + y*c_25 + c_24   y^2 + y*c_27 + c_26]\n",
       "[    y*c_29 + c_28          c_30         y*c_32 + c_31    -x + y*c_34 + c_33]"
      ]
     },
     "metadata": {},
     "output_type": "display_data"
    },
    {
     "data": {
      "text/plain": [
       "34"
      ]
     },
     "execution_count": 11,
     "metadata": {},
     "output_type": "execute_result"
    }
   ],
   "source": [
    "m = [2,3,5,7]\n",
    "R,_ = PolynomialRing(QQ, [[\"x\",\"y\"];[\"c_\"*string(i) for i in 1:34]])\n",
    "Q,_ = GradedPolynomialRing(QQ, [\"x\", \"y\"]) \n",
    "C = GradedCell(m,3,2,R,Q)\n",
    "println(C.E)\n",
    "println(C.hilb)\n",
    "display(C.H)\n",
    "display(C.W)\n",
    "display(C.M)\n",
    "C.dim"
   ]
  },
  {
   "cell_type": "code",
   "execution_count": 19,
   "metadata": {},
   "outputs": [
    {
     "name": "stdout",
     "output_type": "stream",
     "text": [
      "dim = 7\n",
      "m=\n",
      "[1, 1, 1, 1, 1, 1]\n",
      "d=\n",
      "[1, 0, 0, 0, 0, 0]\n",
      "W =\n"
     ]
    },
    {
     "data": {
      "text/plain": [
       "[1   0   -1   -2   -3   -4]\n",
       "[1   0   -1   -2   -3   -4]\n",
       "[2   1    0   -1   -2   -3]\n",
       "[3   2    1    0   -1   -2]\n",
       "[4   3    2    1    0   -1]\n",
       "[5   4    3    2    1    0]\n",
       "[6   5    4    3    2    1]"
      ]
     },
     "metadata": {},
     "output_type": "display_data"
    },
    {
     "name": "stdout",
     "output_type": "stream",
     "text": [
      "H+N=\n"
     ]
    },
    {
     "data": {
      "text/plain": [
       "[ y + c_1    0    0    0    0    0]\n",
       "[-x + c_2    1    0    0    0    0]\n",
       "[     c_3   -x    1    0    0    0]\n",
       "[     c_4    0   -x    1    0    0]\n",
       "[     c_5    0    0   -x    1    0]\n",
       "[     c_6    0    0    0   -x    1]\n",
       "[     c_7    0    0    0    0   -x]"
      ]
     },
     "metadata": {},
     "output_type": "display_data"
    },
    {
     "name": "stdout",
     "output_type": "stream",
     "text": [
      "Ideal=\n",
      "ideal(y + c_1, -x*y - x*c_1, x^2*y + x^2*c_1, -x^3*y - x^3*c_1, x^4*y + x^4*c_1, -x^5*y - x^5*c_1, x^6 - x^5*c_2 - x^4*c_3 - x^3*c_4 - x^2*c_5 - x*c_6 - c_7)\n",
      "\n",
      "dim = 8\n",
      "m=\n",
      "[1, 1, 1, 1, 2]\n",
      "d=\n",
      "[1, 0, 0, 0, 1]\n",
      "W =\n"
     ]
    },
    {
     "data": {
      "text/plain": [
       "[1   0   -1   -2   -2]\n",
       "[1   0   -1   -2   -2]\n",
       "[2   1    0   -1   -1]\n",
       "[3   2    1    0    0]\n",
       "[4   3    2    1    1]\n",
       "[4   3    2    1    1]"
      ]
     },
     "metadata": {},
     "output_type": "display_data"
    },
    {
     "name": "stdout",
     "output_type": "stream",
     "text": [
      "H+N=\n"
     ]
    },
    {
     "data": {
      "text/plain": [
       "[ y + c_1    0    0    0          0]\n",
       "[-x + c_2    1    0    0          0]\n",
       "[     c_3   -x    1    0          0]\n",
       "[     c_4    0   -x    1          0]\n",
       "[     c_5    0    0   -x    y + c_6]\n",
       "[     c_7    0    0    0   -x + c_8]"
      ]
     },
     "metadata": {},
     "output_type": "display_data"
    },
    {
     "name": "stdout",
     "output_type": "stream",
     "text": [
      "Ideal=\n",
      "ideal(y^2 + y*c_1 + y*c_6 + c_1*c_6, -x*y - x*c_1 + y*c_8 + c_1*c_8, x^2*y + x^2*c_1 - x*y*c_8 - x*c_1*c_8, -x^3*y - x^3*c_1 + x^2*y*c_8 + x^2*c_1*c_8, x^4*y + x^4*c_1 - x^3*y*c_8 - x^3*c_1*c_8, -x^5 + x^4*c_2 + x^4*c_8 - x^3*c_2*c_8 + x^3*c_3 - x^2*c_3*c_8 + x^2*c_4 - x*c_4*c_8 + x*c_5 + y*c_7 - c_5*c_8 + c_6*c_7)\n",
      "m=\n",
      "[1, 1, 2, 2]\n",
      "d=\n",
      "[1, 0, 1, 0]\n",
      "W =\n"
     ]
    },
    {
     "data": {
      "text/plain": [
       "[1   0   0   -1]\n",
       "[1   0   0   -1]\n",
       "[2   1   1    0]\n",
       "[2   1   1    0]\n",
       "[3   2   2    1]"
      ]
     },
     "metadata": {},
     "output_type": "display_data"
    },
    {
     "name": "stdout",
     "output_type": "stream",
     "text": [
      "H+N=\n"
     ]
    },
    {
     "data": {
      "text/plain": [
       "[ y + c_1    0          0    0]\n",
       "[-x + c_2    1          0    0]\n",
       "[     c_3   -x    y + c_4    0]\n",
       "[     c_5    0   -x + c_6    1]\n",
       "[     c_7    0        c_8   -x]"
      ]
     },
     "metadata": {},
     "output_type": "display_data"
    },
    {
     "name": "stdout",
     "output_type": "stream",
     "text": [
      "Ideal=\n",
      "ideal(y^2 + y*c_1 + y*c_4 + c_1*c_4, -x*y^2 - x*y*c_1 - x*y*c_4 - x*c_1*c_4, x^2*y + x^2*c_1 - x*y*c_6 - x*c_1*c_6 - y*c_8 - c_1*c_8, -x^3*y - x^3*c_1 + x^2*y*c_6 + x^2*c_1*c_6 + x*y*c_8 + x*c_1*c_8, x^4 - x^3*c_2 - x^3*c_6 + x^2*c_2*c_6 - x^2*c_3 - x^2*c_8 - x*y*c_5 + x*c_2*c_8 + x*c_3*c_6 - x*c_4*c_5 - y*c_7 + c_3*c_8 - c_4*c_7)\n",
      "m=\n",
      "[6]\n",
      "d=\n",
      "[6]\n",
      "W =\n"
     ]
    },
    {
     "data": {
      "text/plain": [
       "[6]\n",
       "[1]"
      ]
     },
     "metadata": {},
     "output_type": "display_data"
    },
    {
     "name": "stdout",
     "output_type": "stream",
     "text": [
      "H+N=\n"
     ]
    },
    {
     "data": {
      "text/plain": [
       "[y^6 + y^5*c_6 + y^4*c_5 + y^3*c_4 + y^2*c_3 + y*c_2 + c_1]\n",
       "[                                         -x + y*c_8 + c_7]"
      ]
     },
     "metadata": {},
     "output_type": "display_data"
    },
    {
     "name": "stdout",
     "output_type": "stream",
     "text": [
      "Ideal=\n",
      "ideal(y^6 + y^5*c_6 + y^4*c_5 + y^3*c_4 + y^2*c_3 + y*c_2 + c_1, -x + y*c_8 + c_7)\n",
      "\n",
      "dim = 9\n",
      "m=\n",
      "[1, 1, 1, 3]\n",
      "d=\n",
      "[1, 0, 0, 2]\n",
      "W =\n"
     ]
    },
    {
     "data": {
      "text/plain": [
       "[1   0   -1   0]\n",
       "[1   0   -1   0]\n",
       "[2   1    0   1]\n",
       "[3   2    1   2]\n",
       "[2   1    0   1]"
      ]
     },
     "metadata": {},
     "output_type": "display_data"
    },
    {
     "name": "stdout",
     "output_type": "stream",
     "text": [
      "H+N=\n"
     ]
    },
    {
     "data": {
      "text/plain": [
       "[ y + c_1    0    0                   0]\n",
       "[-x + c_2    1    0                   0]\n",
       "[     c_3   -x    1                   0]\n",
       "[     c_4    0   -x   y^2 + y*c_6 + c_5]\n",
       "[     c_7    0    0    -x + y*c_9 + c_8]"
      ]
     },
     "metadata": {},
     "output_type": "display_data"
    },
    {
     "name": "stdout",
     "output_type": "stream",
     "text": [
      "Ideal=\n",
      "ideal(y^3 + y^2*c_1 + y^2*c_6 + y*c_1*c_6 + y*c_5 + c_1*c_5, -x*y - x*c_1 + y^2*c_9 + y*c_1*c_9 + y*c_8 + c_1*c_8, x^2*y + x^2*c_1 - x*y^2*c_9 - x*y*c_1*c_9 - x*y*c_8 - x*c_1*c_8, -x^3*y - x^3*c_1 + x^2*y^2*c_9 + x^2*y*c_1*c_9 + x^2*y*c_8 + x^2*c_1*c_8, x^4 - x^3*y*c_9 - x^3*c_2 - x^3*c_8 + x^2*y*c_2*c_9 + x^2*c_2*c_8 - x^2*c_3 + x*y*c_3*c_9 + x*c_3*c_8 - x*c_4 - y^2*c_7 + y*c_4*c_9 - y*c_6*c_7 + c_4*c_8 - c_5*c_7)\n",
      "m=\n",
      "[1, 5]\n",
      "d=\n",
      "[1, 4]\n",
      "W =\n"
     ]
    },
    {
     "data": {
      "text/plain": [
       "[ 1   4]\n",
       "[ 1   4]\n",
       "[-2   1]"
      ]
     },
     "metadata": {},
     "output_type": "display_data"
    },
    {
     "name": "stdout",
     "output_type": "stream",
     "text": [
      "H+N=\n"
     ]
    },
    {
     "data": {
      "text/plain": [
       "[ y + c_1                                     c_2]\n",
       "[-x + c_3   y^4 + y^3*c_7 + y^2*c_6 + y*c_5 + c_4]\n",
       "[       0                        -x + y*c_9 + c_8]"
      ]
     },
     "metadata": {},
     "output_type": "display_data"
    },
    {
     "name": "stdout",
     "output_type": "stream",
     "text": [
      "Ideal=\n",
      "ideal(x*c_2 + y^5 + y^4*c_1 + y^4*c_7 + y^3*c_1*c_7 + y^3*c_6 + y^2*c_1*c_6 + y^2*c_5 + y*c_1*c_5 + y*c_4 + c_1*c_4 - c_2*c_3, -x*y - x*c_1 + y^2*c_9 + y*c_1*c_9 + y*c_8 + c_1*c_8, x^2 - x*y*c_9 - x*c_3 - x*c_8 + y*c_3*c_9 + c_3*c_8)\n",
      "m=\n",
      "[2, 2, 2]\n",
      "d=\n",
      "[2, 0, 0]\n",
      "W =\n"
     ]
    },
    {
     "data": {
      "text/plain": [
       "[2   1    0]\n",
       "[1   0   -1]\n",
       "[2   1    0]\n",
       "[3   2    1]"
      ]
     },
     "metadata": {},
     "output_type": "display_data"
    },
    {
     "name": "stdout",
     "output_type": "stream",
     "text": [
      "H+N=\n"
     ]
    },
    {
     "data": {
      "text/plain": [
       "[y^2 + y*c_2 + c_1   c_3    0]\n",
       "[ -x + y*c_5 + c_4     1    0]\n",
       "[      y*c_7 + c_6    -x    1]\n",
       "[      y*c_9 + c_8     0   -x]"
      ]
     },
     "metadata": {},
     "output_type": "display_data"
    },
    {
     "name": "stdout",
     "output_type": "stream",
     "text": [
      "Ideal=\n",
      "ideal(x*c_3 + y^2 + y*c_2 - y*c_3*c_5 + c_1 - c_3*c_4, -x^2*c_3 - x*y^2 - x*y*c_2 + x*y*c_3*c_5 - x*c_1 + x*c_3*c_4, x^2*y^2 + x^2*y*c_2 + x^2*c_1 + x*y*c_3*c_7 + x*c_3*c_6 + y*c_3*c_9 + c_3*c_8, -x^3 + x^2*y*c_5 + x^2*c_4 + x*y*c_7 + x*c_6 + y*c_9 + c_8)\n",
      "\n",
      "dim = 10\n",
      "m=\n",
      "[1, 1, 4]\n",
      "d=\n",
      "[1, 0, 3]\n",
      "W =\n"
     ]
    },
    {
     "data": {
      "text/plain": [
       "[1    0   2]\n",
       "[1    0   2]\n",
       "[2    1   3]\n",
       "[0   -1   1]"
      ]
     },
     "metadata": {},
     "output_type": "display_data"
    },
    {
     "name": "stdout",
     "output_type": "stream",
     "text": [
      "H+N=\n"
     ]
    },
    {
     "data": {
      "text/plain": [
       "[ y + c_1    0                           c_2]\n",
       "[-x + c_3    1                             0]\n",
       "[     c_4   -x   y^3 + y^2*c_7 + y*c_6 + c_5]\n",
       "[     c_8    0             -x + y*c_10 + c_9]"
      ]
     },
     "metadata": {},
     "output_type": "display_data"
    },
    {
     "name": "stdout",
     "output_type": "stream",
     "text": [
      "Ideal=\n",
      "ideal(x^2*c_2 - x*c_2*c_3 + y^4 + y^3*c_1 + y^3*c_7 + y^2*c_1*c_7 + y^2*c_6 + y*c_1*c_6 + y*c_5 + c_1*c_5 - c_2*c_4, -x*y - x*c_1 + y^2*c_10 + y*c_1*c_10 + y*c_9 + c_1*c_9 - c_2*c_8, x^2*y + x^2*c_1 - x*y^2*c_10 - x*y*c_1*c_10 - x*y*c_9 - x*c_1*c_9 + x*c_2*c_8, -x^3 + x^2*y*c_10 + x^2*c_3 + x^2*c_9 - x*y*c_3*c_10 - x*c_3*c_9 + x*c_4 + y^3*c_8 + y^2*c_7*c_8 - y*c_4*c_10 + y*c_6*c_8 - c_4*c_9 + c_5*c_8)\n",
      "m=\n",
      "[3, 3]\n",
      "d=\n",
      "[3, 0]\n",
      "W =\n"
     ]
    },
    {
     "data": {
      "text/plain": [
       "[3   2]\n",
       "[1   0]\n",
       "[2   1]"
      ]
     },
     "metadata": {},
     "output_type": "display_data"
    },
    {
     "name": "stdout",
     "output_type": "stream",
     "text": [
      "H+N=\n"
     ]
    },
    {
     "data": {
      "text/plain": [
       "[y^3 + y^2*c_3 + y*c_2 + c_1   y*c_5 + c_4]\n",
       "[           -x + y*c_7 + c_6             1]\n",
       "[     y^2*c_10 + y*c_9 + c_8            -x]"
      ]
     },
     "metadata": {},
     "output_type": "display_data"
    },
    {
     "name": "stdout",
     "output_type": "stream",
     "text": [
      "Ideal=\n",
      "ideal(x*y*c_5 + x*c_4 + y^3 + y^2*c_3 - y^2*c_5*c_7 + y*c_2 - y*c_4*c_7 - y*c_5*c_6 + c_1 - c_4*c_6, -x*y^3 - x*y^2*c_3 - x*y*c_2 - x*c_1 - y^3*c_5*c_10 - y^2*c_4*c_10 - y^2*c_5*c_9 - y*c_4*c_9 - y*c_5*c_8 - c_4*c_8, x^2 - x*y*c_7 - x*c_6 - y^2*c_10 - y*c_9 - c_8)\n",
      "\n",
      "dim = 11\n",
      "m=\n",
      "[2, 4]\n",
      "d=\n",
      "[2, 2]\n",
      "W =\n"
     ]
    },
    {
     "data": {
      "text/plain": [
       "[2   3]\n",
       "[1   2]\n",
       "[0   1]"
      ]
     },
     "metadata": {},
     "output_type": "display_data"
    },
    {
     "name": "stdout",
     "output_type": "stream",
     "text": [
      "H+N=\n"
     ]
    },
    {
     "data": {
      "text/plain": [
       "[y^2 + y*c_2 + c_1          y*c_4 + c_3]\n",
       "[ -x + y*c_6 + c_5    y^2 + y*c_8 + c_7]\n",
       "[              c_9   -x + y*c_11 + c_10]"
      ]
     },
     "metadata": {},
     "output_type": "display_data"
    },
    {
     "name": "stdout",
     "output_type": "stream",
     "text": [
      "Ideal=\n",
      "ideal(x*y*c_4 + x*c_3 + y^4 + y^3*c_2 + y^3*c_8 + y^2*c_1 + y^2*c_2*c_8 - y^2*c_4*c_6 + y^2*c_7 + y*c_1*c_8 + y*c_2*c_7 - y*c_3*c_6 - y*c_4*c_5 + c_1*c_7 - c_3*c_5, -x*y^2 - x*y*c_2 - x*c_1 + y^3*c_11 + y^2*c_2*c_11 + y^2*c_10 + y*c_1*c_11 + y*c_2*c_10 - y*c_4*c_9 + c_1*c_10 - c_3*c_9, x^2 - x*y*c_6 - x*y*c_11 - x*c_5 - x*c_10 + y^2*c_6*c_11 - y^2*c_9 + y*c_5*c_11 + y*c_6*c_10 - y*c_8*c_9 + c_5*c_10 - c_7*c_9)\n",
      "\n",
      "dim = 12\n",
      "m=\n",
      "[1, 2, 3]\n",
      "d=\n",
      "[1, 1, 1]\n",
      "W =\n"
     ]
    },
    {
     "data": {
      "text/plain": [
       "[1   1   1]\n",
       "[1   1   1]\n",
       "[1   1   1]\n",
       "[1   1   1]"
      ]
     },
     "metadata": {},
     "output_type": "display_data"
    },
    {
     "name": "stdout",
     "output_type": "stream",
     "text": [
      "H+N=\n"
     ]
    },
    {
     "data": {
      "text/plain": [
       "[ y + c_1        c_2         c_3]\n",
       "[-x + c_4    y + c_5         c_6]\n",
       "[     c_7   -x + c_8     y + c_9]\n",
       "[    c_10       c_11   -x + c_12]"
      ]
     },
     "metadata": {},
     "output_type": "display_data"
    },
    {
     "name": "stdout",
     "output_type": "stream",
     "text": [
      "Ideal=\n",
      "ideal(x^2*c_3 + x*y*c_2 + x*y*c_6 + x*c_1*c_6 + x*c_2*c_9 - x*c_3*c_4 - x*c_3*c_8 + y^3 + y^2*c_1 + y^2*c_5 + y^2*c_9 + y*c_1*c_5 + y*c_1*c_9 - y*c_2*c_4 - y*c_3*c_7 + y*c_5*c_9 - y*c_6*c_8 + c_1*c_5*c_9 - c_1*c_6*c_8 - c_2*c_4*c_9 + c_2*c_6*c_7 + c_3*c_4*c_8 - c_3*c_5*c_7, -x^2*c_2 - x*y^2 - x*y*c_1 - x*y*c_5 - x*c_1*c_5 + x*c_2*c_4 + x*c_2*c_12 - x*c_3*c_11 + y^2*c_12 + y*c_1*c_12 - y*c_3*c_10 + y*c_5*c_12 - y*c_6*c_11 + c_1*c_5*c_12 - c_1*c_6*c_11 - c_2*c_4*c_12 + c_2*c_6*c_10 + c_3*c_4*c_11 - c_3*c_5*c_10, x^2*y + x^2*c_1 - x*y*c_8 - x*y*c_12 - x*c_1*c_8 - x*c_1*c_12 + x*c_2*c_7 + x*c_3*c_10 - y^2*c_11 - y*c_1*c_11 + y*c_2*c_10 + y*c_8*c_12 - y*c_9*c_11 + c_1*c_8*c_12 - c_1*c_9*c_11 - c_2*c_7*c_12 + c_2*c_9*c_10 + c_3*c_7*c_11 - c_3*c_8*c_10, -x^3 + x^2*c_4 + x^2*c_8 + x^2*c_12 + x*y*c_7 + x*y*c_11 - x*c_4*c_8 - x*c_4*c_12 + x*c_5*c_7 + x*c_6*c_10 - x*c_8*c_12 + x*c_9*c_11 + y^2*c_10 - y*c_4*c_11 + y*c_5*c_10 - y*c_7*c_12 + y*c_9*c_10 + c_4*c_8*c_12 - c_4*c_9*c_11 - c_5*c_7*c_12 + c_5*c_9*c_10 + c_6*c_7*c_11 - c_6*c_8*c_10)\n",
      "\n"
     ]
    }
   ],
   "source": [
    "list = graded_sorted_celllist(6,1,1)\n",
    "for dim_selected in 7:12\n",
    "        selected = list[dim_selected]\n",
    "        println(\"dim = $(dim_selected)\")\n",
    "        for c in selected\n",
    "            println(\"m=\")\n",
    "            println(c.m)\n",
    "            println(\"d=\")\n",
    "            println(c.d)\n",
    "            println(\"W =\")\n",
    "            display(c.W) \n",
    "            println(\"H+N=\")\n",
    "            display(c.M)\n",
    "            println(\"Ideal=\")\n",
    "            println(c.I)\n",
    "        end\n",
    "    println()\n",
    "end"
   ]
  },
  {
   "cell_type": "code",
   "execution_count": 13,
   "metadata": {},
   "outputs": [],
   "source": [
    "list11 = Dict{Int64, Dict{Int64, Vector{GradedCell}}}()\n",
    "dimlist11 = Dict{Int64, Dict{Int64, Int64}}()\n",
    "for n in 1:20\n",
    "    list11[n] = graded_sorted_celllist(n,1,1)\n",
    "    dimlist11[n] = Dict{Int64, Int64}()\n",
    "    for k in keys(list11[n])\n",
    "        dimlist11[n][k] = length(list11[n][k])\n",
    "    end\n",
    "end"
   ]
  },
  {
   "cell_type": "code",
   "execution_count": 14,
   "metadata": {},
   "outputs": [],
   "source": [
    "list23 = Dict{Int64, Dict{Int64, Vector{GradedCell}}}()\n",
    "dimlist23 = Dict{Int64, Dict{Int64, Int64}}()\n",
    "for n in 1:20\n",
    "    list23[n] = graded_sorted_celllist(n,2,3)\n",
    "    dimlist23[n] = Dict{Int64, Int64}()\n",
    "    for k in keys(list23[n])\n",
    "        dimlist23[n][k] = length(list23[n][k])\n",
    "    end\n",
    "end"
   ]
  },
  {
   "cell_type": "code",
   "execution_count": 22,
   "metadata": {},
   "outputs": [],
   "source": [
    "list1001 = Dict{Int64, Dict{Int64, Vector{GradedCell}}}()\n",
    "dimlist1001 = Dict{Int64, Dict{Int64, Int64}}()\n",
    "for n in 1:20\n",
    "    list1001[n] = graded_sorted_celllist(n,100,1)\n",
    "    dimlist1001[n] = Dict{Int64, Int64}()\n",
    "    for k in keys(list1001[n])\n",
    "        dimlist1001[n][k] = length(list1001[n][k])\n",
    "    end\n",
    "end"
   ]
  },
  {
   "cell_type": "code",
   "execution_count": 15,
   "metadata": {},
   "outputs": [
    {
     "data": {
      "text/plain": [
       "20-element Vector{Vector{Int64}}:\n",
       " [0, 0, 1]\n",
       " [0, 0, 0, 1, 1]\n",
       " [0, 0, 0, 0, 1, 1, 1]\n",
       " [0, 0, 0, 0, 0, 1, 2, 1, 1]\n",
       " [0, 0, 0, 0, 0, 0, 1, 2, 2, 1, 1]\n",
       " [0, 0, 0, 0, 0, 0, 0, 1, 3, 3, 2, 1, 1]\n",
       " [0, 0, 0, 0, 0, 0, 0, 0, 1, 3, 4, 3, 2, 1, 1]\n",
       " [0, 0, 0, 0, 0, 0, 0, 0, 0, 1, 4, 5, 5, 3, 2, 1, 1]\n",
       " [0, 0, 0, 0, 0, 0, 0, 0, 0, 0, 1, 4, 7, 6, 5, 3, 2, 1, 1]\n",
       " [0, 0, 0, 0, 0, 0, 0, 0, 0, 0  …  1, 5, 8, 9, 7, 5, 3, 2, 1, 1]\n",
       " [0, 0, 0, 0, 0, 0, 0, 0, 0, 0  …  5, 10, 11, 10, 7, 5, 3, 2, 1, 1]\n",
       " [0, 0, 0, 0, 0, 0, 0, 0, 0, 0  …  12, 15, 13, 11, 7, 5, 3, 2, 1, 1]\n",
       " [0, 0, 0, 0, 0, 0, 0, 0, 0, 0  …  18, 18, 14, 11, 7, 5, 3, 2, 1, 1]\n",
       " [0, 0, 0, 0, 0, 0, 0, 0, 0, 0  …  23, 20, 15, 11, 7, 5, 3, 2, 1, 1]\n",
       " [0, 0, 0, 0, 0, 0, 0, 0, 0, 0  …  26, 21, 15, 11, 7, 5, 3, 2, 1, 1]\n",
       " [0, 0, 0, 0, 0, 0, 0, 0, 0, 0  …  28, 22, 15, 11, 7, 5, 3, 2, 1, 1]\n",
       " [0, 0, 0, 0, 0, 0, 0, 0, 0, 0  …  29, 22, 15, 11, 7, 5, 3, 2, 1, 1]\n",
       " [0, 0, 0, 0, 0, 0, 0, 0, 0, 0  …  30, 22, 15, 11, 7, 5, 3, 2, 1, 1]\n",
       " [0, 0, 0, 0, 0, 0, 0, 0, 0, 0  …  30, 22, 15, 11, 7, 5, 3, 2, 1, 1]\n",
       " [0, 0, 0, 0, 0, 0, 0, 0, 0, 0  …  30, 22, 15, 11, 7, 5, 3, 2, 1, 1]"
      ]
     },
     "execution_count": 15,
     "metadata": {},
     "output_type": "execute_result"
    }
   ],
   "source": [
    "as_matrix11 = [[dimlist11[i][j] for j in sort([keys(dimlist11[i])...])] for i in sort([keys(dimlist11)...])]"
   ]
  },
  {
   "cell_type": "code",
   "execution_count": 25,
   "metadata": {
    "scrolled": false
   },
   "outputs": [
    {
     "data": {
      "text/plain": [
       "440-element Vector{Int64}:\n",
       " 0\n",
       " 0\n",
       " 0\n",
       " 0\n",
       " 0\n",
       " 0\n",
       " 0\n",
       " 0\n",
       " 0\n",
       " 0\n",
       " 0\n",
       " 0\n",
       " 0\n",
       " ⋮\n",
       " 0\n",
       " 0\n",
       " 0\n",
       " 0\n",
       " 0\n",
       " 0\n",
       " 0\n",
       " 0\n",
       " 0\n",
       " 0\n",
       " 0\n",
       " 0"
      ]
     },
     "execution_count": 25,
     "metadata": {},
     "output_type": "execute_result"
    }
   ],
   "source": [
    "as_matrix23 = [[dimlist23[i][j] for j in sort([keys(dimlist23[i])...])] for i in sort([keys(dimlist23)...])]\n",
    "as_matrix1001 = [[dimlist1001[i][j] for j in sort([keys(dimlist1001[i])...])] for i in sort([keys(dimlist1001)...])]\n",
    "as_vector11 = vcat(as_matrix11...)\n",
    "as_vector23 = vcat(as_matrix23...)\n",
    "as_vector1001 = vcat(as_matrix1001...)\n",
    "as_vector23-as_vector11 + as_vector1001-as_vector11"
   ]
  },
  {
   "cell_type": "code",
   "execution_count": 17,
   "metadata": {},
   "outputs": [
    {
     "data": {
      "text/plain": [
       "Dict{Int64, Int64} with 9870 entries:\n",
       "  4986 => 14883\n",
       "  7329 => 3087227\n",
       "  4700 => 63261\n",
       "  4576 => 176\n",
       "  7144 => 3\n",
       "  6073 => 10243651\n",
       "  2288 => 30\n",
       "  1703 => 40831\n",
       "  1956 => 2\n",
       "  8437 => 239943\n",
       "  2350 => 3\n",
       "  7685 => 715220\n",
       "  8690 => 63261\n",
       "  5975 => 28622740\n",
       "  9773 => 53174\n",
       "  3406 => 2\n",
       "  2841 => 327748\n",
       "  2876 => 1958\n",
       "  687  => 623\n",
       "  7353 => 63569321\n",
       "  185  => 71\n",
       "  1090 => 22\n",
       "  2015 => 31\n",
       "  7272 => 56\n",
       "  8544 => 3718\n",
       "  ⋮    => ⋮"
      ]
     },
     "execution_count": 17,
     "metadata": {},
     "output_type": "execute_result"
    }
   ],
   "source": [
    "oeis_data = Dict{Int64, Int64}()\n",
    "f = open(\"../data/b058398.txt\", \"r\")\n",
    "for lines in readlines(f)\n",
    " \n",
    "    s = split(lines,\" \")\n",
    "    position = parse(Int64, s[1])\n",
    "    dimension = parse(Int64, s[2])\n",
    "    oeis_data[position] = dimension\n",
    " \n",
    "end\n",
    "close(f)\n",
    "oeis_data"
   ]
  }
 ],
 "metadata": {
  "kernelspec": {
   "display_name": "Julia 1.8.5",
   "language": "julia",
   "name": "julia-1.8"
  },
  "language_info": {
   "file_extension": ".jl",
   "mimetype": "application/julia",
   "name": "julia",
   "version": "1.8.5"
  }
 },
 "nbformat": 4,
 "nbformat_minor": 4
}
