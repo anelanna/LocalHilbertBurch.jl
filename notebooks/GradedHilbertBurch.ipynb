{
 "cells": [
  {
   "cell_type": "code",
   "execution_count": 2,
   "metadata": {},
   "outputs": [
    {
     "name": "stdout",
     "output_type": "stream",
     "text": [
      "polymake version 4.9\n",
      "Copyright (c) 1997-2023\n",
      "Ewgenij Gawrilow, Michael Joswig, and the polymake team\n",
      "Technische Universität Berlin, Germany\n",
      "https://polymake.org\n",
      "\n",
      "This is free software licensed under GPL; see the source for copying conditions.\n",
      "There is NO warranty; not even for MERCHANTABILITY or FITNESS FOR A PARTICULAR PURPOSE.\n",
      "\n",
      "Singular.jl, based on\n",
      "                     SINGULAR                               /\n",
      " A Computer Algebra System for Polynomial Computations     /  Singular.jl: 0.18.2\n",
      "                                                         0<   Singular   : 4.3.2p1\n",
      " by: W. Decker, G.-M. Greuel, G. Pfister, H. Schoenemann   \\\n",
      "FB Mathematik der Universitaet, D-67653 Kaiserslautern      \\\n",
      "     \n",
      " -----    -----    -----      -      -----   \n",
      "|     |  |     |  |     |    | |    |     |  \n",
      "|     |  |        |         |   |   |     |  \n",
      "|     |   -----   |        |     |  |-----   \n",
      "|     |        |  |        |-----|  |   |    \n",
      "|     |  |     |  |     |  |     |  |    |   \n",
      " -----    -----    -----   -     -  -     -  \n",
      "\n",
      "...combining (and extending) ANTIC, GAP, Polymake and Singular\n",
      "Version\u001b[32m 0.12.0 \u001b[39m... \n",
      " ... which comes with absolutely no warranty whatsoever\n",
      "Type: '?Oscar' for more information\n",
      "(c) 2019-2023 by The OSCAR Development Team\n"
     ]
    }
   ],
   "source": [
    "using LocalHilbertBurch\n",
    "using Oscar"
   ]
  },
  {
   "cell_type": "code",
   "execution_count": 3,
   "metadata": {},
   "outputs": [
    {
     "data": {
      "text/plain": [
       "dimlist_asvector (generic function with 1 method)"
      ]
     },
     "execution_count": 3,
     "metadata": {},
     "output_type": "execute_result"
    }
   ],
   "source": [
    "function dimlist_asmatrix_inbounds(r, n, a, b)\n",
    "    listab = Dict{Int64, Dict{Int64, Vector{GradedCell}}}()\n",
    "    dimlistab = Dict{Int64, Dict{Int64, Int64}}()\n",
    "    for l in r:n\n",
    "        listab[l] = graded_sorted_celllist(l,a,b)\n",
    "        dimlistab[l] = Dict{Int64, Int64}()\n",
    "        for k in keys(listab[l])\n",
    "            dimlistab[l][k] = length(listab[l][k])\n",
    "        end\n",
    "    end\n",
    "    as_matrixab = [[dimlistab[i][j] for j in sort([keys(dimlistab[i])...])] for i in sort([keys(dimlistab)...])]\n",
    "    return(as_matrixab)\n",
    "end\n",
    "\n",
    "function dimlist_asmatrix(n, a, b)\n",
    "    return(dimlist_asmatrix_inbounds(1, n, a, b))\n",
    "end\n",
    "\n",
    "function dimlist_asvector_inbounds(r, n, a, b)\n",
    "    as_matrixab = dimlist_asmatrix_inbounds(r, n, a, b)\n",
    "    as_vectorab = vcat(as_matrixab...)\n",
    "    return(as_vectorab)\n",
    "end\n",
    "\n",
    "function dimlist_asvector(n,a,b)\n",
    "    return(dimlist_asvector_inbounds(1,n,a,b))\n",
    "end"
   ]
  },
  {
   "cell_type": "code",
   "execution_count": null,
   "metadata": {},
   "outputs": [],
   "source": [
    "as_matrix11 = dimlist_asmatrix(10,1,1)\n",
    "as_vector11 = dimlist_asvector(10,1,1)"
   ]
  },
  {
   "cell_type": "code",
   "execution_count": null,
   "metadata": {},
   "outputs": [],
   "source": [
    "as_matrix11 = dimlist_asmatrix(25,1,1)\n",
    "for i in 1:25\n",
    "println(as_matrix11[i])\n",
    "end\n",
    "as_vector11 = vcat(as_matrix11...)"
   ]
  },
  {
   "cell_type": "code",
   "execution_count": null,
   "metadata": {},
   "outputs": [],
   "source": [
    "as_matrix852630 = dimlist_asmatrix_inbounds(26, 28, 8, 5)\n",
    "for i in 1:3\n",
    "println(as_matrix852630[i])\n",
    "end"
   ]
  },
  {
   "cell_type": "code",
   "execution_count": null,
   "metadata": {},
   "outputs": [],
   "source": [
    "as_matrix112630 = dimlist_asmatrix_inbounds(26, 28, 1, 1)\n",
    "for i in 1:3\n",
    "println(as_matrix112630[i])\n",
    "end"
   ]
  },
  {
   "cell_type": "code",
   "execution_count": null,
   "metadata": {},
   "outputs": [],
   "source": [
    "println(dimlist_asmatrix_inbounds(29, 29, 1, 1))"
   ]
  },
  {
   "cell_type": "code",
   "execution_count": null,
   "metadata": {},
   "outputs": [],
   "source": [
    "println(dimlist_asmatrix_inbounds(30, 30, 1, 1))"
   ]
  },
  {
   "cell_type": "code",
   "execution_count": 4,
   "metadata": {},
   "outputs": [
    {
     "data": {
      "text/plain": [
       "check_dimlist_inbounds (generic function with 1 method)"
      ]
     },
     "execution_count": 4,
     "metadata": {},
     "output_type": "execute_result"
    }
   ],
   "source": [
    "function check_dimlist_inbounds(r::Int64, n::Int64, a::Int64, b::Int64, as_vector11)\n",
    "    as_vectorab = dimlist_asvector_inbounds(r, n, a, b)\n",
    "    return(as_vector11==as_vectorab)\n",
    "end"
   ]
  },
  {
   "cell_type": "code",
   "execution_count": 5,
   "metadata": {},
   "outputs": [
    {
     "data": {
      "text/plain": [
       "check_dimlist (generic function with 1 method)"
      ]
     },
     "execution_count": 5,
     "metadata": {},
     "output_type": "execute_result"
    }
   ],
   "source": [
    "function check_dimlist(n::Int64, a::Int64, b::Int64, as_vector11)\n",
    "    return(check_dimlist_inbounds(1,n,a,b,as_vector11))\n",
    "end"
   ]
  },
  {
   "cell_type": "code",
   "execution_count": null,
   "metadata": {},
   "outputs": [],
   "source": [
    "n = 18\n",
    "as_vector11 = dimlist_asvector(n, 1, 1)\n",
    "for a in 1:n\n",
    "    println(\"a = \",a)\n",
    "    for b in 1:(n+1)\n",
    "        println(\"b = \",b)\n",
    "        if (gcd(a,b)==1 && !(a==b==1))\n",
    "            println(check_dimlist(n,a,b,as_vector11))\n",
    "        end\n",
    "    end\n",
    "end"
   ]
  },
  {
   "cell_type": "code",
   "execution_count": null,
   "metadata": {},
   "outputs": [
    {
     "name": "stdout",
     "output_type": "stream",
     "text": [
      "a = 3\n",
      "b = 1\n",
      "true\n",
      "b = 2\n",
      "true\n",
      "b = 3\n",
      "b = 4\n",
      "true\n",
      "b = 5\n",
      "true\n",
      "b = 6\n",
      "b = 7\n",
      "true\n",
      "b = 8\n",
      "true\n",
      "b = 9\n",
      "b = 10\n",
      "true\n",
      "b = 11\n",
      "true\n",
      "b = 12\n",
      "b = 13\n"
     ]
    }
   ],
   "source": [
    "n = 23\n",
    "r = 19\n",
    "as_vector11 = dimlist_asvector_inbounds(r,n, 1, 1)\n",
    "for a in 3:n\n",
    "    println(\"a = \",a)\n",
    "    for b in 1:(n+1)\n",
    "        println(\"b = \",b)\n",
    "        if (gcd(a,b)==1 && !(a==b==1))\n",
    "            println(check_dimlist_inbounds(r,n,a,b,as_vector11))\n",
    "        end\n",
    "    end\n",
    "end"
   ]
  },
  {
   "cell_type": "code",
   "execution_count": null,
   "metadata": {},
   "outputs": [
    {
     "name": "stdout",
     "output_type": "stream",
     "text": [
      "a = 2\n",
      "b = 1\n",
      "true\n",
      "b = 2\n",
      "b = 3\n",
      "true\n",
      "b = 4\n",
      "b = 5\n",
      "true\n",
      "b = 6\n",
      "b = 7\n",
      "true\n",
      "b = 8\n",
      "b = 9\n",
      "true\n",
      "b = 10\n",
      "b = 11\n",
      "true\n",
      "b = 12\n",
      "b = 13\n",
      "true\n",
      "b = 14\n",
      "b = 15\n",
      "true\n",
      "b = 16\n",
      "b = 17\n",
      "true\n",
      "b = 18\n",
      "b = 19\n",
      "true\n",
      "b = 20\n",
      "b = 21\n",
      "true\n",
      "b = 22\n",
      "b = 23\n"
     ]
    }
   ],
   "source": [
    "n = 23\n",
    "r = 19\n",
    "as_vector11 = dimlist_asvector_inbounds(r,n, 1, 1)\n",
    "for a in 2:n\n",
    "    println(\"a = \",a)\n",
    "    for b in 1:(n+1)\n",
    "        println(\"b = \",b)\n",
    "        if (gcd(a,b)==1 && !(a==b==1))\n",
    "            println(check_dimlist_inbounds(r,n,a,b,as_vector11))\n",
    "        end\n",
    "    end\n",
    "end"
   ]
  },
  {
   "cell_type": "code",
   "execution_count": null,
   "metadata": {},
   "outputs": [
    {
     "name": "stdout",
     "output_type": "stream",
     "text": [
      "a = 1\n",
      "b = 1\n",
      "b = 2\n",
      "true\n",
      "b = 3\n",
      "true\n",
      "b = 4\n",
      "true\n",
      "b = 5\n",
      "true\n",
      "b = 6\n",
      "true\n",
      "b = 7\n",
      "true\n",
      "b = 8\n",
      "true\n",
      "b = 9\n",
      "true\n",
      "b = 10\n",
      "true\n",
      "b = 11\n",
      "true\n",
      "b = 12\n",
      "true\n",
      "b = 13\n",
      "true\n",
      "b = 14\n",
      "true\n",
      "b = 15\n",
      "true\n",
      "b = 16\n",
      "true\n",
      "b = 17\n",
      "true\n",
      "b = 18\n",
      "true\n",
      "b = 19\n",
      "true\n",
      "b = 20\n",
      "true\n",
      "b = 21\n",
      "true\n",
      "b = 22\n",
      "true\n",
      "b = 23\n",
      "true\n",
      "b = 24\n",
      "true"
     ]
    }
   ],
   "source": [
    "n = 23\n",
    "r = 19\n",
    "as_vector11 = dimlist_asvector_inbounds(r,n, 1, 1)\n",
    "for a in 1:n\n",
    "    println(\"a = \",a)\n",
    "    for b in 1:(n+1)\n",
    "        println(\"b = \",b)\n",
    "        if (gcd(a,b)==1 && !(a==b==1))\n",
    "            println(check_dimlist_inbounds(r,n,a,b,as_vector11))\n",
    "        end\n",
    "    end\n",
    "end"
   ]
  },
  {
   "cell_type": "code",
   "execution_count": null,
   "metadata": {},
   "outputs": [],
   "source": [
    "oeis_data = Dict{Int64, Int64}()\n",
    "f = open(\"../data/b058398.txt\", \"r\")\n",
    "for lines in readlines(f)\n",
    " \n",
    "    s = split(lines,\" \")\n",
    "    position = parse(Int64, s[1])\n",
    "    dimension = parse(Int64, s[2])\n",
    "    oeis_data[position] = dimension\n",
    " \n",
    "end\n",
    "close(f)\n",
    "oeis_data"
   ]
  }
 ],
 "metadata": {
  "kernelspec": {
   "display_name": "Julia 1.8.5",
   "language": "julia",
   "name": "julia-1.8"
  },
  "language_info": {
   "file_extension": ".jl",
   "mimetype": "application/julia",
   "name": "julia",
   "version": "1.8.5"
  }
 },
 "nbformat": 4,
 "nbformat_minor": 4
}
