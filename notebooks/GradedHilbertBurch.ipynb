{
 "cells": [
  {
   "cell_type": "code",
   "execution_count": 1,
   "metadata": {},
   "outputs": [
    {
     "name": "stdout",
     "output_type": "stream",
     "text": [
      "polymake version 4.9\n",
      "Copyright (c) 1997-2023\n",
      "Ewgenij Gawrilow, Michael Joswig, and the polymake team\n",
      "Technische Universität Berlin, Germany\n",
      "https://polymake.org\n",
      "\n",
      "This is free software licensed under GPL; see the source for copying conditions.\n",
      "There is NO warranty; not even for MERCHANTABILITY or FITNESS FOR A PARTICULAR PURPOSE.\n",
      "\n",
      "Singular.jl, based on\n",
      "                     SINGULAR                               /\n",
      " A Computer Algebra System for Polynomial Computations     /  Singular.jl: 0.18.2\n",
      "                                                         0<   Singular   : 4.3.2p1\n",
      " by: W. Decker, G.-M. Greuel, G. Pfister, H. Schoenemann   \\\n",
      "FB Mathematik der Universitaet, D-67653 Kaiserslautern      \\\n",
      "     \n",
      " -----    -----    -----      -      -----   \n",
      "|     |  |     |  |     |    | |    |     |  \n",
      "|     |  |        |         |   |   |     |  \n",
      "|     |   -----   |        |     |  |-----   \n",
      "|     |        |  |        |-----|  |   |    \n",
      "|     |  |     |  |     |  |     |  |    |   \n",
      " -----    -----    -----   -     -  -     -  \n",
      "\n",
      "...combining (and extending) ANTIC, GAP, Polymake and Singular\n",
      "Version\u001b[32m 0.12.0 \u001b[39m... \n",
      " ... which comes with absolutely no warranty whatsoever\n",
      "Type: '?Oscar' for more information\n",
      "(c) 2019-2023 by The OSCAR Development Team\n"
     ]
    }
   ],
   "source": [
    "using LocalHilbertBurch\n",
    "using Oscar"
   ]
  },
  {
   "cell_type": "code",
   "execution_count": null,
   "metadata": {},
   "outputs": [],
   "source": [
    "function matrix2str(A)\n",
    "    strA = \"  \" * join([join([string(a) for a in A[i,:]],\" & \") for i in 1:nrows(A)], \"\\\\\\\\\\n  \")\n",
    "    strA = \"\\\\begin{array}{\"*repeat(\"c\",ncols(A))*\"}\\n\" * strA * \"\\n\\\\end{array}\"\n",
    "    strA = \"\\\\left(\\n\" * strA * \"\\n\\\\right)\"\n",
    "    strA = \"\\\\(\\n\" * strA * \"\\n\\\\)\"\n",
    "    return strA\n",
    "end"
   ]
  },
  {
   "cell_type": "code",
   "execution_count": null,
   "metadata": {},
   "outputs": [],
   "source": [
    "function showCell(m, a, b)\n",
    "    n = sum(m)\n",
    "    R,_ = PolynomialRing(QQ, [[\"x\",\"y\"];[\"c_\"*string(i) for i in 1:(2*n)]])\n",
    "    Q,_ = GradedPolynomialRing(QQ, [\"x\", \"y\"]) \n",
    "    C = GradedCell(m,a,b,R,Q)\n",
    "    print(\"The cell has dimension \")\n",
    "    println(C.dim)\n",
    "    println(C.E)\n",
    "    println(\"H=\")\n",
    "    display(C.H)\n",
    "    println(\"W=\")\n",
    "    display(C.W)\n",
    "    println(\"rW=\")\n",
    "    display(C.rW)\n",
    "    println(\"M=\")\n",
    "    display(C.M)\n",
    "end\n",
    "\n",
    "function showCell_short(m, a, b)\n",
    "    n = sum(m)\n",
    "    R,_ = PolynomialRing(QQ, [[\"x\",\"y\"];[\"c_\"*string(i) for i in 1:(2*n)]])\n",
    "    Q,_ = GradedPolynomialRing(QQ, [\"x\", \"y\"]) \n",
    "    C = GradedCell(m,a,b,R,Q)\n",
    "    print(\"The cell has dimension \")\n",
    "    println(C.dim)\n",
    "    println(\"M=\")\n",
    "    display(C.M)\n",
    "    println(\"rW=\")\n",
    "    display(C.rW)\n",
    "end"
   ]
  },
  {
   "cell_type": "code",
   "execution_count": null,
   "metadata": {},
   "outputs": [],
   "source": [
    "m = [1,5,8,10]\n",
    "showCell(m,1,1)\n",
    "showCell_short(m,1,100)\n",
    "showCell_short(m,2,3)\n",
    "showCell_short(m,5,8)\n",
    "showCell_short(m,3,2)\n",
    "showCell_short(m,8,5)\n",
    "showCell_short(m,100,1)"
   ]
  },
  {
   "cell_type": "code",
   "execution_count": null,
   "metadata": {},
   "outputs": [],
   "source": [
    "m = [2,3,5,7]\n",
    "showCell(m,1,1)\n",
    "showCell_short(m,1,100)\n",
    "showCell_short(m,2,3)\n",
    "showCell_short(m,5,8)\n",
    "showCell_short(m,3,2)\n",
    "showCell_short(m,8,5)\n",
    "showCell_short(m,100,1)"
   ]
  },
  {
   "cell_type": "code",
   "execution_count": null,
   "metadata": {},
   "outputs": [],
   "source": [
    "list = graded_sorted_celllist(6,1,1)\n",
    "for dim_selected in 7:12\n",
    "        selected = list[dim_selected]\n",
    "        println(\"dim = $(dim_selected)\")\n",
    "        for c in selected\n",
    "            println(\"m=\")\n",
    "            println(c.m)\n",
    "            println(\"d=\")\n",
    "            println(c.d)\n",
    "            println(\"W =\")\n",
    "            display(c.W) \n",
    "            println(\"H+N=\")\n",
    "            display(c.M)\n",
    "            println(\"Ideal=\")\n",
    "            println(c.I)\n",
    "        end\n",
    "    println()\n",
    "end"
   ]
  },
  {
   "cell_type": "code",
   "execution_count": 7,
   "metadata": {},
   "outputs": [
    {
     "data": {
      "text/plain": [
       "dimlist_asvector (generic function with 1 method)"
      ]
     },
     "execution_count": 7,
     "metadata": {},
     "output_type": "execute_result"
    }
   ],
   "source": [
    "function dimlist_asvector(n, a, b)\n",
    "    listab = Dict{Int64, Dict{Int64, Vector{GradedCell}}}()\n",
    "    dimlistab = Dict{Int64, Dict{Int64, Int64}}()\n",
    "    for l in 1:n\n",
    "        listab[l] = graded_sorted_celllist(l,a,b)\n",
    "        dimlistab[l] = Dict{Int64, Int64}()\n",
    "        for k in keys(listab[l])\n",
    "            dimlistab[l][k] = length(listab[l][k])\n",
    "        end\n",
    "    end\n",
    "    as_matrixab = [[dimlistab[i][j] for j in sort([keys(dimlistab[i])...])] for i in sort([keys(dimlistab)...])]\n",
    "    as_vectorab = vcat(as_matrixab...)\n",
    "    return(as_vectorab)\n",
    "end"
   ]
  },
  {
   "cell_type": "code",
   "execution_count": 8,
   "metadata": {},
   "outputs": [
    {
     "data": {
      "text/plain": [
       "120-element Vector{Int64}:\n",
       " 0\n",
       " 0\n",
       " 1\n",
       " 0\n",
       " 0\n",
       " 0\n",
       " 1\n",
       " 1\n",
       " 0\n",
       " 0\n",
       " 0\n",
       " 0\n",
       " 1\n",
       " ⋮\n",
       " 0\n",
       " 0\n",
       " 1\n",
       " 5\n",
       " 8\n",
       " 9\n",
       " 7\n",
       " 5\n",
       " 3\n",
       " 2\n",
       " 1\n",
       " 1"
      ]
     },
     "execution_count": 8,
     "metadata": {},
     "output_type": "execute_result"
    }
   ],
   "source": [
    "as_vector11 = dimlist_asvector(10,1,1)"
   ]
  },
  {
   "cell_type": "code",
   "execution_count": 9,
   "metadata": {},
   "outputs": [
    {
     "name": "stdout",
     "output_type": "stream",
     "text": [
      "[0, 0, 1]\n",
      "[0, 0, 0, 1, 1]\n",
      "[0, 0, 0, 0, 1, 1, 1]\n",
      "[0, 0, 0, 0, 0, 1, 2, 1, 1]\n",
      "[0, 0, 0, 0, 0, 0, 1, 2, 2, 1, 1]\n",
      "[0, 0, 0, 0, 0, 0, 0, 1, 3, 3, 2, 1, 1]\n",
      "[0, 0, 0, 0, 0, 0, 0, 0, 1, 3, 4, 3, 2, 1, 1]\n",
      "[0, 0, 0, 0, 0, 0, 0, 0, 0, 1, 4, 5, 5, 3, 2, 1, 1]\n",
      "[0, 0, 0, 0, 0, 0, 0, 0, 0, 0, 1, 4, 7, 6, 5, 3, 2, 1, 1]\n",
      "[0, 0, 0, 0, 0, 0, 0, 0, 0, 0, 0, 1, 5, 8, 9, 7, 5, 3, 2, 1, 1]\n",
      "[0, 0, 0, 0, 0, 0, 0, 0, 0, 0, 0, 0, 1, 5, 10, 11, 10, 7, 5, 3, 2, 1, 1]\n",
      "[0, 0, 0, 0, 0, 0, 0, 0, 0, 0, 0, 0, 0, 1, 6, 12, 15, 13, 11, 7, 5, 3, 2, 1, 1]\n",
      "[0, 0, 0, 0, 0, 0, 0, 0, 0, 0, 0, 0, 0, 0, 1, 6, 14, 18, 18, 14, 11, 7, 5, 3, 2, 1, 1]\n",
      "[0, 0, 0, 0, 0, 0, 0, 0, 0, 0, 0, 0, 0, 0, 0, 1, 7, 16, 23, 23, 20, 15, 11, 7, 5, 3, 2, 1, 1]\n",
      "[0, 0, 0, 0, 0, 0, 0, 0, 0, 0, 0, 0, 0, 0, 0, 0, 1, 7, 19, 27, 30, 26, 21, 15, 11, 7, 5, 3, 2, 1, 1]\n"
     ]
    },
    {
     "data": {
      "text/plain": [
       "255-element Vector{Int64}:\n",
       "  0\n",
       "  0\n",
       "  1\n",
       "  0\n",
       "  0\n",
       "  0\n",
       "  1\n",
       "  1\n",
       "  0\n",
       "  0\n",
       "  0\n",
       "  0\n",
       "  1\n",
       "  ⋮\n",
       " 27\n",
       " 30\n",
       " 26\n",
       " 21\n",
       " 15\n",
       " 11\n",
       "  7\n",
       "  5\n",
       "  3\n",
       "  2\n",
       "  1\n",
       "  1"
      ]
     },
     "execution_count": 9,
     "metadata": {},
     "output_type": "execute_result"
    }
   ],
   "source": [
    "list11 = Dict{Int64, Dict{Int64, Vector{GradedCell}}}()\n",
    "dimlist11 = Dict{Int64, Dict{Int64, Int64}}()\n",
    "for n in 1:15\n",
    "    list11[n] = graded_sorted_celllist(n,1,1)\n",
    "    dimlist11[n] = Dict{Int64, Int64}()\n",
    "    for k in keys(list11[n])\n",
    "        dimlist11[n][k] = length(list11[n][k])\n",
    "    end\n",
    "end\n",
    "as_matrix11 = [[dimlist11[i][j] for j in sort([keys(dimlist11[i])...])] for i in sort([keys(dimlist11)...])]\n",
    "for i in 1:15\n",
    "println(as_matrix11[i])\n",
    "end\n",
    "as_vector11 = vcat(as_matrix11...)"
   ]
  },
  {
   "cell_type": "code",
   "execution_count": 10,
   "metadata": {},
   "outputs": [
    {
     "data": {
      "text/plain": [
       "check_dimlist (generic function with 1 method)"
      ]
     },
     "execution_count": 10,
     "metadata": {},
     "output_type": "execute_result"
    }
   ],
   "source": [
    "function check_dimlist(n::Int64, a::Int64, b::Int64, as_vector11)\n",
    "    as_vectorab = dimlist_asvector(n, a, b)\n",
    "    return(as_vector11==as_vectorab)\n",
    "end"
   ]
  },
  {
   "cell_type": "code",
   "execution_count": null,
   "metadata": {},
   "outputs": [],
   "source": [
    "n = 20\n",
    "as_vector11 = dimlist_asvector(n, 1, 1)\n",
    "for a in 1:n\n",
    "    println(\"a = \",a)\n",
    "    for b in 1:n\n",
    "        println(\"b = \",b)\n",
    "        if gcd(a,b)==1\n",
    "            println(check_dimlist(n,a,b,as_vector11))\n",
    "        end\n",
    "    end\n",
    "end"
   ]
  },
  {
   "cell_type": "code",
   "execution_count": null,
   "metadata": {},
   "outputs": [],
   "source": [
    "list85 = Dict{Int64, Dict{Int64, Vector{GradedCell}}}()\n",
    "dimlist85 = Dict{Int64, Dict{Int64, Int64}}()\n",
    "for n in 1:15\n",
    "    list85[n] = graded_sorted_celllist(n,8,5)\n",
    "    dimlist85[n] = Dict{Int64, Int64}()\n",
    "    for k in keys(list85[n])\n",
    "        dimlist85[n][k] = length(list85[n][k])\n",
    "    end\n",
    "end"
   ]
  },
  {
   "cell_type": "code",
   "execution_count": null,
   "metadata": {},
   "outputs": [],
   "source": [
    "list23 = Dict{Int64, Dict{Int64, Vector{GradedCell}}}()\n",
    "dimlist23 = Dict{Int64, Dict{Int64, Int64}}()\n",
    "for n in 1:15\n",
    "    list23[n] = graded_sorted_celllist(n,2,3)\n",
    "    dimlist23[n] = Dict{Int64, Int64}()\n",
    "    for k in keys(list23[n])\n",
    "        dimlist23[n][k] = length(list23[n][k])\n",
    "    end\n",
    "end"
   ]
  },
  {
   "cell_type": "code",
   "execution_count": null,
   "metadata": {},
   "outputs": [],
   "source": [
    "list1001 = Dict{Int64, Dict{Int64, Vector{GradedCell}}}()\n",
    "dimlist1001 = Dict{Int64, Dict{Int64, Int64}}()\n",
    "for n in 1:15\n",
    "    list1001[n] = graded_sorted_celllist(n,100,1)\n",
    "    dimlist1001[n] = Dict{Int64, Int64}()\n",
    "    for k in keys(list1001[n])\n",
    "        dimlist1001[n][k] = length(list1001[n][k])\n",
    "    end\n",
    "end"
   ]
  },
  {
   "cell_type": "code",
   "execution_count": null,
   "metadata": {},
   "outputs": [],
   "source": [
    "as_matrix11 = [[dimlist11[i][j] for j in sort([keys(dimlist11[i])...])] for i in sort([keys(dimlist11)...])]\n",
    "for i in 1:15\n",
    "println(as_matrix11[i])\n",
    "end"
   ]
  },
  {
   "cell_type": "code",
   "execution_count": null,
   "metadata": {},
   "outputs": [],
   "source": [
    "as_matrix85 = [[dimlist85[i][j] for j in sort([keys(dimlist85[i])...])] for i in sort([keys(dimlist85)...])]\n",
    "for i in 1:15\n",
    "println(as_matrix85[i])\n",
    "end"
   ]
  },
  {
   "cell_type": "code",
   "execution_count": null,
   "metadata": {
    "scrolled": false
   },
   "outputs": [],
   "source": [
    "as_matrix23 = [[dimlist23[i][j] for j in sort([keys(dimlist23[i])...])] for i in sort([keys(dimlist23)...])]\n",
    "as_matrix1001 = [[dimlist1001[i][j] for j in sort([keys(dimlist1001[i])...])] for i in sort([keys(dimlist1001)...])]\n",
    "as_vector11 = vcat(as_matrix11...)\n",
    "as_vector23 = vcat(as_matrix23...)\n",
    "as_vector1001 = vcat(as_matrix1001...)\n",
    "as_vector23-as_vector11 + as_vector1001-as_vector11"
   ]
  },
  {
   "cell_type": "code",
   "execution_count": null,
   "metadata": {},
   "outputs": [],
   "source": [
    "oeis_data = Dict{Int64, Int64}()\n",
    "f = open(\"../data/b058398.txt\", \"r\")\n",
    "for lines in readlines(f)\n",
    " \n",
    "    s = split(lines,\" \")\n",
    "    position = parse(Int64, s[1])\n",
    "    dimension = parse(Int64, s[2])\n",
    "    oeis_data[position] = dimension\n",
    " \n",
    "end\n",
    "close(f)\n",
    "oeis_data"
   ]
  }
 ],
 "metadata": {
  "kernelspec": {
   "display_name": "Julia 1.8.5",
   "language": "julia",
   "name": "julia-1.8"
  },
  "language_info": {
   "file_extension": ".jl",
   "mimetype": "application/julia",
   "name": "julia",
   "version": "1.8.5"
  }
 },
 "nbformat": 4,
 "nbformat_minor": 4
}
